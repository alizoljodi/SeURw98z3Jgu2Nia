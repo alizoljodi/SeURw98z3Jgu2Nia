{
 "cells": [
  {
   "cell_type": "markdown",
   "id": "10c04fa4-6209-4a76-8a6a-60641be034e1",
   "metadata": {},
   "source": [
    "# Happy Customer Project\n",
    "\n",
    "As one of the fastest-growing startups in the logistics and delivery domain, we believe that happy customers are essential to our success. Therefore, it is crucial to analyze their feedback about our services, identify areas of dissatisfaction, and propose solutions to address these drawbacks effectively.\n",
    "\n",
    "Gathering feedback from customers is always a challenging task. Collecting sufficient data, analyzing feedback, and drawing meaningful insights require significant resources. For small companies like ours, it may not always be feasible to gather enough data and conduct a comprehensive analysis.\n",
    "\n",
    "The limited amount of feedback presents a significant challenge for analytics. Misinterpreting the available data could have a counterproductive effect on performance, potentially making customers even more dissatisfied.\n",
    "\n",
    "Therefore, it is crucial to approach analytics with sensitivity, handle the data with extra caution, and provide robust justification for the accuracy and generalizability of our analyses and predictive models.\n",
    "\n",
    "In this report, we present a comprehensive and systematic analysis of our recently gathered customer feedback. Additionally, we introduce a generalized and accurate predictive model that can forecast customer satisfaction based on their feedback and rank the most crucial features that customers prioritize when engaging with our company.\n",
    "\n",
    "Through this report, we first present the results of exploratory data analysis derived from the feedback data we gathered. Next, we discuss various potential predictive models capable of making efficient predictions based on the characteristics of our dataset. Finally, we provide the prediction results using the best-selected models, evaluated from two key perspectives: accuracy and generalization."
   ]
  },
  {
   "cell_type": "markdown",
   "id": "cd3fbf94-0104-4b46-8d02-c08a88fa4c9c",
   "metadata": {},
   "source": [
    "## Exploratory Data Analysis (EDA)\n",
    "\n",
    "Exploratory Data Analysis (EDA) is the first step we take to understand the quality and quantity of our gathered data and uncover patterns. Through this type of analysis, we identify missing data, redundant entries, and outliers. Additionally, we analyze the dependency among input features to ensure they are sufficiently independent, which is critical for reliable analysis and modeling."
   ]
  },
  {
   "cell_type": "code",
   "execution_count": 456,
   "id": "67abc999-3d0c-4cb2-b51f-93e2a1b6f8de",
   "metadata": {},
   "outputs": [
    {
     "name": "stderr",
     "output_type": "stream",
     "text": [
      "DEBUG:matplotlib.pyplot:Loaded backend inline version unknown.\n"
     ]
    }
   ],
   "source": [
    "# import packages\n",
    "import pandas as pd\n",
    "import matplotlib.pyplot as plt\n",
    "import seaborn as sns\n",
    "import numpy as np\n",
    "from scipy import stats\n",
    "\n",
    "%matplotlib inline"
   ]
  },
  {
   "cell_type": "code",
   "execution_count": 458,
   "id": "23bcdec1-78de-4f16-8872-d35557eb2acf",
   "metadata": {},
   "outputs": [],
   "source": [
    "import warnings\n",
    "warnings.filterwarnings(\"ignore\")"
   ]
  },
  {
   "cell_type": "code",
   "execution_count": 460,
   "id": "da7536b4-5e38-4d82-8b9b-58534870b575",
   "metadata": {},
   "outputs": [],
   "source": [
    "#load the data\n",
    "happy_unhapp_feedback= pd.read_csv(r\"ACME-HappinessSurvey2020.csv\")"
   ]
  },
  {
   "cell_type": "markdown",
   "id": "7487f80d-28e5-4154-b22d-6a538ea8e36b",
   "metadata": {},
   "source": [
    "### Understand the DATA\n",
    "\n",
    "In this section, we preview the data shape, head, tail, and the distribution of our data."
   ]
  },
  {
   "cell_type": "code",
   "execution_count": 463,
   "id": "1c479c3c-593a-4283-a5f2-e8b3f5011e9d",
   "metadata": {},
   "outputs": [
    {
     "data": {
      "text/html": [
       "<div>\n",
       "<style scoped>\n",
       "    .dataframe tbody tr th:only-of-type {\n",
       "        vertical-align: middle;\n",
       "    }\n",
       "\n",
       "    .dataframe tbody tr th {\n",
       "        vertical-align: top;\n",
       "    }\n",
       "\n",
       "    .dataframe thead th {\n",
       "        text-align: right;\n",
       "    }\n",
       "</style>\n",
       "<table border=\"1\" class=\"dataframe\">\n",
       "  <thead>\n",
       "    <tr style=\"text-align: right;\">\n",
       "      <th></th>\n",
       "      <th>Y</th>\n",
       "      <th>X1</th>\n",
       "      <th>X2</th>\n",
       "      <th>X3</th>\n",
       "      <th>X4</th>\n",
       "      <th>X5</th>\n",
       "      <th>X6</th>\n",
       "    </tr>\n",
       "  </thead>\n",
       "  <tbody>\n",
       "    <tr>\n",
       "      <th>0</th>\n",
       "      <td>0</td>\n",
       "      <td>3</td>\n",
       "      <td>3</td>\n",
       "      <td>3</td>\n",
       "      <td>4</td>\n",
       "      <td>2</td>\n",
       "      <td>4</td>\n",
       "    </tr>\n",
       "    <tr>\n",
       "      <th>1</th>\n",
       "      <td>0</td>\n",
       "      <td>3</td>\n",
       "      <td>2</td>\n",
       "      <td>3</td>\n",
       "      <td>5</td>\n",
       "      <td>4</td>\n",
       "      <td>3</td>\n",
       "    </tr>\n",
       "    <tr>\n",
       "      <th>2</th>\n",
       "      <td>1</td>\n",
       "      <td>5</td>\n",
       "      <td>3</td>\n",
       "      <td>3</td>\n",
       "      <td>3</td>\n",
       "      <td>3</td>\n",
       "      <td>5</td>\n",
       "    </tr>\n",
       "    <tr>\n",
       "      <th>3</th>\n",
       "      <td>0</td>\n",
       "      <td>5</td>\n",
       "      <td>4</td>\n",
       "      <td>3</td>\n",
       "      <td>3</td>\n",
       "      <td>3</td>\n",
       "      <td>5</td>\n",
       "    </tr>\n",
       "    <tr>\n",
       "      <th>4</th>\n",
       "      <td>0</td>\n",
       "      <td>5</td>\n",
       "      <td>4</td>\n",
       "      <td>3</td>\n",
       "      <td>3</td>\n",
       "      <td>3</td>\n",
       "      <td>5</td>\n",
       "    </tr>\n",
       "  </tbody>\n",
       "</table>\n",
       "</div>"
      ],
      "text/plain": [
       "   Y  X1  X2  X3  X4  X5  X6\n",
       "0  0   3   3   3   4   2   4\n",
       "1  0   3   2   3   5   4   3\n",
       "2  1   5   3   3   3   3   5\n",
       "3  0   5   4   3   3   3   5\n",
       "4  0   5   4   3   3   3   5"
      ]
     },
     "execution_count": 463,
     "metadata": {},
     "output_type": "execute_result"
    }
   ],
   "source": [
    "# View first 5 rows of the data\n",
    "happy_unhapp_feedback.head()"
   ]
  },
  {
   "cell_type": "code",
   "execution_count": 465,
   "id": "901ae9e9-a483-474e-8d95-a7f05fa270ac",
   "metadata": {},
   "outputs": [
    {
     "data": {
      "text/html": [
       "<div>\n",
       "<style scoped>\n",
       "    .dataframe tbody tr th:only-of-type {\n",
       "        vertical-align: middle;\n",
       "    }\n",
       "\n",
       "    .dataframe tbody tr th {\n",
       "        vertical-align: top;\n",
       "    }\n",
       "\n",
       "    .dataframe thead th {\n",
       "        text-align: right;\n",
       "    }\n",
       "</style>\n",
       "<table border=\"1\" class=\"dataframe\">\n",
       "  <thead>\n",
       "    <tr style=\"text-align: right;\">\n",
       "      <th></th>\n",
       "      <th>Y</th>\n",
       "      <th>X1</th>\n",
       "      <th>X2</th>\n",
       "      <th>X3</th>\n",
       "      <th>X4</th>\n",
       "      <th>X5</th>\n",
       "      <th>X6</th>\n",
       "    </tr>\n",
       "  </thead>\n",
       "  <tbody>\n",
       "    <tr>\n",
       "      <th>121</th>\n",
       "      <td>1</td>\n",
       "      <td>5</td>\n",
       "      <td>2</td>\n",
       "      <td>3</td>\n",
       "      <td>4</td>\n",
       "      <td>4</td>\n",
       "      <td>3</td>\n",
       "    </tr>\n",
       "    <tr>\n",
       "      <th>122</th>\n",
       "      <td>1</td>\n",
       "      <td>5</td>\n",
       "      <td>2</td>\n",
       "      <td>3</td>\n",
       "      <td>4</td>\n",
       "      <td>2</td>\n",
       "      <td>5</td>\n",
       "    </tr>\n",
       "    <tr>\n",
       "      <th>123</th>\n",
       "      <td>1</td>\n",
       "      <td>5</td>\n",
       "      <td>3</td>\n",
       "      <td>3</td>\n",
       "      <td>4</td>\n",
       "      <td>4</td>\n",
       "      <td>5</td>\n",
       "    </tr>\n",
       "    <tr>\n",
       "      <th>124</th>\n",
       "      <td>0</td>\n",
       "      <td>4</td>\n",
       "      <td>3</td>\n",
       "      <td>3</td>\n",
       "      <td>4</td>\n",
       "      <td>4</td>\n",
       "      <td>5</td>\n",
       "    </tr>\n",
       "    <tr>\n",
       "      <th>125</th>\n",
       "      <td>0</td>\n",
       "      <td>5</td>\n",
       "      <td>3</td>\n",
       "      <td>2</td>\n",
       "      <td>5</td>\n",
       "      <td>5</td>\n",
       "      <td>5</td>\n",
       "    </tr>\n",
       "  </tbody>\n",
       "</table>\n",
       "</div>"
      ],
      "text/plain": [
       "     Y  X1  X2  X3  X4  X5  X6\n",
       "121  1   5   2   3   4   4   3\n",
       "122  1   5   2   3   4   2   5\n",
       "123  1   5   3   3   4   4   5\n",
       "124  0   4   3   3   4   4   5\n",
       "125  0   5   3   2   5   5   5"
      ]
     },
     "execution_count": 465,
     "metadata": {},
     "output_type": "execute_result"
    }
   ],
   "source": [
    "# View last 5 rows of the data\n",
    "happy_unhapp_feedback.tail()"
   ]
  },
  {
   "cell_type": "markdown",
   "id": "2050ddec-3fb4-460c-9a11-4c946c04d414",
   "metadata": {},
   "source": [
    "Printing a few rows of the data provides an essential overview of the dataset, such as its structure, potential data entry issues, and formatting problems. It offers an early glimpse into the data, helping to uncover significant issues before proceeding with more complex analyses.\n",
    "As is evident, our data does not show any inconsistencies in the preview section, allowing us to proceed to the next phase of analysis."
   ]
  },
  {
   "cell_type": "code",
   "execution_count": 468,
   "id": "b3ddbc61-4b3c-4fe6-999c-fadb28ef87a7",
   "metadata": {},
   "outputs": [
    {
     "name": "stdout",
     "output_type": "stream",
     "text": [
      "Rows count: 126, Columns count: 7\n"
     ]
    }
   ],
   "source": [
    "# Print number of rows and columns (data dimension)\n",
    "\n",
    "print(f\"Rows count: {happy_unhapp_feedback.shape[0]}, Columns count: {happy_unhapp_feedback.shape[1]}\")"
   ]
  },
  {
   "cell_type": "markdown",
   "id": "ec5ef10f-537f-4706-b161-1433ca719a4b",
   "metadata": {},
   "source": [
    "The dataset contains 126 samples that represents the relationship between 6 features and customers happyness."
   ]
  },
  {
   "cell_type": "markdown",
   "id": "1a8c82cc-1128-433f-a1ce-39d2f22de893",
   "metadata": {},
   "source": [
    "### Get data description\n",
    "In this section, we analysis the dataset to determine wheter it contains null value set for each feature."
   ]
  },
  {
   "cell_type": "code",
   "execution_count": 472,
   "id": "da4b44b7-a17f-4c54-8972-4f9d54b388d3",
   "metadata": {},
   "outputs": [
    {
     "name": "stdout",
     "output_type": "stream",
     "text": [
      "<class 'pandas.core.frame.DataFrame'>\n",
      "RangeIndex: 126 entries, 0 to 125\n",
      "Data columns (total 7 columns):\n",
      " #   Column  Non-Null Count  Dtype\n",
      "---  ------  --------------  -----\n",
      " 0   Y       126 non-null    int64\n",
      " 1   X1      126 non-null    int64\n",
      " 2   X2      126 non-null    int64\n",
      " 3   X3      126 non-null    int64\n",
      " 4   X4      126 non-null    int64\n",
      " 5   X5      126 non-null    int64\n",
      " 6   X6      126 non-null    int64\n",
      "dtypes: int64(7)\n",
      "memory usage: 7.0 KB\n"
     ]
    }
   ],
   "source": [
    "happy_unhapp_feedback.info()"
   ]
  },
  {
   "cell_type": "markdown",
   "id": "62af5b7f-78fe-4223-a34e-26dc3bb41e96",
   "metadata": {},
   "source": [
    "The analysis determined that none of the dataset's features or outputs contain null values, so there is no need to implement a null value handling strategy."
   ]
  },
  {
   "cell_type": "markdown",
   "id": "3d9c7c0c-cbfa-4b7b-8b8a-4b3848501160",
   "metadata": {},
   "source": [
    "### Data Description Analysis\n",
    "\n",
    "In this section, we get a description about the distribution of the data in each column. This analysis reveal the outliers in values."
   ]
  },
  {
   "cell_type": "code",
   "execution_count": 476,
   "id": "39069b6f-a3eb-4a7f-b39a-d2a7a7df88c0",
   "metadata": {},
   "outputs": [
    {
     "data": {
      "text/html": [
       "<div>\n",
       "<style scoped>\n",
       "    .dataframe tbody tr th:only-of-type {\n",
       "        vertical-align: middle;\n",
       "    }\n",
       "\n",
       "    .dataframe tbody tr th {\n",
       "        vertical-align: top;\n",
       "    }\n",
       "\n",
       "    .dataframe thead th {\n",
       "        text-align: right;\n",
       "    }\n",
       "</style>\n",
       "<table border=\"1\" class=\"dataframe\">\n",
       "  <thead>\n",
       "    <tr style=\"text-align: right;\">\n",
       "      <th></th>\n",
       "      <th>Y</th>\n",
       "      <th>X1</th>\n",
       "      <th>X2</th>\n",
       "      <th>X3</th>\n",
       "      <th>X4</th>\n",
       "      <th>X5</th>\n",
       "      <th>X6</th>\n",
       "    </tr>\n",
       "  </thead>\n",
       "  <tbody>\n",
       "    <tr>\n",
       "      <th>count</th>\n",
       "      <td>126.00</td>\n",
       "      <td>126.00</td>\n",
       "      <td>126.00</td>\n",
       "      <td>126.00</td>\n",
       "      <td>126.00</td>\n",
       "      <td>126.00</td>\n",
       "      <td>126.00</td>\n",
       "    </tr>\n",
       "    <tr>\n",
       "      <th>mean</th>\n",
       "      <td>0.55</td>\n",
       "      <td>4.33</td>\n",
       "      <td>2.53</td>\n",
       "      <td>3.31</td>\n",
       "      <td>3.75</td>\n",
       "      <td>3.65</td>\n",
       "      <td>4.25</td>\n",
       "    </tr>\n",
       "    <tr>\n",
       "      <th>std</th>\n",
       "      <td>0.50</td>\n",
       "      <td>0.80</td>\n",
       "      <td>1.11</td>\n",
       "      <td>1.02</td>\n",
       "      <td>0.88</td>\n",
       "      <td>1.15</td>\n",
       "      <td>0.81</td>\n",
       "    </tr>\n",
       "    <tr>\n",
       "      <th>min</th>\n",
       "      <td>0.00</td>\n",
       "      <td>1.00</td>\n",
       "      <td>1.00</td>\n",
       "      <td>1.00</td>\n",
       "      <td>1.00</td>\n",
       "      <td>1.00</td>\n",
       "      <td>1.00</td>\n",
       "    </tr>\n",
       "    <tr>\n",
       "      <th>25%</th>\n",
       "      <td>0.00</td>\n",
       "      <td>4.00</td>\n",
       "      <td>2.00</td>\n",
       "      <td>3.00</td>\n",
       "      <td>3.00</td>\n",
       "      <td>3.00</td>\n",
       "      <td>4.00</td>\n",
       "    </tr>\n",
       "    <tr>\n",
       "      <th>50%</th>\n",
       "      <td>1.00</td>\n",
       "      <td>5.00</td>\n",
       "      <td>3.00</td>\n",
       "      <td>3.00</td>\n",
       "      <td>4.00</td>\n",
       "      <td>4.00</td>\n",
       "      <td>4.00</td>\n",
       "    </tr>\n",
       "    <tr>\n",
       "      <th>75%</th>\n",
       "      <td>1.00</td>\n",
       "      <td>5.00</td>\n",
       "      <td>3.00</td>\n",
       "      <td>4.00</td>\n",
       "      <td>4.00</td>\n",
       "      <td>4.00</td>\n",
       "      <td>5.00</td>\n",
       "    </tr>\n",
       "    <tr>\n",
       "      <th>max</th>\n",
       "      <td>1.00</td>\n",
       "      <td>5.00</td>\n",
       "      <td>5.00</td>\n",
       "      <td>5.00</td>\n",
       "      <td>5.00</td>\n",
       "      <td>5.00</td>\n",
       "      <td>5.00</td>\n",
       "    </tr>\n",
       "  </tbody>\n",
       "</table>\n",
       "</div>"
      ],
      "text/plain": [
       "           Y     X1     X2     X3     X4     X5     X6\n",
       "count 126.00 126.00 126.00 126.00 126.00 126.00 126.00\n",
       "mean    0.55   4.33   2.53   3.31   3.75   3.65   4.25\n",
       "std     0.50   0.80   1.11   1.02   0.88   1.15   0.81\n",
       "min     0.00   1.00   1.00   1.00   1.00   1.00   1.00\n",
       "25%     0.00   4.00   2.00   3.00   3.00   3.00   4.00\n",
       "50%     1.00   5.00   3.00   3.00   4.00   4.00   4.00\n",
       "75%     1.00   5.00   3.00   4.00   4.00   4.00   5.00\n",
       "max     1.00   5.00   5.00   5.00   5.00   5.00   5.00"
      ]
     },
     "execution_count": 476,
     "metadata": {},
     "output_type": "execute_result"
    }
   ],
   "source": [
    "happy_unhapp_feedback.describe()"
   ]
  },
  {
   "cell_type": "markdown",
   "id": "ff6bde1c-cbc9-422a-a70c-89622cfb6e67",
   "metadata": {},
   "source": [
    "By analysing the data description, we can suggest following findings from the data,\n",
    "- Since the target variable Y has two possible outcomes, 1 (happy) and 0 (unhappy)—an ideal mean value of 0.5 would indicate an equal number of samples for both outcomes. However, the mean value of Y is 0.547, suggesting a slight imbalance in the data distribution. This highlights the need for increased caution to prevent bias in the predictions of the designed model.\n",
    "- For input features, the mean and median (50th percentile) are slightly departed from each other.\n",
    "- For features X1 and X6, the data distribution is very narrow and the variability is low. Which may indicates that features X1 and X6 have lower effect on the prediction and their value may not provide enough insight to the output.\n",
    "- For some features the distance between max and 75th quartile is large like feature X2. In contrast, for some other features such as X1,X3,X4,X5, and X6 the distance between min and 25th quartile is large. That may indicates outliers in the input, which requires more investigation."
   ]
  },
  {
   "cell_type": "markdown",
   "id": "1633e81d-3201-4dee-be53-ecf1cf3b5871",
   "metadata": {},
   "source": [
    "### Identify features with low variance"
   ]
  },
  {
   "cell_type": "code",
   "execution_count": 480,
   "id": "727f2588-c680-479f-91aa-e38d8f24701f",
   "metadata": {},
   "outputs": [
    {
     "data": {
      "text/plain": [
       "[{'X1': 0.64},\n",
       " {'X2': 1.2429841269841277},\n",
       " {'X3': 1.0474285714285732},\n",
       " {'X4': 0.7669841269841263},\n",
       " {'X5': 1.3170793650793648},\n",
       " {'X6': 0.6549841269841268}]"
      ]
     },
     "execution_count": 480,
     "metadata": {},
     "output_type": "execute_result"
    }
   ],
   "source": [
    "x= happy_unhapp_feedback.iloc[:,1:]\n",
    "\n",
    "variances = [{col:x[col].var()} for col in x.columns]\n",
    "variances"
   ]
  },
  {
   "cell_type": "markdown",
   "id": "d5a3489a-faa8-4960-a09e-53fa2e336469",
   "metadata": {},
   "source": [
    "The variance of a feature reflects its variability, which can indicate how dispersed its values are. Features with higher variability are often considered more informative, as they tend to contain more distinct values and, therefore, potentially more information. This concept is rooted in Shannon entropy theory, which suggests that features with greater variability have higher entropy, representing more uncertainty and, consequently, more information content.\n",
    "\n",
    "Based on this theory, features can be ranked by their variance to estimate their importance. This ranking assumes that features with higher variance are more likely to contribute meaningful information to a machine learning model.\n",
    "\n",
    "    1- X5\n",
    "    2- X2\n",
    "    3- X3\n",
    "    4- X4\n",
    "    5- X6\n",
    "    6- X1\n"
   ]
  },
  {
   "cell_type": "markdown",
   "id": "082a833a-d6b1-40b0-bf47-2062f7e2c61c",
   "metadata": {},
   "source": [
    "### Analysing the correlation between features\n",
    "The intense correlation between two or more features may lead to overfit in linear regression. Therefore, here we represent the correlation between features."
   ]
  },
  {
   "cell_type": "code",
   "execution_count": 484,
   "id": "22dd5abb-16b5-474a-97e7-5547149f0c78",
   "metadata": {},
   "outputs": [
    {
     "name": "stderr",
     "output_type": "stream",
     "text": [
      "DEBUG:matplotlib.colorbar:locator: <matplotlib.ticker.AutoLocator object at 0x000001696B4D8050>\n"
     ]
    },
    {
     "data": {
      "image/png": "[encoded data removed]",
      "text/plain": [
       "<Figure size 640x480 with 2 Axes>"
      ]
     },
     "metadata": {},
     "output_type": "display_data"
    }
   ],
   "source": [
    "corr=happy_unhapp_feedback.select_dtypes(\"number\").corr()\n",
    "sns.heatmap(corr,annot=True)\n",
    "plt.show()"
   ]
  },
  {
   "cell_type": "markdown",
   "id": "48a70fb4-a486-41d7-ab91-9a27a1b758ed",
   "metadata": {},
   "source": [
    "The high correlation between features often provides evidence that one of the features might be redundant. However, the highest absolute correlation in our case occurs between features X1 and X5, with a value of 0.43. This correlation is relatively low and does not fall into the range classified as high (|r| > 0.9) or moderate (0.7 ≤ |r| ≤ 0.9). Therefore, we can confidently conclude that the correlation between features in this dataset does not introduce redundancy or perturb our predictions."
   ]
  },
  {
   "cell_type": "markdown",
   "id": "2bd9eda8-78e3-4e4a-ad42-5cc75eb7ea68",
   "metadata": {},
   "source": [
    "### Analysing features distribtuion and outliers\n",
    "\n",
    "By analysing the data description, we can suggest following findings from the data,\n",
    "- Since the target variable Y has two possible outcomes, 1 (happy) and 0 (unhappy), an ideal mean value of 0.5 would indicate an equal number of samples for both outcomes. However, the mean value of Y is 0.547, suggesting a slight imbalance in the data distribution. This highlights the need for increased caution to prevent bias in the predictions of the designed model.\n",
    "- For input features, the mean and median (50th percentile) are slightly departed from each other.\n",
    "- For features X1 and X6, the data distribution is very narrow and the variability is low. Which may indicates that features X1 and X6 have lower effect on the prediction and their value may not provide enough insight to the output.\n",
    "- For some features the distance between max and 75th quartile is large like feature X2. In contrast, for some other features such as X1,X3,X4,X5, and X6 the distance between min and 25th quartile is large. That may indicates outliers in the input, which requires more investigation."
   ]
  },
  {
   "cell_type": "code",
   "execution_count": 488,
   "id": "afa0b378-bda0-44cc-8c56-320c6d14412d",
   "metadata": {},
   "outputs": [
    {
     "data": {
      "image/png": "[encoded data removed]",
      "text/plain": [
       "<Figure size 700x200 with 1 Axes>"
      ]
     },
     "metadata": {},
     "output_type": "display_data"
    },
    {
     "data": {
      "image/png": "[encoded data removed]",
      "text/plain": [
       "<Figure size 700x200 with 1 Axes>"
      ]
     },
     "metadata": {},
     "output_type": "display_data"
    },
    {
     "data": {
      "image/png": "[encoded data removed]",
      "text/plain": [
       "<Figure size 700x200 with 1 Axes>"
      ]
     },
     "metadata": {},
     "output_type": "display_data"
    },
    {
     "data": {
      "image/png": "[encoded data removed]",
      "text/plain": [
       "<Figure size 700x200 with 1 Axes>"
      ]
     },
     "metadata": {},
     "output_type": "display_data"
    },
    {
     "data": {
      "image/png": "[encoded data removed]",
      "text/plain": [
       "<Figure size 700x200 with 1 Axes>"
      ]
     },
     "metadata": {},
     "output_type": "display_data"
    },
    {
     "data": {
      "image/png": "[encoded data removed]",
      "text/plain": [
       "<Figure size 700x200 with 1 Axes>"
      ]
     },
     "metadata": {},
     "output_type": "display_data"
    },
    {
     "data": {
      "image/png": "[encoded data removed]",
      "text/plain": [
       "<Figure size 700x200 with 1 Axes>"
      ]
     },
     "metadata": {},
     "output_type": "display_data"
    }
   ],
   "source": [
    "#boxplot\n",
    "for feature in happy_unhapp_feedback.columns:\n",
    "    plt.figure(figsize=(7, 2))  \n",
    "    sns.boxplot(data=happy_unhapp_feedback, x=feature)\n",
    "    plt.title(f\"Boxplot for {feature}\")  \n",
    "    plt.xlabel(feature)  \n",
    "plt.show()"
   ]
  },
  {
   "cell_type": "code",
   "execution_count": 489,
   "id": "041685eb-79f0-44db-b615-2d25985a0b2f",
   "metadata": {},
   "outputs": [
    {
     "data": {
      "image/png": "[encoded data removed]",
      "text/plain": [
       "<Figure size 700x100 with 1 Axes>"
      ]
     },
     "metadata": {},
     "output_type": "display_data"
    },
    {
     "data": {
      "image/png": "[encoded data removed]",
      "text/plain": [
       "<Figure size 700x100 with 1 Axes>"
      ]
     },
     "metadata": {},
     "output_type": "display_data"
    },
    {
     "data": {
      "image/png": "[encoded data removed]",
      "text/plain": [
       "<Figure size 700x100 with 1 Axes>"
      ]
     },
     "metadata": {},
     "output_type": "display_data"
    },
    {
     "data": {
      "image/png": "[encoded data removed]",
      "text/plain": [
       "<Figure size 700x100 with 1 Axes>"
      ]
     },
     "metadata": {},
     "output_type": "display_data"
    },
    {
     "data": {
      "image/png": "[encoded data removed]",
      "text/plain": [
       "<Figure size 700x100 with 1 Axes>"
      ]
     },
     "metadata": {},
     "output_type": "display_data"
    },
    {
     "data": {
      "image/png": "[encoded data removed]",
      "text/plain": [
       "<Figure size 700x100 with 1 Axes>"
      ]
     },
     "metadata": {},
     "output_type": "display_data"
    },
    {
     "data": {
      "image/png": "[encoded data removed]",
      "text/plain": [
       "<Figure size 700x100 with 1 Axes>"
      ]
     },
     "metadata": {},
     "output_type": "display_data"
    }
   ],
   "source": [
    "#display data distribution\n",
    "for feature in happy_unhapp_feedback:\n",
    "    plt.figure(figsize=(7,1))\n",
    "    sns.distplot(happy_unhapp_feedback[feature])\n",
    "    plt.title(f\"Boxplot for {feature}\")  \n",
    "    plt.xlabel(feature)  \n",
    "plt.show()"
   ]
  },
  {
   "cell_type": "markdown",
   "id": "193450a0-2200-45ae-a936-394d9f9d28ba",
   "metadata": {},
   "source": [
    "### Average answers to each questions for happy/unhappy customers\n",
    "We compute the average answers of customers for questions we asked. The most meaningfull differences are\n",
    "observed for question 1, 3,5 and 6."
   ]
  },
  {
   "cell_type": "code",
   "execution_count": 493,
   "id": "666a488a-79ce-4265-b548-3c0431b690cb",
   "metadata": {},
   "outputs": [
    {
     "name": "stdout",
     "output_type": "stream",
     "text": [
      "  Feature  Average (Y=0)  Average (Y=1)\n",
      "0      X1           4.09           4.54\n",
      "1      X2           2.56           2.51\n",
      "2      X3           3.14           3.45\n",
      "3      X4           3.68           3.80\n",
      "4      X5           3.37           3.88\n",
      "5      X6           4.11           4.38\n"
     ]
    }
   ],
   "source": [
    "# Group data by 'Y' and compute the mean for each group\n",
    "grouped_averages = happy_unhapp_feedback.groupby('Y').mean()\n",
    "\n",
    "# Extract averages for Y=0 and Y=1\n",
    "averages_y0 = grouped_averages.loc[0]\n",
    "averages_y1 = grouped_averages.loc[1]\n",
    "\n",
    "# Combine the results into a summary DataFrame\n",
    "summary_df = pd.DataFrame({\n",
    "    'Feature': happy_unhapp_feedback.columns[1:],  # Exclude 'Y' itself\n",
    "    'Average (Y=0)': averages_y0.values,  # Exclude the 'Y' column\n",
    "    'Average (Y=1)': averages_y1.values  # Exclude the 'Y' column\n",
    "})\n",
    "\n",
    "summary_df.reset_index(drop=True, inplace=True)\n",
    "\n",
    "# Display the summary DataFrame\n",
    "print(summary_df)\n"
   ]
  },
  {
   "cell_type": "markdown",
   "id": "a38a365e-c025-4140-90e8-d56803ef2feb",
   "metadata": {},
   "source": [
    "### Features relationship with the label"
   ]
  },
  {
   "cell_type": "markdown",
   "id": "3fbfcb22-33bd-4500-8e21-a6296c46c429",
   "metadata": {},
   "source": [
    "#### How we can rank the mutual information between each question and the satisfaction state?\n",
    "\n",
    "We compute the mutual information between features and the output for 10 different seeds. The results suggest\n",
    "that the feature X2 has 0 mutual information with the output and we can remove it from input sets."
   ]
  },
  {
   "cell_type": "code",
   "execution_count": 497,
   "id": "af5de881-c46a-4c35-a724-90573d0cf42b",
   "metadata": {},
   "outputs": [],
   "source": [
    "# To have a generalized prediction results we run model selection one a set of random seeds\n",
    "random_states=[392, 406, 393, 221, 845, 638, 226, 958, 660, 491] #[i for i in range(1000)]#np.random.randint(1,1000,100) #Generate 100 random values to set for models random seed and get the average of them]"
   ]
  },
  {
   "cell_type": "code",
   "execution_count": 499,
   "id": "e5731f8f-b1ab-4d54-8c12-f4c9850f145e",
   "metadata": {},
   "outputs": [],
   "source": [
    "from sklearn.feature_selection import mutual_info_classif\n",
    "\n",
    "x= happy_unhapp_feedback.iloc[:,1:]\n",
    "y=happy_unhapp_feedback.iloc[:,0]\n",
    "\n",
    "\n",
    "all_random_seeds_mutual_info=[]\n",
    "for state in random_states:\n",
    "    mutual_info=mutual_info_classif(x,y,random_state=state)\n",
    "    all_random_seeds_mutual_info.append(mutual_info)\n",
    "#Get the average of metrics across all runs\n",
    "#combined_results_mutual_info=pd.concat(all_random_seeds_mutual_info)#.reset_index()\n",
    "#print(all_random_seeds_mutual_info[0].shape)\n",
    "mutual_info_df = pd.DataFrame(all_random_seeds_mutual_info, columns=x.columns)\n",
    "\n",
    "#importance=pd.Series(mutual_info,index=x.columns).reset_index().sort_values(by=0,ascending=False)"
   ]
  },
  {
   "cell_type": "code",
   "execution_count": 501,
   "id": "0a6abfda-d02d-4996-9166-03e5944ab61c",
   "metadata": {},
   "outputs": [
    {
     "data": {
      "text/html": [
       "<div>\n",
       "<style scoped>\n",
       "    .dataframe tbody tr th:only-of-type {\n",
       "        vertical-align: middle;\n",
       "    }\n",
       "\n",
       "    .dataframe tbody tr th {\n",
       "        vertical-align: top;\n",
       "    }\n",
       "\n",
       "    .dataframe thead th {\n",
       "        text-align: right;\n",
       "    }\n",
       "</style>\n",
       "<table border=\"1\" class=\"dataframe\">\n",
       "  <thead>\n",
       "    <tr style=\"text-align: right;\">\n",
       "      <th></th>\n",
       "      <th>X1</th>\n",
       "      <th>X2</th>\n",
       "      <th>X3</th>\n",
       "      <th>X4</th>\n",
       "      <th>X5</th>\n",
       "      <th>X6</th>\n",
       "    </tr>\n",
       "  </thead>\n",
       "  <tbody>\n",
       "    <tr>\n",
       "      <th>0</th>\n",
       "      <td>0.00</td>\n",
       "      <td>0.00</td>\n",
       "      <td>0.00</td>\n",
       "      <td>0.07</td>\n",
       "      <td>0.00</td>\n",
       "      <td>0.02</td>\n",
       "    </tr>\n",
       "    <tr>\n",
       "      <th>1</th>\n",
       "      <td>0.07</td>\n",
       "      <td>0.00</td>\n",
       "      <td>0.02</td>\n",
       "      <td>0.02</td>\n",
       "      <td>0.06</td>\n",
       "      <td>0.04</td>\n",
       "    </tr>\n",
       "    <tr>\n",
       "      <th>2</th>\n",
       "      <td>0.03</td>\n",
       "      <td>0.00</td>\n",
       "      <td>0.00</td>\n",
       "      <td>0.03</td>\n",
       "      <td>0.00</td>\n",
       "      <td>0.03</td>\n",
       "    </tr>\n",
       "    <tr>\n",
       "      <th>3</th>\n",
       "      <td>0.07</td>\n",
       "      <td>0.00</td>\n",
       "      <td>0.03</td>\n",
       "      <td>0.04</td>\n",
       "      <td>0.02</td>\n",
       "      <td>0.00</td>\n",
       "    </tr>\n",
       "    <tr>\n",
       "      <th>4</th>\n",
       "      <td>0.08</td>\n",
       "      <td>0.00</td>\n",
       "      <td>0.00</td>\n",
       "      <td>0.00</td>\n",
       "      <td>0.00</td>\n",
       "      <td>0.03</td>\n",
       "    </tr>\n",
       "    <tr>\n",
       "      <th>5</th>\n",
       "      <td>0.03</td>\n",
       "      <td>0.00</td>\n",
       "      <td>0.00</td>\n",
       "      <td>0.00</td>\n",
       "      <td>0.01</td>\n",
       "      <td>0.00</td>\n",
       "    </tr>\n",
       "    <tr>\n",
       "      <th>6</th>\n",
       "      <td>0.13</td>\n",
       "      <td>0.00</td>\n",
       "      <td>0.00</td>\n",
       "      <td>0.03</td>\n",
       "      <td>0.00</td>\n",
       "      <td>0.01</td>\n",
       "    </tr>\n",
       "    <tr>\n",
       "      <th>7</th>\n",
       "      <td>0.02</td>\n",
       "      <td>0.00</td>\n",
       "      <td>0.00</td>\n",
       "      <td>0.01</td>\n",
       "      <td>0.01</td>\n",
       "      <td>0.11</td>\n",
       "    </tr>\n",
       "    <tr>\n",
       "      <th>8</th>\n",
       "      <td>0.07</td>\n",
       "      <td>0.00</td>\n",
       "      <td>0.00</td>\n",
       "      <td>0.02</td>\n",
       "      <td>0.00</td>\n",
       "      <td>0.01</td>\n",
       "    </tr>\n",
       "    <tr>\n",
       "      <th>9</th>\n",
       "      <td>0.08</td>\n",
       "      <td>0.00</td>\n",
       "      <td>0.00</td>\n",
       "      <td>0.06</td>\n",
       "      <td>0.07</td>\n",
       "      <td>0.06</td>\n",
       "    </tr>\n",
       "  </tbody>\n",
       "</table>\n",
       "</div>"
      ],
      "text/plain": [
       "    X1   X2   X3   X4   X5   X6\n",
       "0 0.00 0.00 0.00 0.07 0.00 0.02\n",
       "1 0.07 0.00 0.02 0.02 0.06 0.04\n",
       "2 0.03 0.00 0.00 0.03 0.00 0.03\n",
       "3 0.07 0.00 0.03 0.04 0.02 0.00\n",
       "4 0.08 0.00 0.00 0.00 0.00 0.03\n",
       "5 0.03 0.00 0.00 0.00 0.01 0.00\n",
       "6 0.13 0.00 0.00 0.03 0.00 0.01\n",
       "7 0.02 0.00 0.00 0.01 0.01 0.11\n",
       "8 0.07 0.00 0.00 0.02 0.00 0.01\n",
       "9 0.08 0.00 0.00 0.06 0.07 0.06"
      ]
     },
     "execution_count": 501,
     "metadata": {},
     "output_type": "execute_result"
    }
   ],
   "source": [
    "mutual_info_df"
   ]
  },
  {
   "cell_type": "code",
   "execution_count": 503,
   "id": "c9c0e870-541f-44bc-aa4b-dd9fa335e246",
   "metadata": {},
   "outputs": [
    {
     "data": {
      "text/html": [
       "<div>\n",
       "<style scoped>\n",
       "    .dataframe tbody tr th:only-of-type {\n",
       "        vertical-align: middle;\n",
       "    }\n",
       "\n",
       "    .dataframe tbody tr th {\n",
       "        vertical-align: top;\n",
       "    }\n",
       "\n",
       "    .dataframe thead th {\n",
       "        text-align: right;\n",
       "    }\n",
       "</style>\n",
       "<table border=\"1\" class=\"dataframe\">\n",
       "  <thead>\n",
       "    <tr style=\"text-align: right;\">\n",
       "      <th></th>\n",
       "      <th>X1</th>\n",
       "      <th>X2</th>\n",
       "      <th>X3</th>\n",
       "      <th>X4</th>\n",
       "      <th>X5</th>\n",
       "      <th>X6</th>\n",
       "    </tr>\n",
       "  </thead>\n",
       "  <tbody>\n",
       "    <tr>\n",
       "      <th>count</th>\n",
       "      <td>10.00</td>\n",
       "      <td>10.00</td>\n",
       "      <td>10.00</td>\n",
       "      <td>10.00</td>\n",
       "      <td>10.00</td>\n",
       "      <td>10.00</td>\n",
       "    </tr>\n",
       "    <tr>\n",
       "      <th>mean</th>\n",
       "      <td>0.06</td>\n",
       "      <td>0.00</td>\n",
       "      <td>0.01</td>\n",
       "      <td>0.03</td>\n",
       "      <td>0.02</td>\n",
       "      <td>0.03</td>\n",
       "    </tr>\n",
       "    <tr>\n",
       "      <th>std</th>\n",
       "      <td>0.04</td>\n",
       "      <td>0.00</td>\n",
       "      <td>0.01</td>\n",
       "      <td>0.02</td>\n",
       "      <td>0.02</td>\n",
       "      <td>0.03</td>\n",
       "    </tr>\n",
       "    <tr>\n",
       "      <th>min</th>\n",
       "      <td>0.00</td>\n",
       "      <td>0.00</td>\n",
       "      <td>0.00</td>\n",
       "      <td>0.00</td>\n",
       "      <td>0.00</td>\n",
       "      <td>0.00</td>\n",
       "    </tr>\n",
       "    <tr>\n",
       "      <th>25%</th>\n",
       "      <td>0.03</td>\n",
       "      <td>0.00</td>\n",
       "      <td>0.00</td>\n",
       "      <td>0.01</td>\n",
       "      <td>0.00</td>\n",
       "      <td>0.01</td>\n",
       "    </tr>\n",
       "    <tr>\n",
       "      <th>50%</th>\n",
       "      <td>0.07</td>\n",
       "      <td>0.00</td>\n",
       "      <td>0.00</td>\n",
       "      <td>0.02</td>\n",
       "      <td>0.01</td>\n",
       "      <td>0.02</td>\n",
       "    </tr>\n",
       "    <tr>\n",
       "      <th>75%</th>\n",
       "      <td>0.08</td>\n",
       "      <td>0.00</td>\n",
       "      <td>0.00</td>\n",
       "      <td>0.04</td>\n",
       "      <td>0.02</td>\n",
       "      <td>0.03</td>\n",
       "    </tr>\n",
       "    <tr>\n",
       "      <th>max</th>\n",
       "      <td>0.13</td>\n",
       "      <td>0.00</td>\n",
       "      <td>0.03</td>\n",
       "      <td>0.07</td>\n",
       "      <td>0.07</td>\n",
       "      <td>0.11</td>\n",
       "    </tr>\n",
       "  </tbody>\n",
       "</table>\n",
       "</div>"
      ],
      "text/plain": [
       "         X1    X2    X3    X4    X5    X6\n",
       "count 10.00 10.00 10.00 10.00 10.00 10.00\n",
       "mean   0.06  0.00  0.01  0.03  0.02  0.03\n",
       "std    0.04  0.00  0.01  0.02  0.02  0.03\n",
       "min    0.00  0.00  0.00  0.00  0.00  0.00\n",
       "25%    0.03  0.00  0.00  0.01  0.00  0.01\n",
       "50%    0.07  0.00  0.00  0.02  0.01  0.02\n",
       "75%    0.08  0.00  0.00  0.04  0.02  0.03\n",
       "max    0.13  0.00  0.03  0.07  0.07  0.11"
      ]
     },
     "execution_count": 503,
     "metadata": {},
     "output_type": "execute_result"
    }
   ],
   "source": [
    "mutual_info_df.describe()"
   ]
  },
  {
   "cell_type": "markdown",
   "id": "3d2672e3-b5c3-42fa-88fd-2d22a9b8b030",
   "metadata": {},
   "source": [
    "By analyzing mutual information classification, which measures the reduction in uncertainty (entropy) of one variable given knowledge of another variable, we identify that features X4 and X6 contribute the least to predicting the output. As a result, we can confidently consider removing these features from our feature list. To ensure this decision is optimal, we will run our selected models both with and without these features and compare the results."
   ]
  },
  {
   "cell_type": "markdown",
   "id": "40d2709c-4572-40e5-b5d0-400747f2be5e",
   "metadata": {},
   "source": [
    "### Use Lazy Predict to find best models for the data\n",
    "\n",
    "In this section, we first utilize Lazy Predict framework to get suggestion about the best models which can provide\n",
    "better fit with our models. To justify the decision regarding feature X2, we train lazy predict in two conditions\n",
    "with/without feature X2. To provide better generalization, we train lazy predict with 10 different random seed."
   ]
  },
  {
   "cell_type": "code",
   "execution_count": 507,
   "id": "17453d63-34c1-4032-abb4-4aa2c4c69125",
   "metadata": {},
   "outputs": [],
   "source": [
    "# Filter out non-important features\n",
    "new_dataset=happy_unhapp_feedback.drop([\"X2\"],axis=1)"
   ]
  },
  {
   "cell_type": "code",
   "execution_count": 509,
   "id": "db800f19-274d-4421-8fca-033a92bd2bb0",
   "metadata": {},
   "outputs": [],
   "source": [
    "x= new_dataset.iloc[:,1:].values\n",
    "y=new_dataset.iloc[:,0].values"
   ]
  },
  {
   "cell_type": "code",
   "execution_count": 511,
   "id": "4c9900ba-67b4-4f4b-977d-bdc7ea258a65",
   "metadata": {},
   "outputs": [],
   "source": [
    "from lazypredict.Supervised import LazyClassifier\n",
    "from sklearn.model_selection import train_test_split\n",
    "from sklearn.preprocessing import StandardScaler"
   ]
  },
  {
   "cell_type": "code",
   "execution_count": 513,
   "id": "8db538c0-f958-46e3-a4a1-d71e224f35ee",
   "metadata": {},
   "outputs": [],
   "source": [
    "import os"
   ]
  },
  {
   "cell_type": "code",
   "execution_count": 515,
   "id": "361fc2c7-7b1b-463a-9cdd-327e1162ac0c",
   "metadata": {},
   "outputs": [],
   "source": [
    "os.environ[\"PYTHONWARNINGS\"] = \"ignore\"\n",
    "warnings.filterwarnings(\"ignore\")"
   ]
  },
  {
   "cell_type": "code",
   "execution_count": 517,
   "id": "3e9d2473-9088-468d-8b98-b2626f332001",
   "metadata": {},
   "outputs": [
    {
     "name": "stderr",
     "output_type": "stream",
     "text": [
      "100%|██████████████████████████████████████████████████████████████████████████████████| 31/31 [00:00<00:00, 49.97it/s]\n",
      "100%|██████████████████████████████████████████████████████████████████████████████████| 31/31 [00:00<00:00, 51.99it/s]\n",
      "100%|██████████████████████████████████████████████████████████████████████████████████| 31/31 [00:00<00:00, 51.24it/s]\n",
      "100%|██████████████████████████████████████████████████████████████████████████████████| 31/31 [00:00<00:00, 50.45it/s]\n",
      "100%|██████████████████████████████████████████████████████████████████████████████████| 31/31 [00:00<00:00, 53.08it/s]\n",
      "100%|██████████████████████████████████████████████████████████████████████████████████| 31/31 [00:00<00:00, 54.39it/s]\n",
      "100%|██████████████████████████████████████████████████████████████████████████████████| 31/31 [00:00<00:00, 45.99it/s]\n",
      "100%|██████████████████████████████████████████████████████████████████████████████████| 31/31 [00:00<00:00, 46.86it/s]\n",
      "100%|██████████████████████████████████████████████████████████████████████████████████| 31/31 [00:00<00:00, 53.33it/s]\n",
      "100%|██████████████████████████████████████████████████████████████████████████████████| 31/31 [00:00<00:00, 52.21it/s]\n"
     ]
    }
   ],
   "source": [
    "all_random_seeds_results=[]\n",
    "logging.getLogger(\"lightgbm\").setLevel(logging.ERROR)\n",
    "for state in random_states:\n",
    "    X_train,X_test,Y_train,Y_test=train_test_split(x,y,test_size=0.2,random_state=state)\n",
    "    lazy_classifier=LazyClassifier(verbose=-1,ignore_warnings=True, custom_metric=None,random_state=state)\n",
    "    models,predictions=lazy_classifier.fit(X_train,X_test,Y_train,Y_test)\n",
    "    models[\"random_seed\"]=state\n",
    "    #print(models)\n",
    "    #input(\"fe\")\n",
    "    all_random_seeds_results.append(models)\n",
    "#Get the average of metrics across all runs\n",
    "combined_results_drop_x2=pd.concat(all_random_seeds_results)#.reset_index()"
   ]
  },
  {
   "cell_type": "code",
   "execution_count": 519,
   "id": "1c8c9264-4669-446d-82d0-665efdfbe68b",
   "metadata": {},
   "outputs": [
    {
     "data": {
      "text/html": [
       "<div>\n",
       "<style scoped>\n",
       "    .dataframe tbody tr th:only-of-type {\n",
       "        vertical-align: middle;\n",
       "    }\n",
       "\n",
       "    .dataframe tbody tr th {\n",
       "        vertical-align: top;\n",
       "    }\n",
       "\n",
       "    .dataframe thead th {\n",
       "        text-align: right;\n",
       "    }\n",
       "</style>\n",
       "<table border=\"1\" class=\"dataframe\">\n",
       "  <thead>\n",
       "    <tr style=\"text-align: right;\">\n",
       "      <th></th>\n",
       "      <th>Accuracy</th>\n",
       "      <th>Balanced Accuracy</th>\n",
       "      <th>ROC AUC</th>\n",
       "      <th>F1 Score</th>\n",
       "      <th>Time Taken</th>\n",
       "    </tr>\n",
       "    <tr>\n",
       "      <th>Model</th>\n",
       "      <th></th>\n",
       "      <th></th>\n",
       "      <th></th>\n",
       "      <th></th>\n",
       "      <th></th>\n",
       "    </tr>\n",
       "  </thead>\n",
       "  <tbody>\n",
       "    <tr>\n",
       "      <th>LGBMClassifier</th>\n",
       "      <td>0.77</td>\n",
       "      <td>0.77</td>\n",
       "      <td>0.77</td>\n",
       "      <td>0.77</td>\n",
       "      <td>0.02</td>\n",
       "    </tr>\n",
       "    <tr>\n",
       "      <th>BernoulliNB</th>\n",
       "      <td>0.75</td>\n",
       "      <td>0.73</td>\n",
       "      <td>0.73</td>\n",
       "      <td>0.74</td>\n",
       "      <td>0.01</td>\n",
       "    </tr>\n",
       "    <tr>\n",
       "      <th>NuSVC</th>\n",
       "      <td>0.74</td>\n",
       "      <td>0.74</td>\n",
       "      <td>0.74</td>\n",
       "      <td>0.74</td>\n",
       "      <td>0.01</td>\n",
       "    </tr>\n",
       "    <tr>\n",
       "      <th>RandomForestClassifier</th>\n",
       "      <td>0.73</td>\n",
       "      <td>0.73</td>\n",
       "      <td>0.73</td>\n",
       "      <td>0.74</td>\n",
       "      <td>0.12</td>\n",
       "    </tr>\n",
       "    <tr>\n",
       "      <th>LabelPropagation</th>\n",
       "      <td>0.72</td>\n",
       "      <td>0.72</td>\n",
       "      <td>0.72</td>\n",
       "      <td>0.72</td>\n",
       "      <td>0.01</td>\n",
       "    </tr>\n",
       "    <tr>\n",
       "      <th>GaussianNB</th>\n",
       "      <td>0.72</td>\n",
       "      <td>0.70</td>\n",
       "      <td>0.70</td>\n",
       "      <td>0.72</td>\n",
       "      <td>0.01</td>\n",
       "    </tr>\n",
       "    <tr>\n",
       "      <th>SVC</th>\n",
       "      <td>0.72</td>\n",
       "      <td>0.72</td>\n",
       "      <td>0.72</td>\n",
       "      <td>0.71</td>\n",
       "      <td>0.01</td>\n",
       "    </tr>\n",
       "    <tr>\n",
       "      <th>XGBClassifier</th>\n",
       "      <td>0.71</td>\n",
       "      <td>0.70</td>\n",
       "      <td>0.70</td>\n",
       "      <td>0.71</td>\n",
       "      <td>0.05</td>\n",
       "    </tr>\n",
       "    <tr>\n",
       "      <th>RidgeClassifier</th>\n",
       "      <td>0.70</td>\n",
       "      <td>0.69</td>\n",
       "      <td>0.69</td>\n",
       "      <td>0.70</td>\n",
       "      <td>0.01</td>\n",
       "    </tr>\n",
       "    <tr>\n",
       "      <th>LogisticRegression</th>\n",
       "      <td>0.70</td>\n",
       "      <td>0.69</td>\n",
       "      <td>0.69</td>\n",
       "      <td>0.70</td>\n",
       "      <td>0.01</td>\n",
       "    </tr>\n",
       "    <tr>\n",
       "      <th>LinearSVC</th>\n",
       "      <td>0.70</td>\n",
       "      <td>0.69</td>\n",
       "      <td>0.69</td>\n",
       "      <td>0.70</td>\n",
       "      <td>0.01</td>\n",
       "    </tr>\n",
       "    <tr>\n",
       "      <th>LinearDiscriminantAnalysis</th>\n",
       "      <td>0.70</td>\n",
       "      <td>0.69</td>\n",
       "      <td>0.69</td>\n",
       "      <td>0.70</td>\n",
       "      <td>0.01</td>\n",
       "    </tr>\n",
       "    <tr>\n",
       "      <th>LabelSpreading</th>\n",
       "      <td>0.70</td>\n",
       "      <td>0.70</td>\n",
       "      <td>0.70</td>\n",
       "      <td>0.70</td>\n",
       "      <td>0.01</td>\n",
       "    </tr>\n",
       "    <tr>\n",
       "      <th>BaggingClassifier</th>\n",
       "      <td>0.70</td>\n",
       "      <td>0.70</td>\n",
       "      <td>0.70</td>\n",
       "      <td>0.70</td>\n",
       "      <td>0.02</td>\n",
       "    </tr>\n",
       "    <tr>\n",
       "      <th>ExtraTreesClassifier</th>\n",
       "      <td>0.70</td>\n",
       "      <td>0.70</td>\n",
       "      <td>0.70</td>\n",
       "      <td>0.70</td>\n",
       "      <td>0.09</td>\n",
       "    </tr>\n",
       "    <tr>\n",
       "      <th>NearestCentroid</th>\n",
       "      <td>0.70</td>\n",
       "      <td>0.69</td>\n",
       "      <td>0.69</td>\n",
       "      <td>0.70</td>\n",
       "      <td>0.01</td>\n",
       "    </tr>\n",
       "    <tr>\n",
       "      <th>RidgeClassifierCV</th>\n",
       "      <td>0.70</td>\n",
       "      <td>0.68</td>\n",
       "      <td>0.68</td>\n",
       "      <td>0.70</td>\n",
       "      <td>0.01</td>\n",
       "    </tr>\n",
       "    <tr>\n",
       "      <th>KNeighborsClassifier</th>\n",
       "      <td>0.70</td>\n",
       "      <td>0.69</td>\n",
       "      <td>0.69</td>\n",
       "      <td>0.70</td>\n",
       "      <td>0.01</td>\n",
       "    </tr>\n",
       "    <tr>\n",
       "      <th>ExtraTreeClassifier</th>\n",
       "      <td>0.69</td>\n",
       "      <td>0.69</td>\n",
       "      <td>0.69</td>\n",
       "      <td>0.70</td>\n",
       "      <td>0.01</td>\n",
       "    </tr>\n",
       "    <tr>\n",
       "      <th>QuadraticDiscriminantAnalysis</th>\n",
       "      <td>0.68</td>\n",
       "      <td>0.67</td>\n",
       "      <td>0.67</td>\n",
       "      <td>0.68</td>\n",
       "      <td>0.01</td>\n",
       "    </tr>\n",
       "    <tr>\n",
       "      <th>DecisionTreeClassifier</th>\n",
       "      <td>0.67</td>\n",
       "      <td>0.69</td>\n",
       "      <td>0.69</td>\n",
       "      <td>0.67</td>\n",
       "      <td>0.01</td>\n",
       "    </tr>\n",
       "    <tr>\n",
       "      <th>AdaBoostClassifier</th>\n",
       "      <td>0.66</td>\n",
       "      <td>0.64</td>\n",
       "      <td>0.64</td>\n",
       "      <td>0.66</td>\n",
       "      <td>0.08</td>\n",
       "    </tr>\n",
       "    <tr>\n",
       "      <th>DummyClassifier</th>\n",
       "      <td>0.63</td>\n",
       "      <td>0.50</td>\n",
       "      <td>0.50</td>\n",
       "      <td>0.48</td>\n",
       "      <td>0.01</td>\n",
       "    </tr>\n",
       "    <tr>\n",
       "      <th>CalibratedClassifierCV</th>\n",
       "      <td>0.63</td>\n",
       "      <td>0.58</td>\n",
       "      <td>0.58</td>\n",
       "      <td>0.59</td>\n",
       "      <td>0.02</td>\n",
       "    </tr>\n",
       "    <tr>\n",
       "      <th>PassiveAggressiveClassifier</th>\n",
       "      <td>0.62</td>\n",
       "      <td>0.63</td>\n",
       "      <td>0.63</td>\n",
       "      <td>0.60</td>\n",
       "      <td>0.01</td>\n",
       "    </tr>\n",
       "    <tr>\n",
       "      <th>SGDClassifier</th>\n",
       "      <td>0.57</td>\n",
       "      <td>0.56</td>\n",
       "      <td>0.56</td>\n",
       "      <td>0.56</td>\n",
       "      <td>0.01</td>\n",
       "    </tr>\n",
       "    <tr>\n",
       "      <th>Perceptron</th>\n",
       "      <td>0.54</td>\n",
       "      <td>0.54</td>\n",
       "      <td>0.54</td>\n",
       "      <td>0.52</td>\n",
       "      <td>0.01</td>\n",
       "    </tr>\n",
       "  </tbody>\n",
       "</table>\n",
       "</div>"
      ],
      "text/plain": [
       "                               Accuracy  Balanced Accuracy  ROC AUC  F1 Score  \\\n",
       "Model                                                                           \n",
       "LGBMClassifier                     0.77               0.77     0.77      0.77   \n",
       "BernoulliNB                        0.75               0.73     0.73      0.74   \n",
       "NuSVC                              0.74               0.74     0.74      0.74   \n",
       "RandomForestClassifier             0.73               0.73     0.73      0.74   \n",
       "LabelPropagation                   0.72               0.72     0.72      0.72   \n",
       "GaussianNB                         0.72               0.70     0.70      0.72   \n",
       "SVC                                0.72               0.72     0.72      0.71   \n",
       "XGBClassifier                      0.71               0.70     0.70      0.71   \n",
       "RidgeClassifier                    0.70               0.69     0.69      0.70   \n",
       "LogisticRegression                 0.70               0.69     0.69      0.70   \n",
       "LinearSVC                          0.70               0.69     0.69      0.70   \n",
       "LinearDiscriminantAnalysis         0.70               0.69     0.69      0.70   \n",
       "LabelSpreading                     0.70               0.70     0.70      0.70   \n",
       "BaggingClassifier                  0.70               0.70     0.70      0.70   \n",
       "ExtraTreesClassifier               0.70               0.70     0.70      0.70   \n",
       "NearestCentroid                    0.70               0.69     0.69      0.70   \n",
       "RidgeClassifierCV                  0.70               0.68     0.68      0.70   \n",
       "KNeighborsClassifier               0.70               0.69     0.69      0.70   \n",
       "ExtraTreeClassifier                0.69               0.69     0.69      0.70   \n",
       "QuadraticDiscriminantAnalysis      0.68               0.67     0.67      0.68   \n",
       "DecisionTreeClassifier             0.67               0.69     0.69      0.67   \n",
       "AdaBoostClassifier                 0.66               0.64     0.64      0.66   \n",
       "DummyClassifier                    0.63               0.50     0.50      0.48   \n",
       "CalibratedClassifierCV             0.63               0.58     0.58      0.59   \n",
       "PassiveAggressiveClassifier        0.62               0.63     0.63      0.60   \n",
       "SGDClassifier                      0.57               0.56     0.56      0.56   \n",
       "Perceptron                         0.54               0.54     0.54      0.52   \n",
       "\n",
       "                               Time Taken  \n",
       "Model                                      \n",
       "LGBMClassifier                       0.02  \n",
       "BernoulliNB                          0.01  \n",
       "NuSVC                                0.01  \n",
       "RandomForestClassifier               0.12  \n",
       "LabelPropagation                     0.01  \n",
       "GaussianNB                           0.01  \n",
       "SVC                                  0.01  \n",
       "XGBClassifier                        0.05  \n",
       "RidgeClassifier                      0.01  \n",
       "LogisticRegression                   0.01  \n",
       "LinearSVC                            0.01  \n",
       "LinearDiscriminantAnalysis           0.01  \n",
       "LabelSpreading                       0.01  \n",
       "BaggingClassifier                    0.02  \n",
       "ExtraTreesClassifier                 0.09  \n",
       "NearestCentroid                      0.01  \n",
       "RidgeClassifierCV                    0.01  \n",
       "KNeighborsClassifier                 0.01  \n",
       "ExtraTreeClassifier                  0.01  \n",
       "QuadraticDiscriminantAnalysis        0.01  \n",
       "DecisionTreeClassifier               0.01  \n",
       "AdaBoostClassifier                   0.08  \n",
       "DummyClassifier                      0.01  \n",
       "CalibratedClassifierCV               0.02  \n",
       "PassiveAggressiveClassifier          0.01  \n",
       "SGDClassifier                        0.01  \n",
       "Perceptron                           0.01  "
      ]
     },
     "execution_count": 519,
     "metadata": {},
     "output_type": "execute_result"
    }
   ],
   "source": [
    "grouped_combined_results_drop_x2=combined_results_drop_x2.groupby(combined_results_drop_x2.index).mean().sort_values(by=[\"Accuracy\"],ascending=False).iloc[:,0:5]\n",
    "grouped_combined_results_drop_x2"
   ]
  },
  {
   "cell_type": "code",
   "execution_count": null,
   "id": "9736d6e7-07d4-490c-a2c9-448aea28963f",
   "metadata": {},
   "outputs": [],
   "source": []
  },
  {
   "cell_type": "markdown",
   "id": "0325e8a4-46cf-45ec-8134-44969e6baa02",
   "metadata": {},
   "source": [
    "### Train lazy predict with all features"
   ]
  },
  {
   "cell_type": "code",
   "execution_count": 523,
   "id": "aee86422-7d98-4f1f-858a-468e97528ecb",
   "metadata": {},
   "outputs": [],
   "source": [
    "x= happy_unhapp_feedback.iloc[:,1:].values\n",
    "y=happy_unhapp_feedback.iloc[:,0].values"
   ]
  },
  {
   "cell_type": "code",
   "execution_count": 527,
   "id": "a749eff9-e0f5-4344-a2af-fc1f6ae14737",
   "metadata": {},
   "outputs": [
    {
     "name": "stderr",
     "output_type": "stream",
     "text": [
      "100%|██████████████████████████████████████████████████████████████████████████████████| 31/31 [00:00<00:00, 50.86it/s]\n",
      "100%|██████████████████████████████████████████████████████████████████████████████████| 31/31 [00:00<00:00, 53.44it/s]\n",
      "100%|██████████████████████████████████████████████████████████████████████████████████| 31/31 [00:00<00:00, 51.55it/s]\n",
      "100%|██████████████████████████████████████████████████████████████████████████████████| 31/31 [00:00<00:00, 51.12it/s]\n",
      "100%|██████████████████████████████████████████████████████████████████████████████████| 31/31 [00:00<00:00, 51.18it/s]\n",
      "100%|██████████████████████████████████████████████████████████████████████████████████| 31/31 [00:00<00:00, 50.56it/s]\n",
      "100%|██████████████████████████████████████████████████████████████████████████████████| 31/31 [00:00<00:00, 52.01it/s]\n",
      "100%|██████████████████████████████████████████████████████████████████████████████████| 31/31 [00:00<00:00, 51.60it/s]\n",
      "100%|██████████████████████████████████████████████████████████████████████████████████| 31/31 [00:00<00:00, 53.64it/s]\n",
      "100%|██████████████████████████████████████████████████████████████████████████████████| 31/31 [00:00<00:00, 52.66it/s]\n"
     ]
    },
    {
     "data": {
      "text/html": [
       "<div>\n",
       "<style scoped>\n",
       "    .dataframe tbody tr th:only-of-type {\n",
       "        vertical-align: middle;\n",
       "    }\n",
       "\n",
       "    .dataframe tbody tr th {\n",
       "        vertical-align: top;\n",
       "    }\n",
       "\n",
       "    .dataframe thead th {\n",
       "        text-align: right;\n",
       "    }\n",
       "</style>\n",
       "<table border=\"1\" class=\"dataframe\">\n",
       "  <thead>\n",
       "    <tr style=\"text-align: right;\">\n",
       "      <th></th>\n",
       "      <th>Accuracy</th>\n",
       "      <th>Balanced Accuracy</th>\n",
       "      <th>ROC AUC</th>\n",
       "      <th>F1 Score</th>\n",
       "      <th>Time Taken</th>\n",
       "    </tr>\n",
       "    <tr>\n",
       "      <th>Model</th>\n",
       "      <th></th>\n",
       "      <th></th>\n",
       "      <th></th>\n",
       "      <th></th>\n",
       "      <th></th>\n",
       "    </tr>\n",
       "  </thead>\n",
       "  <tbody>\n",
       "    <tr>\n",
       "      <th>LGBMClassifier</th>\n",
       "      <td>0.75</td>\n",
       "      <td>0.75</td>\n",
       "      <td>0.75</td>\n",
       "      <td>0.75</td>\n",
       "      <td>0.02</td>\n",
       "    </tr>\n",
       "    <tr>\n",
       "      <th>BernoulliNB</th>\n",
       "      <td>0.74</td>\n",
       "      <td>0.72</td>\n",
       "      <td>0.72</td>\n",
       "      <td>0.74</td>\n",
       "      <td>0.01</td>\n",
       "    </tr>\n",
       "    <tr>\n",
       "      <th>GaussianNB</th>\n",
       "      <td>0.72</td>\n",
       "      <td>0.70</td>\n",
       "      <td>0.70</td>\n",
       "      <td>0.71</td>\n",
       "      <td>0.01</td>\n",
       "    </tr>\n",
       "    <tr>\n",
       "      <th>LinearDiscriminantAnalysis</th>\n",
       "      <td>0.71</td>\n",
       "      <td>0.69</td>\n",
       "      <td>0.69</td>\n",
       "      <td>0.71</td>\n",
       "      <td>0.01</td>\n",
       "    </tr>\n",
       "    <tr>\n",
       "      <th>SVC</th>\n",
       "      <td>0.71</td>\n",
       "      <td>0.70</td>\n",
       "      <td>0.70</td>\n",
       "      <td>0.71</td>\n",
       "      <td>0.01</td>\n",
       "    </tr>\n",
       "    <tr>\n",
       "      <th>RidgeClassifierCV</th>\n",
       "      <td>0.71</td>\n",
       "      <td>0.69</td>\n",
       "      <td>0.69</td>\n",
       "      <td>0.71</td>\n",
       "      <td>0.01</td>\n",
       "    </tr>\n",
       "    <tr>\n",
       "      <th>RidgeClassifier</th>\n",
       "      <td>0.71</td>\n",
       "      <td>0.69</td>\n",
       "      <td>0.69</td>\n",
       "      <td>0.71</td>\n",
       "      <td>0.01</td>\n",
       "    </tr>\n",
       "    <tr>\n",
       "      <th>LogisticRegression</th>\n",
       "      <td>0.71</td>\n",
       "      <td>0.69</td>\n",
       "      <td>0.69</td>\n",
       "      <td>0.71</td>\n",
       "      <td>0.01</td>\n",
       "    </tr>\n",
       "    <tr>\n",
       "      <th>LinearSVC</th>\n",
       "      <td>0.71</td>\n",
       "      <td>0.69</td>\n",
       "      <td>0.69</td>\n",
       "      <td>0.71</td>\n",
       "      <td>0.01</td>\n",
       "    </tr>\n",
       "    <tr>\n",
       "      <th>XGBClassifier</th>\n",
       "      <td>0.71</td>\n",
       "      <td>0.70</td>\n",
       "      <td>0.70</td>\n",
       "      <td>0.71</td>\n",
       "      <td>0.05</td>\n",
       "    </tr>\n",
       "    <tr>\n",
       "      <th>RandomForestClassifier</th>\n",
       "      <td>0.71</td>\n",
       "      <td>0.69</td>\n",
       "      <td>0.69</td>\n",
       "      <td>0.71</td>\n",
       "      <td>0.12</td>\n",
       "    </tr>\n",
       "    <tr>\n",
       "      <th>NearestCentroid</th>\n",
       "      <td>0.71</td>\n",
       "      <td>0.70</td>\n",
       "      <td>0.70</td>\n",
       "      <td>0.71</td>\n",
       "      <td>0.01</td>\n",
       "    </tr>\n",
       "    <tr>\n",
       "      <th>ExtraTreesClassifier</th>\n",
       "      <td>0.70</td>\n",
       "      <td>0.69</td>\n",
       "      <td>0.69</td>\n",
       "      <td>0.70</td>\n",
       "      <td>0.09</td>\n",
       "    </tr>\n",
       "    <tr>\n",
       "      <th>NuSVC</th>\n",
       "      <td>0.69</td>\n",
       "      <td>0.68</td>\n",
       "      <td>0.68</td>\n",
       "      <td>0.69</td>\n",
       "      <td>0.01</td>\n",
       "    </tr>\n",
       "    <tr>\n",
       "      <th>BaggingClassifier</th>\n",
       "      <td>0.68</td>\n",
       "      <td>0.68</td>\n",
       "      <td>0.68</td>\n",
       "      <td>0.68</td>\n",
       "      <td>0.02</td>\n",
       "    </tr>\n",
       "    <tr>\n",
       "      <th>KNeighborsClassifier</th>\n",
       "      <td>0.68</td>\n",
       "      <td>0.67</td>\n",
       "      <td>0.67</td>\n",
       "      <td>0.68</td>\n",
       "      <td>0.01</td>\n",
       "    </tr>\n",
       "    <tr>\n",
       "      <th>LabelPropagation</th>\n",
       "      <td>0.68</td>\n",
       "      <td>0.67</td>\n",
       "      <td>0.67</td>\n",
       "      <td>0.68</td>\n",
       "      <td>0.01</td>\n",
       "    </tr>\n",
       "    <tr>\n",
       "      <th>QuadraticDiscriminantAnalysis</th>\n",
       "      <td>0.67</td>\n",
       "      <td>0.68</td>\n",
       "      <td>0.68</td>\n",
       "      <td>0.68</td>\n",
       "      <td>0.01</td>\n",
       "    </tr>\n",
       "    <tr>\n",
       "      <th>LabelSpreading</th>\n",
       "      <td>0.67</td>\n",
       "      <td>0.66</td>\n",
       "      <td>0.66</td>\n",
       "      <td>0.68</td>\n",
       "      <td>0.01</td>\n",
       "    </tr>\n",
       "    <tr>\n",
       "      <th>AdaBoostClassifier</th>\n",
       "      <td>0.67</td>\n",
       "      <td>0.64</td>\n",
       "      <td>0.64</td>\n",
       "      <td>0.66</td>\n",
       "      <td>0.08</td>\n",
       "    </tr>\n",
       "    <tr>\n",
       "      <th>DecisionTreeClassifier</th>\n",
       "      <td>0.66</td>\n",
       "      <td>0.66</td>\n",
       "      <td>0.66</td>\n",
       "      <td>0.66</td>\n",
       "      <td>0.01</td>\n",
       "    </tr>\n",
       "    <tr>\n",
       "      <th>ExtraTreeClassifier</th>\n",
       "      <td>0.64</td>\n",
       "      <td>0.62</td>\n",
       "      <td>0.62</td>\n",
       "      <td>0.64</td>\n",
       "      <td>0.01</td>\n",
       "    </tr>\n",
       "    <tr>\n",
       "      <th>DummyClassifier</th>\n",
       "      <td>0.63</td>\n",
       "      <td>0.50</td>\n",
       "      <td>0.50</td>\n",
       "      <td>0.48</td>\n",
       "      <td>0.01</td>\n",
       "    </tr>\n",
       "    <tr>\n",
       "      <th>SGDClassifier</th>\n",
       "      <td>0.62</td>\n",
       "      <td>0.61</td>\n",
       "      <td>0.61</td>\n",
       "      <td>0.62</td>\n",
       "      <td>0.01</td>\n",
       "    </tr>\n",
       "    <tr>\n",
       "      <th>PassiveAggressiveClassifier</th>\n",
       "      <td>0.62</td>\n",
       "      <td>0.62</td>\n",
       "      <td>0.62</td>\n",
       "      <td>0.62</td>\n",
       "      <td>0.01</td>\n",
       "    </tr>\n",
       "    <tr>\n",
       "      <th>CalibratedClassifierCV</th>\n",
       "      <td>0.60</td>\n",
       "      <td>0.53</td>\n",
       "      <td>0.53</td>\n",
       "      <td>0.55</td>\n",
       "      <td>0.02</td>\n",
       "    </tr>\n",
       "    <tr>\n",
       "      <th>Perceptron</th>\n",
       "      <td>0.52</td>\n",
       "      <td>0.50</td>\n",
       "      <td>0.50</td>\n",
       "      <td>0.50</td>\n",
       "      <td>0.01</td>\n",
       "    </tr>\n",
       "  </tbody>\n",
       "</table>\n",
       "</div>"
      ],
      "text/plain": [
       "                               Accuracy  Balanced Accuracy  ROC AUC  F1 Score  \\\n",
       "Model                                                                           \n",
       "LGBMClassifier                     0.75               0.75     0.75      0.75   \n",
       "BernoulliNB                        0.74               0.72     0.72      0.74   \n",
       "GaussianNB                         0.72               0.70     0.70      0.71   \n",
       "LinearDiscriminantAnalysis         0.71               0.69     0.69      0.71   \n",
       "SVC                                0.71               0.70     0.70      0.71   \n",
       "RidgeClassifierCV                  0.71               0.69     0.69      0.71   \n",
       "RidgeClassifier                    0.71               0.69     0.69      0.71   \n",
       "LogisticRegression                 0.71               0.69     0.69      0.71   \n",
       "LinearSVC                          0.71               0.69     0.69      0.71   \n",
       "XGBClassifier                      0.71               0.70     0.70      0.71   \n",
       "RandomForestClassifier             0.71               0.69     0.69      0.71   \n",
       "NearestCentroid                    0.71               0.70     0.70      0.71   \n",
       "ExtraTreesClassifier               0.70               0.69     0.69      0.70   \n",
       "NuSVC                              0.69               0.68     0.68      0.69   \n",
       "BaggingClassifier                  0.68               0.68     0.68      0.68   \n",
       "KNeighborsClassifier               0.68               0.67     0.67      0.68   \n",
       "LabelPropagation                   0.68               0.67     0.67      0.68   \n",
       "QuadraticDiscriminantAnalysis      0.67               0.68     0.68      0.68   \n",
       "LabelSpreading                     0.67               0.66     0.66      0.68   \n",
       "AdaBoostClassifier                 0.67               0.64     0.64      0.66   \n",
       "DecisionTreeClassifier             0.66               0.66     0.66      0.66   \n",
       "ExtraTreeClassifier                0.64               0.62     0.62      0.64   \n",
       "DummyClassifier                    0.63               0.50     0.50      0.48   \n",
       "SGDClassifier                      0.62               0.61     0.61      0.62   \n",
       "PassiveAggressiveClassifier        0.62               0.62     0.62      0.62   \n",
       "CalibratedClassifierCV             0.60               0.53     0.53      0.55   \n",
       "Perceptron                         0.52               0.50     0.50      0.50   \n",
       "\n",
       "                               Time Taken  \n",
       "Model                                      \n",
       "LGBMClassifier                       0.02  \n",
       "BernoulliNB                          0.01  \n",
       "GaussianNB                           0.01  \n",
       "LinearDiscriminantAnalysis           0.01  \n",
       "SVC                                  0.01  \n",
       "RidgeClassifierCV                    0.01  \n",
       "RidgeClassifier                      0.01  \n",
       "LogisticRegression                   0.01  \n",
       "LinearSVC                            0.01  \n",
       "XGBClassifier                        0.05  \n",
       "RandomForestClassifier               0.12  \n",
       "NearestCentroid                      0.01  \n",
       "ExtraTreesClassifier                 0.09  \n",
       "NuSVC                                0.01  \n",
       "BaggingClassifier                    0.02  \n",
       "KNeighborsClassifier                 0.01  \n",
       "LabelPropagation                     0.01  \n",
       "QuadraticDiscriminantAnalysis        0.01  \n",
       "LabelSpreading                       0.01  \n",
       "AdaBoostClassifier                   0.08  \n",
       "DecisionTreeClassifier               0.01  \n",
       "ExtraTreeClassifier                  0.01  \n",
       "DummyClassifier                      0.01  \n",
       "SGDClassifier                        0.01  \n",
       "PassiveAggressiveClassifier          0.01  \n",
       "CalibratedClassifierCV               0.02  \n",
       "Perceptron                           0.01  "
      ]
     },
     "execution_count": 527,
     "metadata": {},
     "output_type": "execute_result"
    }
   ],
   "source": [
    "all_random_seeds_results=[]\n",
    "for state in random_states:\n",
    "    X_train,X_test,Y_train,Y_test=train_test_split(x,y,test_size=0.2,random_state=state)\n",
    "    lazy_classifier=LazyClassifier(verbose=-100,ignore_warnings=True, custom_metric=None,random_state=state)\n",
    "    models,predictions=lazy_classifier.fit(X_train,X_test,Y_train,Y_test)\n",
    "    models[\"random_seed\"]=state\n",
    "    #print(models)\n",
    "    #input(\"fe\")\n",
    "    all_random_seeds_results.append(models)\n",
    "#Get the average of metrics across all runs\n",
    "combined_results_all_features=pd.concat(all_random_seeds_results)#.reset_index()\n",
    "grouped_combined_results_all_features=combined_results_all_features.groupby(combined_results_all_features.index).mean().sort_values(by=[\"Accuracy\"],ascending=False).iloc[:,0:5]\n",
    "grouped_combined_results_all_features"
   ]
  },
  {
   "cell_type": "code",
   "execution_count": 529,
   "id": "316f1802-c75f-46d7-ae2e-144a8ee19c35",
   "metadata": {},
   "outputs": [
    {
     "data": {
      "text/html": [
       "<div>\n",
       "<style scoped>\n",
       "    .dataframe tbody tr th:only-of-type {\n",
       "        vertical-align: middle;\n",
       "    }\n",
       "\n",
       "    .dataframe tbody tr th {\n",
       "        vertical-align: top;\n",
       "    }\n",
       "\n",
       "    .dataframe thead th {\n",
       "        text-align: right;\n",
       "    }\n",
       "</style>\n",
       "<table border=\"1\" class=\"dataframe\">\n",
       "  <thead>\n",
       "    <tr style=\"text-align: right;\">\n",
       "      <th></th>\n",
       "      <th>Model</th>\n",
       "      <th>Accuracy</th>\n",
       "      <th>Balanced Accuracy</th>\n",
       "      <th>ROC AUC</th>\n",
       "      <th>F1 Score</th>\n",
       "      <th>Time Taken</th>\n",
       "    </tr>\n",
       "  </thead>\n",
       "  <tbody>\n",
       "    <tr>\n",
       "      <th>0</th>\n",
       "      <td>LGBMClassifier</td>\n",
       "      <td>0.75</td>\n",
       "      <td>0.75</td>\n",
       "      <td>0.75</td>\n",
       "      <td>0.75</td>\n",
       "      <td>0.02</td>\n",
       "    </tr>\n",
       "    <tr>\n",
       "      <th>1</th>\n",
       "      <td>BernoulliNB</td>\n",
       "      <td>0.74</td>\n",
       "      <td>0.72</td>\n",
       "      <td>0.72</td>\n",
       "      <td>0.74</td>\n",
       "      <td>0.01</td>\n",
       "    </tr>\n",
       "    <tr>\n",
       "      <th>2</th>\n",
       "      <td>GaussianNB</td>\n",
       "      <td>0.72</td>\n",
       "      <td>0.70</td>\n",
       "      <td>0.70</td>\n",
       "      <td>0.71</td>\n",
       "      <td>0.01</td>\n",
       "    </tr>\n",
       "    <tr>\n",
       "      <th>3</th>\n",
       "      <td>LinearDiscriminantAnalysis</td>\n",
       "      <td>0.71</td>\n",
       "      <td>0.69</td>\n",
       "      <td>0.69</td>\n",
       "      <td>0.71</td>\n",
       "      <td>0.01</td>\n",
       "    </tr>\n",
       "    <tr>\n",
       "      <th>4</th>\n",
       "      <td>SVC</td>\n",
       "      <td>0.71</td>\n",
       "      <td>0.70</td>\n",
       "      <td>0.70</td>\n",
       "      <td>0.71</td>\n",
       "      <td>0.01</td>\n",
       "    </tr>\n",
       "    <tr>\n",
       "      <th>5</th>\n",
       "      <td>RidgeClassifierCV</td>\n",
       "      <td>0.71</td>\n",
       "      <td>0.69</td>\n",
       "      <td>0.69</td>\n",
       "      <td>0.71</td>\n",
       "      <td>0.01</td>\n",
       "    </tr>\n",
       "    <tr>\n",
       "      <th>6</th>\n",
       "      <td>RidgeClassifier</td>\n",
       "      <td>0.71</td>\n",
       "      <td>0.69</td>\n",
       "      <td>0.69</td>\n",
       "      <td>0.71</td>\n",
       "      <td>0.01</td>\n",
       "    </tr>\n",
       "    <tr>\n",
       "      <th>7</th>\n",
       "      <td>LogisticRegression</td>\n",
       "      <td>0.71</td>\n",
       "      <td>0.69</td>\n",
       "      <td>0.69</td>\n",
       "      <td>0.71</td>\n",
       "      <td>0.01</td>\n",
       "    </tr>\n",
       "    <tr>\n",
       "      <th>8</th>\n",
       "      <td>LinearSVC</td>\n",
       "      <td>0.71</td>\n",
       "      <td>0.69</td>\n",
       "      <td>0.69</td>\n",
       "      <td>0.71</td>\n",
       "      <td>0.01</td>\n",
       "    </tr>\n",
       "    <tr>\n",
       "      <th>9</th>\n",
       "      <td>XGBClassifier</td>\n",
       "      <td>0.71</td>\n",
       "      <td>0.70</td>\n",
       "      <td>0.70</td>\n",
       "      <td>0.71</td>\n",
       "      <td>0.05</td>\n",
       "    </tr>\n",
       "    <tr>\n",
       "      <th>10</th>\n",
       "      <td>RandomForestClassifier</td>\n",
       "      <td>0.71</td>\n",
       "      <td>0.69</td>\n",
       "      <td>0.69</td>\n",
       "      <td>0.71</td>\n",
       "      <td>0.12</td>\n",
       "    </tr>\n",
       "    <tr>\n",
       "      <th>11</th>\n",
       "      <td>NearestCentroid</td>\n",
       "      <td>0.71</td>\n",
       "      <td>0.70</td>\n",
       "      <td>0.70</td>\n",
       "      <td>0.71</td>\n",
       "      <td>0.01</td>\n",
       "    </tr>\n",
       "    <tr>\n",
       "      <th>12</th>\n",
       "      <td>ExtraTreesClassifier</td>\n",
       "      <td>0.70</td>\n",
       "      <td>0.69</td>\n",
       "      <td>0.69</td>\n",
       "      <td>0.70</td>\n",
       "      <td>0.09</td>\n",
       "    </tr>\n",
       "    <tr>\n",
       "      <th>13</th>\n",
       "      <td>NuSVC</td>\n",
       "      <td>0.69</td>\n",
       "      <td>0.68</td>\n",
       "      <td>0.68</td>\n",
       "      <td>0.69</td>\n",
       "      <td>0.01</td>\n",
       "    </tr>\n",
       "    <tr>\n",
       "      <th>14</th>\n",
       "      <td>BaggingClassifier</td>\n",
       "      <td>0.68</td>\n",
       "      <td>0.68</td>\n",
       "      <td>0.68</td>\n",
       "      <td>0.68</td>\n",
       "      <td>0.02</td>\n",
       "    </tr>\n",
       "    <tr>\n",
       "      <th>15</th>\n",
       "      <td>KNeighborsClassifier</td>\n",
       "      <td>0.68</td>\n",
       "      <td>0.67</td>\n",
       "      <td>0.67</td>\n",
       "      <td>0.68</td>\n",
       "      <td>0.01</td>\n",
       "    </tr>\n",
       "    <tr>\n",
       "      <th>16</th>\n",
       "      <td>LabelPropagation</td>\n",
       "      <td>0.68</td>\n",
       "      <td>0.67</td>\n",
       "      <td>0.67</td>\n",
       "      <td>0.68</td>\n",
       "      <td>0.01</td>\n",
       "    </tr>\n",
       "    <tr>\n",
       "      <th>17</th>\n",
       "      <td>QuadraticDiscriminantAnalysis</td>\n",
       "      <td>0.67</td>\n",
       "      <td>0.68</td>\n",
       "      <td>0.68</td>\n",
       "      <td>0.68</td>\n",
       "      <td>0.01</td>\n",
       "    </tr>\n",
       "    <tr>\n",
       "      <th>18</th>\n",
       "      <td>LabelSpreading</td>\n",
       "      <td>0.67</td>\n",
       "      <td>0.66</td>\n",
       "      <td>0.66</td>\n",
       "      <td>0.68</td>\n",
       "      <td>0.01</td>\n",
       "    </tr>\n",
       "    <tr>\n",
       "      <th>19</th>\n",
       "      <td>AdaBoostClassifier</td>\n",
       "      <td>0.67</td>\n",
       "      <td>0.64</td>\n",
       "      <td>0.64</td>\n",
       "      <td>0.66</td>\n",
       "      <td>0.08</td>\n",
       "    </tr>\n",
       "    <tr>\n",
       "      <th>20</th>\n",
       "      <td>DecisionTreeClassifier</td>\n",
       "      <td>0.66</td>\n",
       "      <td>0.66</td>\n",
       "      <td>0.66</td>\n",
       "      <td>0.66</td>\n",
       "      <td>0.01</td>\n",
       "    </tr>\n",
       "    <tr>\n",
       "      <th>21</th>\n",
       "      <td>ExtraTreeClassifier</td>\n",
       "      <td>0.64</td>\n",
       "      <td>0.62</td>\n",
       "      <td>0.62</td>\n",
       "      <td>0.64</td>\n",
       "      <td>0.01</td>\n",
       "    </tr>\n",
       "    <tr>\n",
       "      <th>22</th>\n",
       "      <td>DummyClassifier</td>\n",
       "      <td>0.63</td>\n",
       "      <td>0.50</td>\n",
       "      <td>0.50</td>\n",
       "      <td>0.48</td>\n",
       "      <td>0.01</td>\n",
       "    </tr>\n",
       "    <tr>\n",
       "      <th>23</th>\n",
       "      <td>SGDClassifier</td>\n",
       "      <td>0.62</td>\n",
       "      <td>0.61</td>\n",
       "      <td>0.61</td>\n",
       "      <td>0.62</td>\n",
       "      <td>0.01</td>\n",
       "    </tr>\n",
       "    <tr>\n",
       "      <th>24</th>\n",
       "      <td>PassiveAggressiveClassifier</td>\n",
       "      <td>0.62</td>\n",
       "      <td>0.62</td>\n",
       "      <td>0.62</td>\n",
       "      <td>0.62</td>\n",
       "      <td>0.01</td>\n",
       "    </tr>\n",
       "    <tr>\n",
       "      <th>25</th>\n",
       "      <td>CalibratedClassifierCV</td>\n",
       "      <td>0.60</td>\n",
       "      <td>0.53</td>\n",
       "      <td>0.53</td>\n",
       "      <td>0.55</td>\n",
       "      <td>0.02</td>\n",
       "    </tr>\n",
       "    <tr>\n",
       "      <th>26</th>\n",
       "      <td>Perceptron</td>\n",
       "      <td>0.52</td>\n",
       "      <td>0.50</td>\n",
       "      <td>0.50</td>\n",
       "      <td>0.50</td>\n",
       "      <td>0.01</td>\n",
       "    </tr>\n",
       "  </tbody>\n",
       "</table>\n",
       "</div>"
      ],
      "text/plain": [
       "                            Model  Accuracy  Balanced Accuracy  ROC AUC  \\\n",
       "0                  LGBMClassifier      0.75               0.75     0.75   \n",
       "1                     BernoulliNB      0.74               0.72     0.72   \n",
       "2                      GaussianNB      0.72               0.70     0.70   \n",
       "3      LinearDiscriminantAnalysis      0.71               0.69     0.69   \n",
       "4                             SVC      0.71               0.70     0.70   \n",
       "5               RidgeClassifierCV      0.71               0.69     0.69   \n",
       "6                 RidgeClassifier      0.71               0.69     0.69   \n",
       "7              LogisticRegression      0.71               0.69     0.69   \n",
       "8                       LinearSVC      0.71               0.69     0.69   \n",
       "9                   XGBClassifier      0.71               0.70     0.70   \n",
       "10         RandomForestClassifier      0.71               0.69     0.69   \n",
       "11                NearestCentroid      0.71               0.70     0.70   \n",
       "12           ExtraTreesClassifier      0.70               0.69     0.69   \n",
       "13                          NuSVC      0.69               0.68     0.68   \n",
       "14              BaggingClassifier      0.68               0.68     0.68   \n",
       "15           KNeighborsClassifier      0.68               0.67     0.67   \n",
       "16               LabelPropagation      0.68               0.67     0.67   \n",
       "17  QuadraticDiscriminantAnalysis      0.67               0.68     0.68   \n",
       "18                 LabelSpreading      0.67               0.66     0.66   \n",
       "19             AdaBoostClassifier      0.67               0.64     0.64   \n",
       "20         DecisionTreeClassifier      0.66               0.66     0.66   \n",
       "21            ExtraTreeClassifier      0.64               0.62     0.62   \n",
       "22                DummyClassifier      0.63               0.50     0.50   \n",
       "23                  SGDClassifier      0.62               0.61     0.61   \n",
       "24    PassiveAggressiveClassifier      0.62               0.62     0.62   \n",
       "25         CalibratedClassifierCV      0.60               0.53     0.53   \n",
       "26                     Perceptron      0.52               0.50     0.50   \n",
       "\n",
       "    F1 Score  Time Taken  \n",
       "0       0.75        0.02  \n",
       "1       0.74        0.01  \n",
       "2       0.71        0.01  \n",
       "3       0.71        0.01  \n",
       "4       0.71        0.01  \n",
       "5       0.71        0.01  \n",
       "6       0.71        0.01  \n",
       "7       0.71        0.01  \n",
       "8       0.71        0.01  \n",
       "9       0.71        0.05  \n",
       "10      0.71        0.12  \n",
       "11      0.71        0.01  \n",
       "12      0.70        0.09  \n",
       "13      0.69        0.01  \n",
       "14      0.68        0.02  \n",
       "15      0.68        0.01  \n",
       "16      0.68        0.01  \n",
       "17      0.68        0.01  \n",
       "18      0.68        0.01  \n",
       "19      0.66        0.08  \n",
       "20      0.66        0.01  \n",
       "21      0.64        0.01  \n",
       "22      0.48        0.01  \n",
       "23      0.62        0.01  \n",
       "24      0.62        0.01  \n",
       "25      0.55        0.02  \n",
       "26      0.50        0.01  "
      ]
     },
     "execution_count": 529,
     "metadata": {},
     "output_type": "execute_result"
    }
   ],
   "source": [
    "grouped_combined_results_all_features=grouped_combined_results_all_features.reset_index()\n",
    "grouped_combined_results_all_features"
   ]
  },
  {
   "cell_type": "code",
   "execution_count": 531,
   "id": "3d3d1b64-edbf-46b9-a3ff-ebbabea51650",
   "metadata": {},
   "outputs": [
    {
     "data": {
      "text/html": [
       "<div>\n",
       "<style scoped>\n",
       "    .dataframe tbody tr th:only-of-type {\n",
       "        vertical-align: middle;\n",
       "    }\n",
       "\n",
       "    .dataframe tbody tr th {\n",
       "        vertical-align: top;\n",
       "    }\n",
       "\n",
       "    .dataframe thead th {\n",
       "        text-align: right;\n",
       "    }\n",
       "</style>\n",
       "<table border=\"1\" class=\"dataframe\">\n",
       "  <thead>\n",
       "    <tr style=\"text-align: right;\">\n",
       "      <th></th>\n",
       "      <th>Model</th>\n",
       "      <th>Accuracy</th>\n",
       "      <th>Balanced Accuracy</th>\n",
       "      <th>ROC AUC</th>\n",
       "      <th>F1 Score</th>\n",
       "      <th>Time Taken</th>\n",
       "    </tr>\n",
       "  </thead>\n",
       "  <tbody>\n",
       "    <tr>\n",
       "      <th>0</th>\n",
       "      <td>LGBMClassifier</td>\n",
       "      <td>0.77</td>\n",
       "      <td>0.77</td>\n",
       "      <td>0.77</td>\n",
       "      <td>0.77</td>\n",
       "      <td>0.02</td>\n",
       "    </tr>\n",
       "    <tr>\n",
       "      <th>1</th>\n",
       "      <td>BernoulliNB</td>\n",
       "      <td>0.75</td>\n",
       "      <td>0.73</td>\n",
       "      <td>0.73</td>\n",
       "      <td>0.74</td>\n",
       "      <td>0.01</td>\n",
       "    </tr>\n",
       "    <tr>\n",
       "      <th>2</th>\n",
       "      <td>NuSVC</td>\n",
       "      <td>0.74</td>\n",
       "      <td>0.74</td>\n",
       "      <td>0.74</td>\n",
       "      <td>0.74</td>\n",
       "      <td>0.01</td>\n",
       "    </tr>\n",
       "    <tr>\n",
       "      <th>3</th>\n",
       "      <td>RandomForestClassifier</td>\n",
       "      <td>0.73</td>\n",
       "      <td>0.73</td>\n",
       "      <td>0.73</td>\n",
       "      <td>0.74</td>\n",
       "      <td>0.12</td>\n",
       "    </tr>\n",
       "    <tr>\n",
       "      <th>4</th>\n",
       "      <td>LabelPropagation</td>\n",
       "      <td>0.72</td>\n",
       "      <td>0.72</td>\n",
       "      <td>0.72</td>\n",
       "      <td>0.72</td>\n",
       "      <td>0.01</td>\n",
       "    </tr>\n",
       "    <tr>\n",
       "      <th>5</th>\n",
       "      <td>GaussianNB</td>\n",
       "      <td>0.72</td>\n",
       "      <td>0.70</td>\n",
       "      <td>0.70</td>\n",
       "      <td>0.72</td>\n",
       "      <td>0.01</td>\n",
       "    </tr>\n",
       "    <tr>\n",
       "      <th>6</th>\n",
       "      <td>SVC</td>\n",
       "      <td>0.72</td>\n",
       "      <td>0.72</td>\n",
       "      <td>0.72</td>\n",
       "      <td>0.71</td>\n",
       "      <td>0.01</td>\n",
       "    </tr>\n",
       "    <tr>\n",
       "      <th>7</th>\n",
       "      <td>XGBClassifier</td>\n",
       "      <td>0.71</td>\n",
       "      <td>0.70</td>\n",
       "      <td>0.70</td>\n",
       "      <td>0.71</td>\n",
       "      <td>0.05</td>\n",
       "    </tr>\n",
       "    <tr>\n",
       "      <th>8</th>\n",
       "      <td>RidgeClassifier</td>\n",
       "      <td>0.70</td>\n",
       "      <td>0.69</td>\n",
       "      <td>0.69</td>\n",
       "      <td>0.70</td>\n",
       "      <td>0.01</td>\n",
       "    </tr>\n",
       "    <tr>\n",
       "      <th>9</th>\n",
       "      <td>LogisticRegression</td>\n",
       "      <td>0.70</td>\n",
       "      <td>0.69</td>\n",
       "      <td>0.69</td>\n",
       "      <td>0.70</td>\n",
       "      <td>0.01</td>\n",
       "    </tr>\n",
       "    <tr>\n",
       "      <th>10</th>\n",
       "      <td>LinearSVC</td>\n",
       "      <td>0.70</td>\n",
       "      <td>0.69</td>\n",
       "      <td>0.69</td>\n",
       "      <td>0.70</td>\n",
       "      <td>0.01</td>\n",
       "    </tr>\n",
       "    <tr>\n",
       "      <th>11</th>\n",
       "      <td>LinearDiscriminantAnalysis</td>\n",
       "      <td>0.70</td>\n",
       "      <td>0.69</td>\n",
       "      <td>0.69</td>\n",
       "      <td>0.70</td>\n",
       "      <td>0.01</td>\n",
       "    </tr>\n",
       "    <tr>\n",
       "      <th>12</th>\n",
       "      <td>LabelSpreading</td>\n",
       "      <td>0.70</td>\n",
       "      <td>0.70</td>\n",
       "      <td>0.70</td>\n",
       "      <td>0.70</td>\n",
       "      <td>0.01</td>\n",
       "    </tr>\n",
       "    <tr>\n",
       "      <th>13</th>\n",
       "      <td>BaggingClassifier</td>\n",
       "      <td>0.70</td>\n",
       "      <td>0.70</td>\n",
       "      <td>0.70</td>\n",
       "      <td>0.70</td>\n",
       "      <td>0.02</td>\n",
       "    </tr>\n",
       "    <tr>\n",
       "      <th>14</th>\n",
       "      <td>ExtraTreesClassifier</td>\n",
       "      <td>0.70</td>\n",
       "      <td>0.70</td>\n",
       "      <td>0.70</td>\n",
       "      <td>0.70</td>\n",
       "      <td>0.09</td>\n",
       "    </tr>\n",
       "    <tr>\n",
       "      <th>15</th>\n",
       "      <td>NearestCentroid</td>\n",
       "      <td>0.70</td>\n",
       "      <td>0.69</td>\n",
       "      <td>0.69</td>\n",
       "      <td>0.70</td>\n",
       "      <td>0.01</td>\n",
       "    </tr>\n",
       "    <tr>\n",
       "      <th>16</th>\n",
       "      <td>RidgeClassifierCV</td>\n",
       "      <td>0.70</td>\n",
       "      <td>0.68</td>\n",
       "      <td>0.68</td>\n",
       "      <td>0.70</td>\n",
       "      <td>0.01</td>\n",
       "    </tr>\n",
       "    <tr>\n",
       "      <th>17</th>\n",
       "      <td>KNeighborsClassifier</td>\n",
       "      <td>0.70</td>\n",
       "      <td>0.69</td>\n",
       "      <td>0.69</td>\n",
       "      <td>0.70</td>\n",
       "      <td>0.01</td>\n",
       "    </tr>\n",
       "    <tr>\n",
       "      <th>18</th>\n",
       "      <td>ExtraTreeClassifier</td>\n",
       "      <td>0.69</td>\n",
       "      <td>0.69</td>\n",
       "      <td>0.69</td>\n",
       "      <td>0.70</td>\n",
       "      <td>0.01</td>\n",
       "    </tr>\n",
       "    <tr>\n",
       "      <th>19</th>\n",
       "      <td>QuadraticDiscriminantAnalysis</td>\n",
       "      <td>0.68</td>\n",
       "      <td>0.67</td>\n",
       "      <td>0.67</td>\n",
       "      <td>0.68</td>\n",
       "      <td>0.01</td>\n",
       "    </tr>\n",
       "    <tr>\n",
       "      <th>20</th>\n",
       "      <td>DecisionTreeClassifier</td>\n",
       "      <td>0.67</td>\n",
       "      <td>0.69</td>\n",
       "      <td>0.69</td>\n",
       "      <td>0.67</td>\n",
       "      <td>0.01</td>\n",
       "    </tr>\n",
       "    <tr>\n",
       "      <th>21</th>\n",
       "      <td>AdaBoostClassifier</td>\n",
       "      <td>0.66</td>\n",
       "      <td>0.64</td>\n",
       "      <td>0.64</td>\n",
       "      <td>0.66</td>\n",
       "      <td>0.08</td>\n",
       "    </tr>\n",
       "    <tr>\n",
       "      <th>22</th>\n",
       "      <td>DummyClassifier</td>\n",
       "      <td>0.63</td>\n",
       "      <td>0.50</td>\n",
       "      <td>0.50</td>\n",
       "      <td>0.48</td>\n",
       "      <td>0.01</td>\n",
       "    </tr>\n",
       "    <tr>\n",
       "      <th>23</th>\n",
       "      <td>CalibratedClassifierCV</td>\n",
       "      <td>0.63</td>\n",
       "      <td>0.58</td>\n",
       "      <td>0.58</td>\n",
       "      <td>0.59</td>\n",
       "      <td>0.02</td>\n",
       "    </tr>\n",
       "    <tr>\n",
       "      <th>24</th>\n",
       "      <td>PassiveAggressiveClassifier</td>\n",
       "      <td>0.62</td>\n",
       "      <td>0.63</td>\n",
       "      <td>0.63</td>\n",
       "      <td>0.60</td>\n",
       "      <td>0.01</td>\n",
       "    </tr>\n",
       "    <tr>\n",
       "      <th>25</th>\n",
       "      <td>SGDClassifier</td>\n",
       "      <td>0.57</td>\n",
       "      <td>0.56</td>\n",
       "      <td>0.56</td>\n",
       "      <td>0.56</td>\n",
       "      <td>0.01</td>\n",
       "    </tr>\n",
       "    <tr>\n",
       "      <th>26</th>\n",
       "      <td>Perceptron</td>\n",
       "      <td>0.54</td>\n",
       "      <td>0.54</td>\n",
       "      <td>0.54</td>\n",
       "      <td>0.52</td>\n",
       "      <td>0.01</td>\n",
       "    </tr>\n",
       "  </tbody>\n",
       "</table>\n",
       "</div>"
      ],
      "text/plain": [
       "                            Model  Accuracy  Balanced Accuracy  ROC AUC  \\\n",
       "0                  LGBMClassifier      0.77               0.77     0.77   \n",
       "1                     BernoulliNB      0.75               0.73     0.73   \n",
       "2                           NuSVC      0.74               0.74     0.74   \n",
       "3          RandomForestClassifier      0.73               0.73     0.73   \n",
       "4                LabelPropagation      0.72               0.72     0.72   \n",
       "5                      GaussianNB      0.72               0.70     0.70   \n",
       "6                             SVC      0.72               0.72     0.72   \n",
       "7                   XGBClassifier      0.71               0.70     0.70   \n",
       "8                 RidgeClassifier      0.70               0.69     0.69   \n",
       "9              LogisticRegression      0.70               0.69     0.69   \n",
       "10                      LinearSVC      0.70               0.69     0.69   \n",
       "11     LinearDiscriminantAnalysis      0.70               0.69     0.69   \n",
       "12                 LabelSpreading      0.70               0.70     0.70   \n",
       "13              BaggingClassifier      0.70               0.70     0.70   \n",
       "14           ExtraTreesClassifier      0.70               0.70     0.70   \n",
       "15                NearestCentroid      0.70               0.69     0.69   \n",
       "16              RidgeClassifierCV      0.70               0.68     0.68   \n",
       "17           KNeighborsClassifier      0.70               0.69     0.69   \n",
       "18            ExtraTreeClassifier      0.69               0.69     0.69   \n",
       "19  QuadraticDiscriminantAnalysis      0.68               0.67     0.67   \n",
       "20         DecisionTreeClassifier      0.67               0.69     0.69   \n",
       "21             AdaBoostClassifier      0.66               0.64     0.64   \n",
       "22                DummyClassifier      0.63               0.50     0.50   \n",
       "23         CalibratedClassifierCV      0.63               0.58     0.58   \n",
       "24    PassiveAggressiveClassifier      0.62               0.63     0.63   \n",
       "25                  SGDClassifier      0.57               0.56     0.56   \n",
       "26                     Perceptron      0.54               0.54     0.54   \n",
       "\n",
       "    F1 Score  Time Taken  \n",
       "0       0.77        0.02  \n",
       "1       0.74        0.01  \n",
       "2       0.74        0.01  \n",
       "3       0.74        0.12  \n",
       "4       0.72        0.01  \n",
       "5       0.72        0.01  \n",
       "6       0.71        0.01  \n",
       "7       0.71        0.05  \n",
       "8       0.70        0.01  \n",
       "9       0.70        0.01  \n",
       "10      0.70        0.01  \n",
       "11      0.70        0.01  \n",
       "12      0.70        0.01  \n",
       "13      0.70        0.02  \n",
       "14      0.70        0.09  \n",
       "15      0.70        0.01  \n",
       "16      0.70        0.01  \n",
       "17      0.70        0.01  \n",
       "18      0.70        0.01  \n",
       "19      0.68        0.01  \n",
       "20      0.67        0.01  \n",
       "21      0.66        0.08  \n",
       "22      0.48        0.01  \n",
       "23      0.59        0.02  \n",
       "24      0.60        0.01  \n",
       "25      0.56        0.01  \n",
       "26      0.52        0.01  "
      ]
     },
     "execution_count": 531,
     "metadata": {},
     "output_type": "execute_result"
    }
   ],
   "source": [
    "grouped_combined_results_drop_x2=grouped_combined_results_drop_x2.reset_index()\n",
    "grouped_combined_results_drop_x2"
   ]
  },
  {
   "cell_type": "code",
   "execution_count": 533,
   "id": "acc26b66-a347-435c-b77c-ae0e2952bbdd",
   "metadata": {},
   "outputs": [],
   "source": [
    "three_best_all_features= grouped_combined_results_all_features[grouped_combined_results_all_features[\"Model\"].isin([\"BernoulliNB\",\"LGBMClassifier\",\"SVC\"])]"
   ]
  },
  {
   "cell_type": "code",
   "execution_count": 535,
   "id": "f2a58986-f2e0-45a9-a33b-38fe8d7d02cd",
   "metadata": {},
   "outputs": [
    {
     "data": {
      "text/html": [
       "<div>\n",
       "<style scoped>\n",
       "    .dataframe tbody tr th:only-of-type {\n",
       "        vertical-align: middle;\n",
       "    }\n",
       "\n",
       "    .dataframe tbody tr th {\n",
       "        vertical-align: top;\n",
       "    }\n",
       "\n",
       "    .dataframe thead th {\n",
       "        text-align: right;\n",
       "    }\n",
       "</style>\n",
       "<table border=\"1\" class=\"dataframe\">\n",
       "  <thead>\n",
       "    <tr style=\"text-align: right;\">\n",
       "      <th></th>\n",
       "      <th>Model</th>\n",
       "      <th>Accuracy</th>\n",
       "      <th>Balanced Accuracy</th>\n",
       "      <th>ROC AUC</th>\n",
       "      <th>F1 Score</th>\n",
       "      <th>Time Taken</th>\n",
       "    </tr>\n",
       "  </thead>\n",
       "  <tbody>\n",
       "    <tr>\n",
       "      <th>0</th>\n",
       "      <td>LGBMClassifier</td>\n",
       "      <td>0.75</td>\n",
       "      <td>0.75</td>\n",
       "      <td>0.75</td>\n",
       "      <td>0.75</td>\n",
       "      <td>0.02</td>\n",
       "    </tr>\n",
       "    <tr>\n",
       "      <th>1</th>\n",
       "      <td>BernoulliNB</td>\n",
       "      <td>0.74</td>\n",
       "      <td>0.72</td>\n",
       "      <td>0.72</td>\n",
       "      <td>0.74</td>\n",
       "      <td>0.01</td>\n",
       "    </tr>\n",
       "    <tr>\n",
       "      <th>4</th>\n",
       "      <td>SVC</td>\n",
       "      <td>0.71</td>\n",
       "      <td>0.70</td>\n",
       "      <td>0.70</td>\n",
       "      <td>0.71</td>\n",
       "      <td>0.01</td>\n",
       "    </tr>\n",
       "  </tbody>\n",
       "</table>\n",
       "</div>"
      ],
      "text/plain": [
       "            Model  Accuracy  Balanced Accuracy  ROC AUC  F1 Score  Time Taken\n",
       "0  LGBMClassifier      0.75               0.75     0.75      0.75        0.02\n",
       "1     BernoulliNB      0.74               0.72     0.72      0.74        0.01\n",
       "4             SVC      0.71               0.70     0.70      0.71        0.01"
      ]
     },
     "execution_count": 535,
     "metadata": {},
     "output_type": "execute_result"
    }
   ],
   "source": [
    "three_best_all_features"
   ]
  },
  {
   "cell_type": "code",
   "execution_count": 537,
   "id": "59edea53-ea2d-4d0b-a58c-d29ae59e3faa",
   "metadata": {},
   "outputs": [],
   "source": [
    "three_best_all_features_except_x2= grouped_combined_results_drop_x2[grouped_combined_results_drop_x2[\"Model\"].isin([\"BernoulliNB\",\"LGBMClassifier\",\"SVC\"])]"
   ]
  },
  {
   "cell_type": "code",
   "execution_count": 539,
   "id": "0929871b-7db7-4712-bf29-d17e879760a0",
   "metadata": {},
   "outputs": [
    {
     "data": {
      "text/html": [
       "<div>\n",
       "<style scoped>\n",
       "    .dataframe tbody tr th:only-of-type {\n",
       "        vertical-align: middle;\n",
       "    }\n",
       "\n",
       "    .dataframe tbody tr th {\n",
       "        vertical-align: top;\n",
       "    }\n",
       "\n",
       "    .dataframe thead th {\n",
       "        text-align: right;\n",
       "    }\n",
       "</style>\n",
       "<table border=\"1\" class=\"dataframe\">\n",
       "  <thead>\n",
       "    <tr style=\"text-align: right;\">\n",
       "      <th></th>\n",
       "      <th>Model</th>\n",
       "      <th>Accuracy</th>\n",
       "      <th>Balanced Accuracy</th>\n",
       "      <th>ROC AUC</th>\n",
       "      <th>F1 Score</th>\n",
       "      <th>Time Taken</th>\n",
       "    </tr>\n",
       "  </thead>\n",
       "  <tbody>\n",
       "    <tr>\n",
       "      <th>0</th>\n",
       "      <td>LGBMClassifier</td>\n",
       "      <td>0.77</td>\n",
       "      <td>0.77</td>\n",
       "      <td>0.77</td>\n",
       "      <td>0.77</td>\n",
       "      <td>0.02</td>\n",
       "    </tr>\n",
       "    <tr>\n",
       "      <th>1</th>\n",
       "      <td>BernoulliNB</td>\n",
       "      <td>0.75</td>\n",
       "      <td>0.73</td>\n",
       "      <td>0.73</td>\n",
       "      <td>0.74</td>\n",
       "      <td>0.01</td>\n",
       "    </tr>\n",
       "    <tr>\n",
       "      <th>6</th>\n",
       "      <td>SVC</td>\n",
       "      <td>0.72</td>\n",
       "      <td>0.72</td>\n",
       "      <td>0.72</td>\n",
       "      <td>0.71</td>\n",
       "      <td>0.01</td>\n",
       "    </tr>\n",
       "  </tbody>\n",
       "</table>\n",
       "</div>"
      ],
      "text/plain": [
       "            Model  Accuracy  Balanced Accuracy  ROC AUC  F1 Score  Time Taken\n",
       "0  LGBMClassifier      0.77               0.77     0.77      0.77        0.02\n",
       "1     BernoulliNB      0.75               0.73     0.73      0.74        0.01\n",
       "6             SVC      0.72               0.72     0.72      0.71        0.01"
      ]
     },
     "execution_count": 539,
     "metadata": {},
     "output_type": "execute_result"
    }
   ],
   "source": [
    "three_best_all_features_except_x2"
   ]
  },
  {
   "cell_type": "code",
   "execution_count": 541,
   "id": "0dd4c9df-6b61-4969-801e-04a0899fe67c",
   "metadata": {},
   "outputs": [
    {
     "data": {
      "image/png": "[encoded data removed]",
      "text/plain": [
       "<Figure size 1000x600 with 1 Axes>"
      ]
     },
     "metadata": {},
     "output_type": "display_data"
    }
   ],
   "source": [
    "fig, ax = plt.subplots(figsize=(10, 6))\n",
    "models = np.arange(len(three_best_all_features[\"Model\"])) \n",
    "width = 0.35\n",
    "\n",
    "# Create bar plots with blue and yellow colors\n",
    "rec1 = ax.bar(models, three_best_all_features[\"Accuracy\"], width, color=\"blue\", label=\"All Features\")\n",
    "rec2 = ax.bar(models + width, three_best_all_features_except_x2[\"Accuracy\"], width, color=\"yellow\", label=\"Except X2\")\n",
    "\n",
    "# Set y-axis limits\n",
    "ax.set_ylim(0.6, 0.8)\n",
    "\n",
    "# Add labels and title\n",
    "ax.set_ylabel('Accuracy')\n",
    "ax.set_title('Models Accuracy Comparison')\n",
    "ax.set_xticks(models + width / 2)  # Center tick labels\n",
    "ax.set_xticklabels(three_best_all_features[\"Model\"], rotation=45, fontsize=10)\n",
    "\n",
    "# Add legend\n",
    "ax.legend()\n",
    "\n",
    "# Add grid for better readability\n",
    "ax.grid(axis=\"y\", linestyle=\"--\", alpha=0.7)\n",
    "\n",
    "# Adjust layout and show plot\n",
    "plt.tight_layout()\n",
    "plt.show()\n"
   ]
  },
  {
   "cell_type": "markdown",
   "id": "3a8cb09d-e7b0-43fc-9476-5bd087ec9960",
   "metadata": {},
   "source": [
    "Based on our initial study of the mutual information between features and the output, we found that the feature X2 had the least impact on the model's predictions. To validate this finding, we ran the Lazy Prediction framework with and without the X2 feature. The figure above illustrates that, for the three best models we selected to proceed with, training on all features (including X2) resulted in worse performance compared to training without X2. This supports our conclusion that removing the X2 feature improves model performance."
   ]
  },
  {
   "cell_type": "markdown",
   "id": "b919d7db-e0be-42cd-9081-a6e7bfd12de2",
   "metadata": {},
   "source": [
    "### Bernoulli Naive Bayes\n",
    "We train, BernulliNB on the entire dataset, Then, because of low accuracy, we decide to investigate more on input\n",
    "features. By incorporating the recursive feature elimination technique, we found that the model can perform better\n",
    "with three features X1,X3 and, X5. The best accuracy we achieve after hyperparameters optimization is 72.7%.\n"
   ]
  },
  {
   "cell_type": "code",
   "execution_count": 545,
   "id": "67fd8b80-65aa-45ac-a699-bf0f415a3d40",
   "metadata": {},
   "outputs": [],
   "source": [
    "from sklearn.naive_bayes import BernoulliNB\n",
    "from sklearn.metrics import accuracy_score, f1_score, classification_report"
   ]
  },
  {
   "cell_type": "code",
   "execution_count": 547,
   "id": "29231b0e-dc50-4d9d-b319-7a96d2213b8e",
   "metadata": {},
   "outputs": [],
   "source": [
    "x= new_dataset.iloc[:,1:].values\n",
    "y=new_dataset.iloc[:,0].values"
   ]
  },
  {
   "cell_type": "code",
   "execution_count": 549,
   "id": "b22451d8-6543-4c2d-8d2d-534664492665",
   "metadata": {},
   "outputs": [
    {
     "data": {
      "text/plain": [
       "Index(['X1', 'X3', 'X4', 'X5', 'X6'], dtype='object')"
      ]
     },
     "execution_count": 549,
     "metadata": {},
     "output_type": "execute_result"
    }
   ],
   "source": [
    "new_dataset.iloc[:,1:].columns"
   ]
  },
  {
   "cell_type": "code",
   "execution_count": 551,
   "id": "00b65606-89c2-42a3-98ee-990141aa9d7a",
   "metadata": {},
   "outputs": [],
   "source": [
    "bnb_all_random_seeds_accuracy=[]\n",
    "bnb_all_random_seeds_f1=[]\n",
    "for state in random_states:\n",
    "    X_train,X_test,Y_train,Y_test=train_test_split(x,y,test_size=0.2,random_state=state)\n",
    "    bnb_model = BernoulliNB()\n",
    "    bnb_model.fit(X_train,Y_train)\n",
    "    bnb_y_pred = bnb_model.predict(X_test)\n",
    "    accuracy = accuracy_score(Y_test, bnb_y_pred)\n",
    "    f1 = f1_score(Y_test, bnb_y_pred)\n",
    "    bnb_all_random_seeds_accuracy.append(accuracy)\n",
    "    bnb_all_random_seeds_f1.append(f1)"
   ]
  },
  {
   "cell_type": "code",
   "execution_count": 553,
   "id": "aab99260-b937-445c-950d-93dcfac73244",
   "metadata": {},
   "outputs": [
    {
     "data": {
      "text/plain": [
       "0.6269230769230769"
      ]
     },
     "execution_count": 553,
     "metadata": {},
     "output_type": "execute_result"
    }
   ],
   "source": [
    "sum(bnb_all_random_seeds_accuracy)/len(bnb_all_random_seeds_accuracy)"
   ]
  },
  {
   "cell_type": "code",
   "execution_count": 555,
   "id": "ddaed5c9-a8d0-49d1-a828-6ea67c6d48f4",
   "metadata": {},
   "outputs": [
    {
     "data": {
      "text/plain": [
       "0.7691457644265358"
      ]
     },
     "execution_count": 555,
     "metadata": {},
     "output_type": "execute_result"
    }
   ],
   "source": [
    "bnb_all_random_seeds_f1\n",
    "sum(bnb_all_random_seeds_f1)/len(bnb_all_random_seeds_f1)"
   ]
  },
  {
   "cell_type": "code",
   "execution_count": 557,
   "id": "3946d5f7-2700-41c4-97cf-4c33eade152c",
   "metadata": {},
   "outputs": [],
   "source": [
    "from hyperopt import fmin, tpe, hp, Trials, STATUS_OK\n",
    "from sklearn.preprocessing import MinMaxScaler\n",
    "from sklearn.feature_selection import RFE\n",
    "from sklearn.linear_model import LogisticRegression\n",
    "from sklearn.model_selection import cross_val_score\n"
   ]
  },
  {
   "cell_type": "code",
   "execution_count": 565,
   "id": "d06644c6-4fab-4fae-944b-6803eb25cac2",
   "metadata": {},
   "outputs": [
    {
     "name": "stdout",
     "output_type": "stream",
     "text": [
      "  0%|                                                                           | 0/50 [00:00<?, ?trial/s, best loss=?]"
     ]
    },
    {
     "name": "stderr",
     "output_type": "stream",
     "text": [
      "INFO:hyperopt.tpe:build_posterior_wrapper took 0.001800 seconds\n",
      "INFO:hyperopt.tpe:TPE using 0 trials\n",
      "INFO:hyperopt.tpe:build_posterior_wrapper took 0.001011 seconds\n",
      "INFO:hyperopt.tpe:TPE using 1/1 trials with best loss -0.540000\n",
      "INFO:hyperopt.tpe:build_posterior_wrapper took 0.001001 seconds\n",
      "INFO:hyperopt.tpe:TPE using 2/2 trials with best loss -0.570000\n",
      "INFO:hyperopt.tpe:build_posterior_wrapper took 0.000000 seconds\n",
      "INFO:hyperopt.tpe:TPE using 3/3 trials with best loss -0.570000\n"
     ]
    },
    {
     "name": "stdout",
     "output_type": "stream",
     "text": [
      "  8%|█████                                                          | 4/50 [00:00<00:01, 34.11trial/s, best loss: -0.6]"
     ]
    },
    {
     "name": "stderr",
     "output_type": "stream",
     "text": [
      "INFO:hyperopt.tpe:build_posterior_wrapper took 0.000000 seconds\n",
      "INFO:hyperopt.tpe:TPE using 4/4 trials with best loss -0.600000\n",
      "INFO:hyperopt.tpe:build_posterior_wrapper took 0.001137 seconds\n",
      "INFO:hyperopt.tpe:TPE using 5/5 trials with best loss -0.600000\n",
      "INFO:hyperopt.tpe:build_posterior_wrapper took 0.000998 seconds\n",
      "INFO:hyperopt.tpe:TPE using 6/6 trials with best loss -0.600000\n",
      "INFO:hyperopt.tpe:build_posterior_wrapper took 0.001068 seconds\n",
      "INFO:hyperopt.tpe:TPE using 7/7 trials with best loss -0.600000\n"
     ]
    },
    {
     "name": "stdout",
     "output_type": "stream",
     "text": [
      " 16%|██████████                                                     | 8/50 [00:00<00:01, 36.81trial/s, best loss: -0.6]"
     ]
    },
    {
     "name": "stderr",
     "output_type": "stream",
     "text": [
      "INFO:hyperopt.tpe:build_posterior_wrapper took 0.000000 seconds\n",
      "INFO:hyperopt.tpe:TPE using 8/8 trials with best loss -0.600000\n",
      "INFO:hyperopt.tpe:build_posterior_wrapper took 0.001011 seconds\n",
      "INFO:hyperopt.tpe:TPE using 9/9 trials with best loss -0.600000\n",
      "INFO:hyperopt.tpe:build_posterior_wrapper took 0.001011 seconds\n",
      "INFO:hyperopt.tpe:TPE using 10/10 trials with best loss -0.600000\n",
      "INFO:hyperopt.tpe:build_posterior_wrapper took 0.004886 seconds\n",
      "INFO:hyperopt.tpe:TPE using 11/11 trials with best loss -0.600000\n",
      "INFO:hyperopt.tpe:build_posterior_wrapper took 0.001241 seconds\n",
      "INFO:hyperopt.tpe:TPE using 12/12 trials with best loss -0.600000\n",
      "INFO:hyperopt.tpe:build_posterior_wrapper took 0.000000 seconds\n",
      "INFO:hyperopt.tpe:TPE using 13/13 trials with best loss -0.600000\n"
     ]
    },
    {
     "name": "stdout",
     "output_type": "stream",
     "text": [
      " 28%|█████████████████▎                                            | 14/50 [00:00<00:00, 44.94trial/s, best loss: -0.6]"
     ]
    },
    {
     "name": "stderr",
     "output_type": "stream",
     "text": [
      "INFO:hyperopt.tpe:build_posterior_wrapper took 0.000000 seconds\n",
      "INFO:hyperopt.tpe:TPE using 14/14 trials with best loss -0.600000\n",
      "INFO:hyperopt.tpe:build_posterior_wrapper took 0.001024 seconds\n",
      "INFO:hyperopt.tpe:TPE using 15/15 trials with best loss -0.600000\n",
      "INFO:hyperopt.tpe:build_posterior_wrapper took 0.000000 seconds\n",
      "INFO:hyperopt.tpe:TPE using 16/16 trials with best loss -0.600000\n",
      "INFO:hyperopt.tpe:build_posterior_wrapper took 0.001123 seconds\n",
      "INFO:hyperopt.tpe:TPE using 17/17 trials with best loss -0.600000\n",
      "INFO:hyperopt.tpe:build_posterior_wrapper took 0.000000 seconds\n",
      "INFO:hyperopt.tpe:TPE using 18/18 trials with best loss -0.600000\n",
      "INFO:hyperopt.tpe:build_posterior_wrapper took 0.001010 seconds\n",
      "INFO:hyperopt.tpe:TPE using 19/19 trials with best loss -0.600000\n",
      "INFO:hyperopt.tpe:build_posterior_wrapper took 0.001143 seconds\n",
      "INFO:hyperopt.tpe:TPE using 20/20 trials with best loss -0.600000\n"
     ]
    },
    {
     "name": "stdout",
     "output_type": "stream",
     "text": [
      " 42%|██████████████████████████                                    | 21/50 [00:00<00:00, 51.31trial/s, best loss: -0.6]"
     ]
    },
    {
     "name": "stderr",
     "output_type": "stream",
     "text": [
      "INFO:hyperopt.tpe:build_posterior_wrapper took 0.001468 seconds\n",
      "INFO:hyperopt.tpe:TPE using 21/21 trials with best loss -0.600000\n",
      "INFO:hyperopt.tpe:build_posterior_wrapper took 0.000448 seconds\n",
      "INFO:hyperopt.tpe:TPE using 22/22 trials with best loss -0.600000\n",
      "INFO:hyperopt.tpe:build_posterior_wrapper took 0.000000 seconds\n",
      "INFO:hyperopt.tpe:TPE using 23/23 trials with best loss -0.600000\n",
      "INFO:hyperopt.tpe:build_posterior_wrapper took 0.001008 seconds\n",
      "INFO:hyperopt.tpe:TPE using 24/24 trials with best loss -0.600000\n",
      "INFO:hyperopt.tpe:build_posterior_wrapper took 0.000000 seconds\n",
      "INFO:hyperopt.tpe:TPE using 25/25 trials with best loss -0.600000\n",
      "INFO:hyperopt.tpe:build_posterior_wrapper took 0.000515 seconds\n",
      "INFO:hyperopt.tpe:TPE using 26/26 trials with best loss -0.600000\n",
      "INFO:hyperopt.tpe:build_posterior_wrapper took 0.000000 seconds\n",
      "INFO:hyperopt.tpe:TPE using 27/27 trials with best loss -0.600000\n"
     ]
    },
    {
     "name": "stdout",
     "output_type": "stream",
     "text": [
      " 56%|██████████████████████████████████▋                           | 28/50 [00:00<00:00, 55.49trial/s, best loss: -0.6]"
     ]
    },
    {
     "name": "stderr",
     "output_type": "stream",
     "text": [
      "INFO:hyperopt.tpe:build_posterior_wrapper took 0.000000 seconds\n",
      "INFO:hyperopt.tpe:TPE using 28/28 trials with best loss -0.600000\n",
      "INFO:hyperopt.tpe:build_posterior_wrapper took 0.000000 seconds\n",
      "INFO:hyperopt.tpe:TPE using 29/29 trials with best loss -0.600000\n",
      "INFO:hyperopt.tpe:build_posterior_wrapper took 0.000878 seconds\n",
      "INFO:hyperopt.tpe:TPE using 30/30 trials with best loss -0.600000\n",
      "INFO:hyperopt.tpe:build_posterior_wrapper took 0.000000 seconds\n",
      "INFO:hyperopt.tpe:TPE using 31/31 trials with best loss -0.600000\n",
      "INFO:hyperopt.tpe:build_posterior_wrapper took 0.001108 seconds\n",
      "INFO:hyperopt.tpe:TPE using 32/32 trials with best loss -0.600000\n",
      "INFO:hyperopt.tpe:build_posterior_wrapper took 0.001247 seconds\n",
      "INFO:hyperopt.tpe:TPE using 33/33 trials with best loss -0.600000\n",
      "INFO:hyperopt.tpe:build_posterior_wrapper took 0.000000 seconds\n",
      "INFO:hyperopt.tpe:TPE using 34/34 trials with best loss -0.600000\n"
     ]
    },
    {
     "name": "stdout",
     "output_type": "stream",
     "text": [
      " 70%|███████████████████████████████████████████▍                  | 35/50 [00:00<00:00, 58.57trial/s, best loss: -0.6]"
     ]
    },
    {
     "name": "stderr",
     "output_type": "stream",
     "text": [
      "INFO:hyperopt.tpe:build_posterior_wrapper took 0.000322 seconds\n",
      "INFO:hyperopt.tpe:TPE using 35/35 trials with best loss -0.600000\n",
      "INFO:hyperopt.tpe:build_posterior_wrapper took 0.001012 seconds\n",
      "INFO:hyperopt.tpe:TPE using 36/36 trials with best loss -0.600000\n",
      "INFO:hyperopt.tpe:build_posterior_wrapper took 0.001477 seconds\n",
      "INFO:hyperopt.tpe:TPE using 37/37 trials with best loss -0.600000\n",
      "INFO:hyperopt.tpe:build_posterior_wrapper took 0.001247 seconds\n",
      "INFO:hyperopt.tpe:TPE using 38/38 trials with best loss -0.600000\n",
      "INFO:hyperopt.tpe:build_posterior_wrapper took 0.000000 seconds\n",
      "INFO:hyperopt.tpe:TPE using 39/39 trials with best loss -0.600000\n",
      "INFO:hyperopt.tpe:build_posterior_wrapper took 0.000000 seconds\n",
      "INFO:hyperopt.tpe:TPE using 40/40 trials with best loss -0.600000\n"
     ]
    },
    {
     "name": "stdout",
     "output_type": "stream",
     "text": [
      " 82%|██████████████████████████████████████████████████▊           | 41/50 [00:00<00:00, 58.87trial/s, best loss: -0.6]"
     ]
    },
    {
     "name": "stderr",
     "output_type": "stream",
     "text": [
      "INFO:hyperopt.tpe:build_posterior_wrapper took 0.001095 seconds\n",
      "INFO:hyperopt.tpe:TPE using 41/41 trials with best loss -0.600000\n",
      "INFO:hyperopt.tpe:build_posterior_wrapper took 0.000225 seconds\n",
      "INFO:hyperopt.tpe:TPE using 42/42 trials with best loss -0.600000\n",
      "INFO:hyperopt.tpe:build_posterior_wrapper took 0.002126 seconds\n",
      "INFO:hyperopt.tpe:TPE using 43/43 trials with best loss -0.600000\n",
      "INFO:hyperopt.tpe:build_posterior_wrapper took 0.000000 seconds\n",
      "INFO:hyperopt.tpe:TPE using 44/44 trials with best loss -0.600000\n",
      "INFO:hyperopt.tpe:build_posterior_wrapper took 0.001009 seconds\n",
      "INFO:hyperopt.tpe:TPE using 45/45 trials with best loss -0.600000\n",
      "INFO:hyperopt.tpe:build_posterior_wrapper took 0.001849 seconds\n",
      "INFO:hyperopt.tpe:TPE using 46/46 trials with best loss -0.600000\n",
      "INFO:hyperopt.tpe:build_posterior_wrapper took 0.000506 seconds\n",
      "INFO:hyperopt.tpe:TPE using 47/47 trials with best loss -0.600000\n"
     ]
    },
    {
     "name": "stdout",
     "output_type": "stream",
     "text": [
      " 96%|███████████████████████████████████████████████████████████▌  | 48/50 [00:00<00:00, 60.05trial/s, best loss: -0.6]"
     ]
    },
    {
     "name": "stderr",
     "output_type": "stream",
     "text": [
      "INFO:hyperopt.tpe:build_posterior_wrapper took 0.000564 seconds\n",
      "INFO:hyperopt.tpe:TPE using 48/48 trials with best loss -0.600000\n",
      "INFO:hyperopt.tpe:build_posterior_wrapper took 0.003729 seconds\n",
      "INFO:hyperopt.tpe:TPE using 49/49 trials with best loss -0.600000\n"
     ]
    },
    {
     "name": "stdout",
     "output_type": "stream",
     "text": [
      "100%|██████████████████████████████████████████████████████████████| 50/50 [00:00<00:00, 54.85trial/s, best loss: -0.6]\n",
      "  0%|                                                                           | 0/50 [00:00<?, ?trial/s, best loss=?]"
     ]
    },
    {
     "name": "stderr",
     "output_type": "stream",
     "text": [
      "INFO:hyperopt.tpe:build_posterior_wrapper took 0.001186 seconds\n",
      "INFO:hyperopt.tpe:TPE using 0 trials\n",
      "INFO:hyperopt.tpe:build_posterior_wrapper took 0.000000 seconds\n",
      "INFO:hyperopt.tpe:TPE using 1/1 trials with best loss -0.600000\n",
      "INFO:hyperopt.tpe:build_posterior_wrapper took 0.000000 seconds\n",
      "INFO:hyperopt.tpe:TPE using 2/2 trials with best loss -0.600000\n",
      "INFO:hyperopt.tpe:build_posterior_wrapper took 0.000299 seconds\n",
      "INFO:hyperopt.tpe:TPE using 3/3 trials with best loss -0.600000\n",
      "INFO:hyperopt.tpe:build_posterior_wrapper took 0.000000 seconds\n",
      "INFO:hyperopt.tpe:TPE using 4/4 trials with best loss -0.610000\n",
      "INFO:hyperopt.tpe:build_posterior_wrapper took 0.000000 seconds\n",
      "INFO:hyperopt.tpe:TPE using 5/5 trials with best loss -0.610000\n",
      "INFO:hyperopt.tpe:build_posterior_wrapper took 0.001009 seconds\n",
      "INFO:hyperopt.tpe:TPE using 6/6 trials with best loss -0.610000\n",
      "INFO:hyperopt.tpe:build_posterior_wrapper took 0.001014 seconds\n",
      "INFO:hyperopt.tpe:TPE using 7/7 trials with best loss -0.610000\n",
      "INFO:hyperopt.tpe:build_posterior_wrapper took 0.001270 seconds\n",
      "INFO:hyperopt.tpe:TPE using 8/8 trials with best loss -0.610000\n"
     ]
    },
    {
     "name": "stdout",
     "output_type": "stream",
     "text": [
      " 18%|████████▋                                       | 9/50 [00:00<00:00, 80.95trial/s, best loss: -0.6100000000000001]"
     ]
    },
    {
     "name": "stderr",
     "output_type": "stream",
     "text": [
      "INFO:hyperopt.tpe:build_posterior_wrapper took 0.001143 seconds\n",
      "INFO:hyperopt.tpe:TPE using 9/9 trials with best loss -0.610000\n",
      "INFO:hyperopt.tpe:build_posterior_wrapper took 0.001732 seconds\n",
      "INFO:hyperopt.tpe:TPE using 10/10 trials with best loss -0.610000\n",
      "INFO:hyperopt.tpe:build_posterior_wrapper took 0.001236 seconds\n",
      "INFO:hyperopt.tpe:TPE using 11/11 trials with best loss -0.610000\n",
      "INFO:hyperopt.tpe:build_posterior_wrapper took 0.001000 seconds\n",
      "INFO:hyperopt.tpe:TPE using 12/12 trials with best loss -0.610000\n",
      "INFO:hyperopt.tpe:build_posterior_wrapper took 0.001050 seconds\n",
      "INFO:hyperopt.tpe:TPE using 13/13 trials with best loss -0.610000\n",
      "INFO:hyperopt.tpe:build_posterior_wrapper took 0.003264 seconds\n",
      "INFO:hyperopt.tpe:TPE using 14/14 trials with best loss -0.610000\n",
      "INFO:hyperopt.tpe:build_posterior_wrapper took 0.000000 seconds\n",
      "INFO:hyperopt.tpe:TPE using 15/15 trials with best loss -0.610000\n",
      "INFO:hyperopt.tpe:build_posterior_wrapper took 0.000000 seconds\n",
      "INFO:hyperopt.tpe:TPE using 16/16 trials with best loss -0.610000\n",
      "INFO:hyperopt.tpe:build_posterior_wrapper took 0.000000 seconds\n",
      "INFO:hyperopt.tpe:TPE using 17/17 trials with best loss -0.610000\n"
     ]
    },
    {
     "name": "stdout",
     "output_type": "stream",
     "text": [
      " 36%|████████████████▉                              | 18/50 [00:00<00:00, 77.36trial/s, best loss: -0.6100000000000001]"
     ]
    },
    {
     "name": "stderr",
     "output_type": "stream",
     "text": [
      "INFO:hyperopt.tpe:build_posterior_wrapper took 0.000000 seconds\n",
      "INFO:hyperopt.tpe:TPE using 18/18 trials with best loss -0.610000\n",
      "INFO:hyperopt.tpe:build_posterior_wrapper took 0.000000 seconds\n",
      "INFO:hyperopt.tpe:TPE using 19/19 trials with best loss -0.610000\n",
      "INFO:hyperopt.tpe:build_posterior_wrapper took 0.000974 seconds\n",
      "INFO:hyperopt.tpe:TPE using 20/20 trials with best loss -0.610000\n",
      "INFO:hyperopt.tpe:build_posterior_wrapper took 0.004265 seconds\n",
      "INFO:hyperopt.tpe:TPE using 21/21 trials with best loss -0.610000\n",
      "INFO:hyperopt.tpe:build_posterior_wrapper took 0.000331 seconds\n",
      "INFO:hyperopt.tpe:TPE using 22/22 trials with best loss -0.610000\n",
      "INFO:hyperopt.tpe:build_posterior_wrapper took 0.000000 seconds\n",
      "INFO:hyperopt.tpe:TPE using 23/23 trials with best loss -0.610000\n",
      "INFO:hyperopt.tpe:build_posterior_wrapper took 0.000000 seconds\n",
      "INFO:hyperopt.tpe:TPE using 24/24 trials with best loss -0.610000\n",
      "INFO:hyperopt.tpe:build_posterior_wrapper took 0.002429 seconds\n",
      "INFO:hyperopt.tpe:TPE using 25/25 trials with best loss -0.610000\n"
     ]
    },
    {
     "name": "stdout",
     "output_type": "stream",
     "text": [
      " 52%|████████████████████████▍                      | 26/50 [00:00<00:00, 73.84trial/s, best loss: -0.6100000000000001]"
     ]
    },
    {
     "name": "stderr",
     "output_type": "stream",
     "text": [
      "INFO:hyperopt.tpe:build_posterior_wrapper took 0.001000 seconds\n",
      "INFO:hyperopt.tpe:TPE using 26/26 trials with best loss -0.610000\n",
      "INFO:hyperopt.tpe:build_posterior_wrapper took 0.000000 seconds\n",
      "INFO:hyperopt.tpe:TPE using 27/27 trials with best loss -0.610000\n",
      "INFO:hyperopt.tpe:build_posterior_wrapper took 0.000504 seconds\n",
      "INFO:hyperopt.tpe:TPE using 28/28 trials with best loss -0.610000\n",
      "INFO:hyperopt.tpe:build_posterior_wrapper took 0.000000 seconds\n",
      "INFO:hyperopt.tpe:TPE using 29/29 trials with best loss -0.610000\n",
      "INFO:hyperopt.tpe:build_posterior_wrapper took 0.000000 seconds\n",
      "INFO:hyperopt.tpe:TPE using 30/30 trials with best loss -0.610000\n",
      "INFO:hyperopt.tpe:build_posterior_wrapper took 0.001008 seconds\n",
      "INFO:hyperopt.tpe:TPE using 31/31 trials with best loss -0.610000\n",
      "INFO:hyperopt.tpe:build_posterior_wrapper took 0.000000 seconds\n",
      "INFO:hyperopt.tpe:TPE using 32/32 trials with best loss -0.610000\n",
      "INFO:hyperopt.tpe:build_posterior_wrapper took 0.000000 seconds\n",
      "INFO:hyperopt.tpe:TPE using 33/33 trials with best loss -0.610000\n"
     ]
    },
    {
     "name": "stdout",
     "output_type": "stream",
     "text": [
      " 68%|███████████████████████████████▉               | 34/50 [00:00<00:00, 69.73trial/s, best loss: -0.6100000000000001]"
     ]
    },
    {
     "name": "stderr",
     "output_type": "stream",
     "text": [
      "INFO:hyperopt.tpe:build_posterior_wrapper took 0.000504 seconds\n",
      "INFO:hyperopt.tpe:TPE using 34/34 trials with best loss -0.610000\n",
      "INFO:hyperopt.tpe:build_posterior_wrapper took 0.000000 seconds\n",
      "INFO:hyperopt.tpe:TPE using 35/35 trials with best loss -0.610000\n",
      "INFO:hyperopt.tpe:build_posterior_wrapper took 0.000000 seconds\n",
      "INFO:hyperopt.tpe:TPE using 36/36 trials with best loss -0.610000\n",
      "INFO:hyperopt.tpe:build_posterior_wrapper took 0.000999 seconds\n",
      "INFO:hyperopt.tpe:TPE using 37/37 trials with best loss -0.610000\n",
      "INFO:hyperopt.tpe:build_posterior_wrapper took 0.000000 seconds\n",
      "INFO:hyperopt.tpe:TPE using 38/38 trials with best loss -0.610000\n",
      "INFO:hyperopt.tpe:build_posterior_wrapper took 0.001010 seconds\n",
      "INFO:hyperopt.tpe:TPE using 39/39 trials with best loss -0.610000\n",
      "INFO:hyperopt.tpe:build_posterior_wrapper took 0.000000 seconds\n",
      "INFO:hyperopt.tpe:TPE using 40/40 trials with best loss -0.610000\n"
     ]
    },
    {
     "name": "stdout",
     "output_type": "stream",
     "text": [
      " 82%|██████████████████████████████████████▌        | 41/50 [00:00<00:00, 67.90trial/s, best loss: -0.6100000000000001]"
     ]
    },
    {
     "name": "stderr",
     "output_type": "stream",
     "text": [
      "INFO:hyperopt.tpe:build_posterior_wrapper took 0.001009 seconds\n",
      "INFO:hyperopt.tpe:TPE using 41/41 trials with best loss -0.610000\n",
      "INFO:hyperopt.tpe:build_posterior_wrapper took 0.001022 seconds\n",
      "INFO:hyperopt.tpe:TPE using 42/42 trials with best loss -0.610000\n",
      "INFO:hyperopt.tpe:build_posterior_wrapper took 0.000000 seconds\n",
      "INFO:hyperopt.tpe:TPE using 43/43 trials with best loss -0.610000\n",
      "INFO:hyperopt.tpe:build_posterior_wrapper took 0.000000 seconds\n",
      "INFO:hyperopt.tpe:TPE using 44/44 trials with best loss -0.610000\n",
      "INFO:hyperopt.tpe:build_posterior_wrapper took 0.000000 seconds\n",
      "INFO:hyperopt.tpe:TPE using 45/45 trials with best loss -0.610000\n",
      "INFO:hyperopt.tpe:build_posterior_wrapper took 0.000000 seconds\n",
      "INFO:hyperopt.tpe:TPE using 46/46 trials with best loss -0.610000\n",
      "INFO:hyperopt.tpe:build_posterior_wrapper took 0.002508 seconds\n",
      "INFO:hyperopt.tpe:TPE using 47/47 trials with best loss -0.610000\n"
     ]
    },
    {
     "name": "stdout",
     "output_type": "stream",
     "text": [
      " 96%|█████████████████████████████████████████████  | 48/50 [00:00<00:00, 67.95trial/s, best loss: -0.6100000000000001]"
     ]
    },
    {
     "name": "stderr",
     "output_type": "stream",
     "text": [
      "INFO:hyperopt.tpe:build_posterior_wrapper took 0.000000 seconds\n",
      "INFO:hyperopt.tpe:TPE using 48/48 trials with best loss -0.610000\n",
      "INFO:hyperopt.tpe:build_posterior_wrapper took 0.003008 seconds\n",
      "INFO:hyperopt.tpe:TPE using 49/49 trials with best loss -0.610000\n"
     ]
    },
    {
     "name": "stdout",
     "output_type": "stream",
     "text": [
      "100%|███████████████████████████████████████████████| 50/50 [00:00<00:00, 70.32trial/s, best loss: -0.6100000000000001]\n",
      "  0%|                                                                           | 0/50 [00:00<?, ?trial/s, best loss=?]"
     ]
    },
    {
     "name": "stderr",
     "output_type": "stream",
     "text": [
      "INFO:hyperopt.tpe:build_posterior_wrapper took 0.001663 seconds\n",
      "INFO:hyperopt.tpe:TPE using 0 trials\n",
      "INFO:hyperopt.tpe:build_posterior_wrapper took 0.000000 seconds\n",
      "INFO:hyperopt.tpe:TPE using 1/1 trials with best loss -0.510000\n",
      "INFO:hyperopt.tpe:build_posterior_wrapper took 0.000000 seconds\n",
      "INFO:hyperopt.tpe:TPE using 2/2 trials with best loss -0.530000\n",
      "INFO:hyperopt.tpe:build_posterior_wrapper took 0.000000 seconds\n",
      "INFO:hyperopt.tpe:TPE using 3/3 trials with best loss -0.530000\n",
      "INFO:hyperopt.tpe:build_posterior_wrapper took 0.000000 seconds\n",
      "INFO:hyperopt.tpe:TPE using 4/4 trials with best loss -0.580000\n",
      "INFO:hyperopt.tpe:build_posterior_wrapper took 0.002509 seconds\n",
      "INFO:hyperopt.tpe:TPE using 5/5 trials with best loss -0.580000\n",
      "INFO:hyperopt.tpe:build_posterior_wrapper took 0.000000 seconds\n",
      "INFO:hyperopt.tpe:TPE using 6/6 trials with best loss -0.580000\n",
      "INFO:hyperopt.tpe:build_posterior_wrapper took 0.001001 seconds\n",
      "INFO:hyperopt.tpe:TPE using 7/7 trials with best loss -0.580000\n"
     ]
    },
    {
     "name": "stdout",
     "output_type": "stream",
     "text": [
      " 16%|█████████▉                                                    | 8/50 [00:00<00:00, 73.38trial/s, best loss: -0.58]"
     ]
    },
    {
     "name": "stderr",
     "output_type": "stream",
     "text": [
      "INFO:hyperopt.tpe:build_posterior_wrapper took 0.000000 seconds\n",
      "INFO:hyperopt.tpe:TPE using 8/8 trials with best loss -0.580000\n",
      "INFO:hyperopt.tpe:build_posterior_wrapper took 0.000000 seconds\n",
      "INFO:hyperopt.tpe:TPE using 9/9 trials with best loss -0.580000\n",
      "INFO:hyperopt.tpe:build_posterior_wrapper took 0.002093 seconds\n",
      "INFO:hyperopt.tpe:TPE using 10/10 trials with best loss -0.580000\n",
      "INFO:hyperopt.tpe:build_posterior_wrapper took 0.000000 seconds\n",
      "INFO:hyperopt.tpe:TPE using 11/11 trials with best loss -0.580000\n",
      "INFO:hyperopt.tpe:build_posterior_wrapper took 0.000000 seconds\n",
      "INFO:hyperopt.tpe:TPE using 12/12 trials with best loss -0.580000\n",
      "INFO:hyperopt.tpe:build_posterior_wrapper took 0.000506 seconds\n",
      "INFO:hyperopt.tpe:TPE using 13/13 trials with best loss -0.580000\n",
      "INFO:hyperopt.tpe:build_posterior_wrapper took 0.000000 seconds\n",
      "INFO:hyperopt.tpe:TPE using 14/14 trials with best loss -0.580000\n",
      "INFO:hyperopt.tpe:build_posterior_wrapper took 0.000000 seconds\n",
      "INFO:hyperopt.tpe:TPE using 15/15 trials with best loss -0.580000\n"
     ]
    },
    {
     "name": "stdout",
     "output_type": "stream",
     "text": [
      " 32%|███████████████                                | 16/50 [00:00<00:00, 75.08trial/s, best loss: -0.5800000000000001]"
     ]
    },
    {
     "name": "stderr",
     "output_type": "stream",
     "text": [
      "INFO:hyperopt.tpe:build_posterior_wrapper took 0.000000 seconds\n",
      "INFO:hyperopt.tpe:TPE using 16/16 trials with best loss -0.580000\n",
      "INFO:hyperopt.tpe:build_posterior_wrapper took 0.000000 seconds\n",
      "INFO:hyperopt.tpe:TPE using 17/17 trials with best loss -0.600000\n",
      "INFO:hyperopt.tpe:build_posterior_wrapper took 0.001024 seconds\n",
      "INFO:hyperopt.tpe:TPE using 18/18 trials with best loss -0.600000\n",
      "INFO:hyperopt.tpe:build_posterior_wrapper took 0.000000 seconds\n",
      "INFO:hyperopt.tpe:TPE using 19/19 trials with best loss -0.600000\n",
      "INFO:hyperopt.tpe:build_posterior_wrapper took 0.000000 seconds\n",
      "INFO:hyperopt.tpe:TPE using 20/20 trials with best loss -0.600000\n",
      "INFO:hyperopt.tpe:build_posterior_wrapper took 0.001025 seconds\n",
      "INFO:hyperopt.tpe:TPE using 21/21 trials with best loss -0.600000\n",
      "INFO:hyperopt.tpe:build_posterior_wrapper took 0.000000 seconds\n",
      "INFO:hyperopt.tpe:TPE using 22/22 trials with best loss -0.600000\n",
      "INFO:hyperopt.tpe:build_posterior_wrapper took 0.000000 seconds\n",
      "INFO:hyperopt.tpe:TPE using 23/23 trials with best loss -0.600000\n"
     ]
    },
    {
     "name": "stdout",
     "output_type": "stream",
     "text": [
      " 48%|█████████████████████████████▊                                | 24/50 [00:00<00:00, 72.46trial/s, best loss: -0.6]"
     ]
    },
    {
     "name": "stderr",
     "output_type": "stream",
     "text": [
      "INFO:hyperopt.tpe:build_posterior_wrapper took 0.000000 seconds\n",
      "INFO:hyperopt.tpe:TPE using 24/24 trials with best loss -0.600000\n",
      "INFO:hyperopt.tpe:build_posterior_wrapper took 0.001007 seconds\n",
      "INFO:hyperopt.tpe:TPE using 25/25 trials with best loss -0.600000\n",
      "INFO:hyperopt.tpe:build_posterior_wrapper took 0.000000 seconds\n",
      "INFO:hyperopt.tpe:TPE using 26/26 trials with best loss -0.600000\n",
      "INFO:hyperopt.tpe:build_posterior_wrapper took 0.000000 seconds\n",
      "INFO:hyperopt.tpe:TPE using 27/27 trials with best loss -0.600000\n",
      "INFO:hyperopt.tpe:build_posterior_wrapper took 0.000512 seconds\n",
      "INFO:hyperopt.tpe:TPE using 28/28 trials with best loss -0.600000\n",
      "INFO:hyperopt.tpe:build_posterior_wrapper took 0.000000 seconds\n",
      "INFO:hyperopt.tpe:TPE using 29/29 trials with best loss -0.600000\n",
      "INFO:hyperopt.tpe:build_posterior_wrapper took 0.000000 seconds\n",
      "INFO:hyperopt.tpe:TPE using 30/30 trials with best loss -0.600000\n",
      "INFO:hyperopt.tpe:build_posterior_wrapper took 0.000000 seconds\n",
      "INFO:hyperopt.tpe:TPE using 31/31 trials with best loss -0.600000\n"
     ]
    },
    {
     "name": "stdout",
     "output_type": "stream",
     "text": [
      " 64%|███████████████████████████████████████▋                      | 32/50 [00:00<00:00, 70.73trial/s, best loss: -0.6]"
     ]
    },
    {
     "name": "stderr",
     "output_type": "stream",
     "text": [
      "INFO:hyperopt.tpe:build_posterior_wrapper took 0.000056 seconds\n",
      "INFO:hyperopt.tpe:TPE using 32/32 trials with best loss -0.600000\n",
      "INFO:hyperopt.tpe:build_posterior_wrapper took 0.001014 seconds\n",
      "INFO:hyperopt.tpe:TPE using 33/33 trials with best loss -0.600000\n",
      "INFO:hyperopt.tpe:build_posterior_wrapper took 0.000000 seconds\n",
      "INFO:hyperopt.tpe:TPE using 34/34 trials with best loss -0.600000\n",
      "INFO:hyperopt.tpe:build_posterior_wrapper took 0.000000 seconds\n",
      "INFO:hyperopt.tpe:TPE using 35/35 trials with best loss -0.600000\n",
      "INFO:hyperopt.tpe:build_posterior_wrapper took 0.000000 seconds\n",
      "INFO:hyperopt.tpe:TPE using 36/36 trials with best loss -0.600000\n",
      "INFO:hyperopt.tpe:build_posterior_wrapper took 0.000000 seconds\n",
      "INFO:hyperopt.tpe:TPE using 37/37 trials with best loss -0.600000\n",
      "INFO:hyperopt.tpe:build_posterior_wrapper took 0.000000 seconds\n",
      "INFO:hyperopt.tpe:TPE using 38/38 trials with best loss -0.600000\n",
      "INFO:hyperopt.tpe:build_posterior_wrapper took 0.000000 seconds\n",
      "INFO:hyperopt.tpe:TPE using 39/39 trials with best loss -0.600000\n"
     ]
    },
    {
     "name": "stdout",
     "output_type": "stream",
     "text": [
      " 80%|█████████████████████████████████████████████████▌            | 40/50 [00:00<00:00, 69.39trial/s, best loss: -0.6]"
     ]
    },
    {
     "name": "stderr",
     "output_type": "stream",
     "text": [
      "INFO:hyperopt.tpe:build_posterior_wrapper took 0.001459 seconds\n",
      "INFO:hyperopt.tpe:TPE using 40/40 trials with best loss -0.600000\n",
      "INFO:hyperopt.tpe:build_posterior_wrapper took 0.000000 seconds\n",
      "INFO:hyperopt.tpe:TPE using 41/41 trials with best loss -0.600000\n",
      "INFO:hyperopt.tpe:build_posterior_wrapper took 0.000000 seconds\n",
      "INFO:hyperopt.tpe:TPE using 42/42 trials with best loss -0.600000\n",
      "INFO:hyperopt.tpe:build_posterior_wrapper took 0.000000 seconds\n",
      "INFO:hyperopt.tpe:TPE using 43/43 trials with best loss -0.600000\n",
      "INFO:hyperopt.tpe:build_posterior_wrapper took 0.000000 seconds\n",
      "INFO:hyperopt.tpe:TPE using 44/44 trials with best loss -0.600000\n",
      "INFO:hyperopt.tpe:build_posterior_wrapper took 0.000504 seconds\n",
      "INFO:hyperopt.tpe:TPE using 45/45 trials with best loss -0.600000\n",
      "INFO:hyperopt.tpe:build_posterior_wrapper took 0.001055 seconds\n",
      "INFO:hyperopt.tpe:TPE using 46/46 trials with best loss -0.600000\n"
     ]
    },
    {
     "name": "stdout",
     "output_type": "stream",
     "text": [
      " 94%|██████████████████████████████████████████████████████████▎   | 47/50 [00:00<00:00, 69.40trial/s, best loss: -0.6]"
     ]
    },
    {
     "name": "stderr",
     "output_type": "stream",
     "text": [
      "INFO:hyperopt.tpe:build_posterior_wrapper took 0.003490 seconds\n",
      "INFO:hyperopt.tpe:TPE using 47/47 trials with best loss -0.600000\n",
      "INFO:hyperopt.tpe:build_posterior_wrapper took 0.002843 seconds\n",
      "INFO:hyperopt.tpe:TPE using 48/48 trials with best loss -0.600000\n",
      "INFO:hyperopt.tpe:build_posterior_wrapper took 0.000000 seconds\n",
      "INFO:hyperopt.tpe:TPE using 49/49 trials with best loss -0.600000\n"
     ]
    },
    {
     "name": "stdout",
     "output_type": "stream",
     "text": [
      "100%|██████████████████████████████████████████████████████████████| 50/50 [00:00<00:00, 70.32trial/s, best loss: -0.6]\n",
      "  0%|                                                                           | 0/50 [00:00<?, ?trial/s, best loss=?]"
     ]
    },
    {
     "name": "stderr",
     "output_type": "stream",
     "text": [
      "INFO:hyperopt.tpe:build_posterior_wrapper took 0.001058 seconds\n",
      "INFO:hyperopt.tpe:TPE using 0 trials\n",
      "INFO:hyperopt.tpe:build_posterior_wrapper took 0.001023 seconds\n",
      "INFO:hyperopt.tpe:TPE using 1/1 trials with best loss -0.570000\n",
      "INFO:hyperopt.tpe:build_posterior_wrapper took 0.000000 seconds\n",
      "INFO:hyperopt.tpe:TPE using 2/2 trials with best loss -0.570000\n",
      "INFO:hyperopt.tpe:build_posterior_wrapper took 0.000000 seconds\n",
      "INFO:hyperopt.tpe:TPE using 3/3 trials with best loss -0.570000\n",
      "INFO:hyperopt.tpe:build_posterior_wrapper took 0.001008 seconds\n",
      "INFO:hyperopt.tpe:TPE using 4/4 trials with best loss -0.570000\n",
      "INFO:hyperopt.tpe:build_posterior_wrapper took 0.000000 seconds\n",
      "INFO:hyperopt.tpe:TPE using 5/5 trials with best loss -0.570000\n",
      "INFO:hyperopt.tpe:build_posterior_wrapper took 0.000000 seconds\n",
      "INFO:hyperopt.tpe:TPE using 6/6 trials with best loss -0.570000\n",
      "INFO:hyperopt.tpe:build_posterior_wrapper took 0.000000 seconds\n",
      "INFO:hyperopt.tpe:TPE using 7/7 trials with best loss -0.570000\n"
     ]
    },
    {
     "name": "stdout",
     "output_type": "stream",
     "text": [
      " 16%|█████████▉                                                    | 8/50 [00:00<00:00, 75.22trial/s, best loss: -0.57]"
     ]
    },
    {
     "name": "stderr",
     "output_type": "stream",
     "text": [
      "INFO:hyperopt.tpe:build_posterior_wrapper took 0.000000 seconds\n",
      "INFO:hyperopt.tpe:TPE using 8/8 trials with best loss -0.570000\n",
      "INFO:hyperopt.tpe:build_posterior_wrapper took 0.000000 seconds\n",
      "INFO:hyperopt.tpe:TPE using 9/9 trials with best loss -0.570000\n",
      "INFO:hyperopt.tpe:build_posterior_wrapper took 0.000000 seconds\n",
      "INFO:hyperopt.tpe:TPE using 10/10 trials with best loss -0.570000\n",
      "INFO:hyperopt.tpe:build_posterior_wrapper took 0.000000 seconds\n",
      "INFO:hyperopt.tpe:TPE using 11/11 trials with best loss -0.570000\n",
      "INFO:hyperopt.tpe:build_posterior_wrapper took 0.000000 seconds\n",
      "INFO:hyperopt.tpe:TPE using 12/12 trials with best loss -0.570000\n",
      "INFO:hyperopt.tpe:build_posterior_wrapper took 0.001006 seconds\n",
      "INFO:hyperopt.tpe:TPE using 13/13 trials with best loss -0.570000\n",
      "INFO:hyperopt.tpe:build_posterior_wrapper took 0.000000 seconds\n",
      "INFO:hyperopt.tpe:TPE using 14/14 trials with best loss -0.570000\n",
      "INFO:hyperopt.tpe:build_posterior_wrapper took 0.001247 seconds\n",
      "INFO:hyperopt.tpe:TPE using 15/15 trials with best loss -0.570000\n"
     ]
    },
    {
     "name": "stdout",
     "output_type": "stream",
     "text": [
      " 32%|███████████████████▌                                         | 16/50 [00:00<00:00, 73.82trial/s, best loss: -0.57]"
     ]
    },
    {
     "name": "stderr",
     "output_type": "stream",
     "text": [
      "INFO:hyperopt.tpe:build_posterior_wrapper took 0.000000 seconds\n",
      "INFO:hyperopt.tpe:TPE using 16/16 trials with best loss -0.570000\n",
      "INFO:hyperopt.tpe:build_posterior_wrapper took 0.000000 seconds\n",
      "INFO:hyperopt.tpe:TPE using 17/17 trials with best loss -0.570000\n",
      "INFO:hyperopt.tpe:build_posterior_wrapper took 0.001002 seconds\n",
      "INFO:hyperopt.tpe:TPE using 18/18 trials with best loss -0.570000\n",
      "INFO:hyperopt.tpe:build_posterior_wrapper took 0.000162 seconds\n",
      "INFO:hyperopt.tpe:TPE using 19/19 trials with best loss -0.570000\n",
      "INFO:hyperopt.tpe:build_posterior_wrapper took 0.000558 seconds\n",
      "INFO:hyperopt.tpe:TPE using 20/20 trials with best loss -0.570000\n",
      "INFO:hyperopt.tpe:build_posterior_wrapper took 0.000000 seconds\n",
      "INFO:hyperopt.tpe:TPE using 21/21 trials with best loss -0.570000\n",
      "INFO:hyperopt.tpe:build_posterior_wrapper took 0.000506 seconds\n",
      "INFO:hyperopt.tpe:TPE using 22/22 trials with best loss -0.570000\n",
      "INFO:hyperopt.tpe:build_posterior_wrapper took 0.001011 seconds\n",
      "INFO:hyperopt.tpe:TPE using 23/23 trials with best loss -0.570000\n"
     ]
    },
    {
     "name": "stdout",
     "output_type": "stream",
     "text": [
      " 48%|█████████████████████████████▎                               | 24/50 [00:00<00:00, 73.48trial/s, best loss: -0.57]"
     ]
    },
    {
     "name": "stderr",
     "output_type": "stream",
     "text": [
      "INFO:hyperopt.tpe:build_posterior_wrapper took 0.000000 seconds\n",
      "INFO:hyperopt.tpe:TPE using 24/24 trials with best loss -0.570000\n",
      "INFO:hyperopt.tpe:build_posterior_wrapper took 0.000000 seconds\n",
      "INFO:hyperopt.tpe:TPE using 25/25 trials with best loss -0.570000\n",
      "INFO:hyperopt.tpe:build_posterior_wrapper took 0.000000 seconds\n",
      "INFO:hyperopt.tpe:TPE using 26/26 trials with best loss -0.570000\n",
      "INFO:hyperopt.tpe:build_posterior_wrapper took 0.001000 seconds\n",
      "INFO:hyperopt.tpe:TPE using 27/27 trials with best loss -0.570000\n",
      "INFO:hyperopt.tpe:build_posterior_wrapper took 0.001053 seconds\n",
      "INFO:hyperopt.tpe:TPE using 28/28 trials with best loss -0.570000\n",
      "INFO:hyperopt.tpe:build_posterior_wrapper took 0.000000 seconds\n",
      "INFO:hyperopt.tpe:TPE using 29/29 trials with best loss -0.570000\n",
      "INFO:hyperopt.tpe:build_posterior_wrapper took 0.001000 seconds\n",
      "INFO:hyperopt.tpe:TPE using 30/30 trials with best loss -0.570000\n",
      "INFO:hyperopt.tpe:build_posterior_wrapper took 0.001031 seconds\n",
      "INFO:hyperopt.tpe:TPE using 31/31 trials with best loss -0.570000\n"
     ]
    },
    {
     "name": "stdout",
     "output_type": "stream",
     "text": [
      " 64%|███████████████████████████████████████                      | 32/50 [00:00<00:00, 71.72trial/s, best loss: -0.57]"
     ]
    },
    {
     "name": "stderr",
     "output_type": "stream",
     "text": [
      "INFO:hyperopt.tpe:build_posterior_wrapper took 0.000000 seconds\n",
      "INFO:hyperopt.tpe:TPE using 32/32 trials with best loss -0.570000\n",
      "INFO:hyperopt.tpe:build_posterior_wrapper took 0.001001 seconds\n",
      "INFO:hyperopt.tpe:TPE using 33/33 trials with best loss -0.570000\n",
      "INFO:hyperopt.tpe:build_posterior_wrapper took 0.000598 seconds\n",
      "INFO:hyperopt.tpe:TPE using 34/34 trials with best loss -0.570000\n",
      "INFO:hyperopt.tpe:build_posterior_wrapper took 0.000000 seconds\n",
      "INFO:hyperopt.tpe:TPE using 35/35 trials with best loss -0.570000\n",
      "INFO:hyperopt.tpe:build_posterior_wrapper took 0.001010 seconds\n",
      "INFO:hyperopt.tpe:TPE using 36/36 trials with best loss -0.570000\n",
      "INFO:hyperopt.tpe:build_posterior_wrapper took 0.000504 seconds\n",
      "INFO:hyperopt.tpe:TPE using 37/37 trials with best loss -0.570000\n",
      "INFO:hyperopt.tpe:build_posterior_wrapper took 0.000255 seconds\n",
      "INFO:hyperopt.tpe:TPE using 38/38 trials with best loss -0.570000\n",
      "INFO:hyperopt.tpe:build_posterior_wrapper took 0.000000 seconds\n",
      "INFO:hyperopt.tpe:TPE using 39/39 trials with best loss -0.570000\n"
     ]
    },
    {
     "name": "stdout",
     "output_type": "stream",
     "text": [
      " 80%|████████████████████████████████████████████████▊            | 40/50 [00:00<00:00, 70.97trial/s, best loss: -0.57]"
     ]
    },
    {
     "name": "stderr",
     "output_type": "stream",
     "text": [
      "INFO:hyperopt.tpe:build_posterior_wrapper took 0.000000 seconds\n",
      "INFO:hyperopt.tpe:TPE using 40/40 trials with best loss -0.570000\n",
      "INFO:hyperopt.tpe:build_posterior_wrapper took 0.000000 seconds\n",
      "INFO:hyperopt.tpe:TPE using 41/41 trials with best loss -0.570000\n",
      "INFO:hyperopt.tpe:build_posterior_wrapper took 0.001009 seconds\n",
      "INFO:hyperopt.tpe:TPE using 42/42 trials with best loss -0.570000\n",
      "INFO:hyperopt.tpe:build_posterior_wrapper took 0.001000 seconds\n",
      "INFO:hyperopt.tpe:TPE using 43/43 trials with best loss -0.570000\n",
      "INFO:hyperopt.tpe:build_posterior_wrapper took 0.001003 seconds\n",
      "INFO:hyperopt.tpe:TPE using 44/44 trials with best loss -0.570000\n",
      "INFO:hyperopt.tpe:build_posterior_wrapper took 0.001175 seconds\n",
      "INFO:hyperopt.tpe:TPE using 45/45 trials with best loss -0.570000\n",
      "INFO:hyperopt.tpe:build_posterior_wrapper took 0.000197 seconds\n",
      "INFO:hyperopt.tpe:TPE using 46/46 trials with best loss -0.570000\n",
      "INFO:hyperopt.tpe:build_posterior_wrapper took 0.000519 seconds\n",
      "INFO:hyperopt.tpe:TPE using 47/47 trials with best loss -0.570000\n"
     ]
    },
    {
     "name": "stdout",
     "output_type": "stream",
     "text": [
      " 96%|██████████████████████████████████████████████████████████▌  | 48/50 [00:00<00:00, 71.28trial/s, best loss: -0.57]"
     ]
    },
    {
     "name": "stderr",
     "output_type": "stream",
     "text": [
      "INFO:hyperopt.tpe:build_posterior_wrapper took 0.001505 seconds\n",
      "INFO:hyperopt.tpe:TPE using 48/48 trials with best loss -0.570000\n",
      "INFO:hyperopt.tpe:build_posterior_wrapper took 0.000504 seconds\n",
      "INFO:hyperopt.tpe:TPE using 49/49 trials with best loss -0.570000\n"
     ]
    },
    {
     "name": "stdout",
     "output_type": "stream",
     "text": [
      "100%|█████████████████████████████████████████████████████████████| 50/50 [00:00<00:00, 71.49trial/s, best loss: -0.57]\n",
      "  0%|                                                                           | 0/50 [00:00<?, ?trial/s, best loss=?]"
     ]
    },
    {
     "name": "stderr",
     "output_type": "stream",
     "text": [
      "INFO:hyperopt.tpe:build_posterior_wrapper took 0.001000 seconds\n",
      "INFO:hyperopt.tpe:TPE using 0 trials\n",
      "INFO:hyperopt.tpe:build_posterior_wrapper took 0.000000 seconds\n",
      "INFO:hyperopt.tpe:TPE using 1/1 trials with best loss -0.550000\n",
      "INFO:hyperopt.tpe:build_posterior_wrapper took 0.000000 seconds\n",
      "INFO:hyperopt.tpe:TPE using 2/2 trials with best loss -0.600000\n",
      "INFO:hyperopt.tpe:build_posterior_wrapper took 0.000000 seconds\n",
      "INFO:hyperopt.tpe:TPE using 3/3 trials with best loss -0.600000\n",
      "INFO:hyperopt.tpe:build_posterior_wrapper took 0.001001 seconds\n",
      "INFO:hyperopt.tpe:TPE using 4/4 trials with best loss -0.600000\n",
      "INFO:hyperopt.tpe:build_posterior_wrapper took 0.000508 seconds\n",
      "INFO:hyperopt.tpe:TPE using 5/5 trials with best loss -0.600000\n",
      "INFO:hyperopt.tpe:build_posterior_wrapper took 0.000000 seconds\n",
      "INFO:hyperopt.tpe:TPE using 6/6 trials with best loss -0.600000\n",
      "INFO:hyperopt.tpe:build_posterior_wrapper took 0.000670 seconds\n",
      "INFO:hyperopt.tpe:TPE using 7/7 trials with best loss -0.600000\n"
     ]
    },
    {
     "name": "stdout",
     "output_type": "stream",
     "text": [
      " 16%|██████████                                                     | 8/50 [00:00<00:00, 77.42trial/s, best loss: -0.6]"
     ]
    },
    {
     "name": "stderr",
     "output_type": "stream",
     "text": [
      "INFO:hyperopt.tpe:build_posterior_wrapper took 0.000000 seconds\n",
      "INFO:hyperopt.tpe:TPE using 8/8 trials with best loss -0.600000\n",
      "INFO:hyperopt.tpe:build_posterior_wrapper took 0.000000 seconds\n",
      "INFO:hyperopt.tpe:TPE using 9/9 trials with best loss -0.600000\n",
      "INFO:hyperopt.tpe:build_posterior_wrapper took 0.001002 seconds\n",
      "INFO:hyperopt.tpe:TPE using 10/10 trials with best loss -0.600000\n",
      "INFO:hyperopt.tpe:build_posterior_wrapper took 0.001001 seconds\n",
      "INFO:hyperopt.tpe:TPE using 11/11 trials with best loss -0.600000\n",
      "INFO:hyperopt.tpe:build_posterior_wrapper took 0.000000 seconds\n",
      "INFO:hyperopt.tpe:TPE using 12/12 trials with best loss -0.600000\n",
      "INFO:hyperopt.tpe:build_posterior_wrapper took 0.001127 seconds\n",
      "INFO:hyperopt.tpe:TPE using 13/13 trials with best loss -0.600000\n",
      "INFO:hyperopt.tpe:build_posterior_wrapper took 0.001000 seconds\n",
      "INFO:hyperopt.tpe:TPE using 14/14 trials with best loss -0.600000\n",
      "INFO:hyperopt.tpe:build_posterior_wrapper took 0.001009 seconds\n",
      "INFO:hyperopt.tpe:TPE using 15/15 trials with best loss -0.600000\n",
      "INFO:hyperopt.tpe:build_posterior_wrapper took 0.001000 seconds\n",
      "INFO:hyperopt.tpe:TPE using 16/16 trials with best loss -0.600000\n"
     ]
    },
    {
     "name": "stdout",
     "output_type": "stream",
     "text": [
      " 34%|█████████████████████                                         | 17/50 [00:00<00:00, 79.24trial/s, best loss: -0.6]"
     ]
    },
    {
     "name": "stderr",
     "output_type": "stream",
     "text": [
      "INFO:hyperopt.tpe:build_posterior_wrapper took 0.001307 seconds\n",
      "INFO:hyperopt.tpe:TPE using 17/17 trials with best loss -0.600000\n",
      "INFO:hyperopt.tpe:build_posterior_wrapper took 0.000000 seconds\n",
      "INFO:hyperopt.tpe:TPE using 18/18 trials with best loss -0.600000\n",
      "INFO:hyperopt.tpe:build_posterior_wrapper took 0.001000 seconds\n",
      "INFO:hyperopt.tpe:TPE using 19/19 trials with best loss -0.600000\n",
      "INFO:hyperopt.tpe:build_posterior_wrapper took 0.001006 seconds\n",
      "INFO:hyperopt.tpe:TPE using 20/20 trials with best loss -0.600000\n",
      "INFO:hyperopt.tpe:build_posterior_wrapper took 0.000000 seconds\n",
      "INFO:hyperopt.tpe:TPE using 21/21 trials with best loss -0.600000\n",
      "INFO:hyperopt.tpe:build_posterior_wrapper took 0.000504 seconds\n",
      "INFO:hyperopt.tpe:TPE using 22/22 trials with best loss -0.600000\n",
      "INFO:hyperopt.tpe:build_posterior_wrapper took 0.000000 seconds\n",
      "INFO:hyperopt.tpe:TPE using 23/23 trials with best loss -0.600000\n",
      "INFO:hyperopt.tpe:build_posterior_wrapper took 0.001003 seconds\n",
      "INFO:hyperopt.tpe:TPE using 24/24 trials with best loss -0.600000\n"
     ]
    },
    {
     "name": "stdout",
     "output_type": "stream",
     "text": [
      " 50%|███████████████████████████████                               | 25/50 [00:00<00:00, 76.05trial/s, best loss: -0.6]"
     ]
    },
    {
     "name": "stderr",
     "output_type": "stream",
     "text": [
      "INFO:hyperopt.tpe:build_posterior_wrapper took 0.000000 seconds\n",
      "INFO:hyperopt.tpe:TPE using 25/25 trials with best loss -0.600000\n",
      "INFO:hyperopt.tpe:build_posterior_wrapper took 0.000000 seconds\n",
      "INFO:hyperopt.tpe:TPE using 26/26 trials with best loss -0.600000\n",
      "INFO:hyperopt.tpe:build_posterior_wrapper took 0.000000 seconds\n",
      "INFO:hyperopt.tpe:TPE using 27/27 trials with best loss -0.600000\n",
      "INFO:hyperopt.tpe:build_posterior_wrapper took 0.001321 seconds\n",
      "INFO:hyperopt.tpe:TPE using 28/28 trials with best loss -0.600000\n",
      "INFO:hyperopt.tpe:build_posterior_wrapper took 0.000000 seconds\n",
      "INFO:hyperopt.tpe:TPE using 29/29 trials with best loss -0.600000\n",
      "INFO:hyperopt.tpe:build_posterior_wrapper took 0.000000 seconds\n",
      "INFO:hyperopt.tpe:TPE using 30/30 trials with best loss -0.600000\n",
      "INFO:hyperopt.tpe:build_posterior_wrapper took 0.001056 seconds\n",
      "INFO:hyperopt.tpe:TPE using 31/31 trials with best loss -0.600000\n",
      "INFO:hyperopt.tpe:build_posterior_wrapper took 0.000993 seconds\n",
      "INFO:hyperopt.tpe:TPE using 32/32 trials with best loss -0.600000\n"
     ]
    },
    {
     "name": "stdout",
     "output_type": "stream",
     "text": [
      " 66%|████████████████████████████████████████▉                     | 33/50 [00:00<00:00, 73.45trial/s, best loss: -0.6]"
     ]
    },
    {
     "name": "stderr",
     "output_type": "stream",
     "text": [
      "INFO:hyperopt.tpe:build_posterior_wrapper took 0.000000 seconds\n",
      "INFO:hyperopt.tpe:TPE using 33/33 trials with best loss -0.600000\n",
      "INFO:hyperopt.tpe:build_posterior_wrapper took 0.001000 seconds\n",
      "INFO:hyperopt.tpe:TPE using 34/34 trials with best loss -0.600000\n",
      "INFO:hyperopt.tpe:build_posterior_wrapper took 0.001005 seconds\n",
      "INFO:hyperopt.tpe:TPE using 35/35 trials with best loss -0.600000\n",
      "INFO:hyperopt.tpe:build_posterior_wrapper took 0.000000 seconds\n",
      "INFO:hyperopt.tpe:TPE using 36/36 trials with best loss -0.600000\n",
      "INFO:hyperopt.tpe:build_posterior_wrapper took 0.000134 seconds\n",
      "INFO:hyperopt.tpe:TPE using 37/37 trials with best loss -0.600000\n",
      "INFO:hyperopt.tpe:build_posterior_wrapper took 0.000000 seconds\n",
      "INFO:hyperopt.tpe:TPE using 38/38 trials with best loss -0.600000\n",
      "INFO:hyperopt.tpe:build_posterior_wrapper took 0.000517 seconds\n",
      "INFO:hyperopt.tpe:TPE using 39/39 trials with best loss -0.600000\n",
      "INFO:hyperopt.tpe:build_posterior_wrapper took 0.000998 seconds\n",
      "INFO:hyperopt.tpe:TPE using 40/40 trials with best loss -0.600000\n"
     ]
    },
    {
     "name": "stdout",
     "output_type": "stream",
     "text": [
      " 82%|██████████████████████████████████████████████████▊           | 41/50 [00:00<00:00, 72.06trial/s, best loss: -0.6]"
     ]
    },
    {
     "name": "stderr",
     "output_type": "stream",
     "text": [
      "INFO:hyperopt.tpe:build_posterior_wrapper took 0.000997 seconds\n",
      "INFO:hyperopt.tpe:TPE using 41/41 trials with best loss -0.600000\n",
      "INFO:hyperopt.tpe:build_posterior_wrapper took 0.001001 seconds\n",
      "INFO:hyperopt.tpe:TPE using 42/42 trials with best loss -0.600000\n",
      "INFO:hyperopt.tpe:build_posterior_wrapper took 0.001505 seconds\n",
      "INFO:hyperopt.tpe:TPE using 43/43 trials with best loss -0.600000\n",
      "INFO:hyperopt.tpe:build_posterior_wrapper took 0.000196 seconds\n",
      "INFO:hyperopt.tpe:TPE using 44/44 trials with best loss -0.600000\n",
      "INFO:hyperopt.tpe:build_posterior_wrapper took 0.001002 seconds\n",
      "INFO:hyperopt.tpe:TPE using 45/45 trials with best loss -0.600000\n",
      "INFO:hyperopt.tpe:build_posterior_wrapper took 0.000000 seconds\n",
      "INFO:hyperopt.tpe:TPE using 46/46 trials with best loss -0.600000\n",
      "INFO:hyperopt.tpe:build_posterior_wrapper took 0.000000 seconds\n",
      "INFO:hyperopt.tpe:TPE using 47/47 trials with best loss -0.600000\n",
      "INFO:hyperopt.tpe:build_posterior_wrapper took 0.001007 seconds\n",
      "INFO:hyperopt.tpe:TPE using 48/48 trials with best loss -0.600000\n"
     ]
    },
    {
     "name": "stdout",
     "output_type": "stream",
     "text": [
      " 98%|████████████████████████████████████████████████████████████▊ | 49/50 [00:00<00:00, 71.28trial/s, best loss: -0.6]"
     ]
    },
    {
     "name": "stderr",
     "output_type": "stream",
     "text": [
      "INFO:hyperopt.tpe:build_posterior_wrapper took 0.000997 seconds\n",
      "INFO:hyperopt.tpe:TPE using 49/49 trials with best loss -0.600000\n"
     ]
    },
    {
     "name": "stdout",
     "output_type": "stream",
     "text": [
      "100%|██████████████████████████████████████████████████████████████| 50/50 [00:00<00:00, 73.23trial/s, best loss: -0.6]\n",
      "  0%|                                                                           | 0/50 [00:00<?, ?trial/s, best loss=?]"
     ]
    },
    {
     "name": "stderr",
     "output_type": "stream",
     "text": [
      "INFO:hyperopt.tpe:build_posterior_wrapper took 0.000000 seconds\n",
      "INFO:hyperopt.tpe:TPE using 0 trials\n",
      "INFO:hyperopt.tpe:build_posterior_wrapper took 0.001000 seconds\n",
      "INFO:hyperopt.tpe:TPE using 1/1 trials with best loss -0.540000\n",
      "INFO:hyperopt.tpe:build_posterior_wrapper took 0.001000 seconds\n",
      "INFO:hyperopt.tpe:TPE using 2/2 trials with best loss -0.540000\n",
      "INFO:hyperopt.tpe:build_posterior_wrapper took 0.001001 seconds\n",
      "INFO:hyperopt.tpe:TPE using 3/3 trials with best loss -0.540000\n",
      "INFO:hyperopt.tpe:build_posterior_wrapper took 0.000000 seconds\n",
      "INFO:hyperopt.tpe:TPE using 4/4 trials with best loss -0.540000\n",
      "INFO:hyperopt.tpe:build_posterior_wrapper took 0.000999 seconds\n",
      "INFO:hyperopt.tpe:TPE using 5/5 trials with best loss -0.570000\n",
      "INFO:hyperopt.tpe:build_posterior_wrapper took 0.000000 seconds\n",
      "INFO:hyperopt.tpe:TPE using 6/6 trials with best loss -0.570000\n",
      "INFO:hyperopt.tpe:build_posterior_wrapper took 0.001000 seconds\n",
      "INFO:hyperopt.tpe:TPE using 7/7 trials with best loss -0.570000\n",
      "INFO:hyperopt.tpe:build_posterior_wrapper took 0.000000 seconds\n",
      "INFO:hyperopt.tpe:TPE using 8/8 trials with best loss -0.570000\n"
     ]
    },
    {
     "name": "stdout",
     "output_type": "stream",
     "text": [
      " 18%|███████████▏                                                  | 9/50 [00:00<00:00, 84.86trial/s, best loss: -0.57]"
     ]
    },
    {
     "name": "stderr",
     "output_type": "stream",
     "text": [
      "INFO:hyperopt.tpe:build_posterior_wrapper took 0.000000 seconds\n",
      "INFO:hyperopt.tpe:TPE using 9/9 trials with best loss -0.570000\n",
      "INFO:hyperopt.tpe:build_posterior_wrapper took 0.000000 seconds\n",
      "INFO:hyperopt.tpe:TPE using 10/10 trials with best loss -0.570000\n",
      "INFO:hyperopt.tpe:build_posterior_wrapper took 0.000000 seconds\n",
      "INFO:hyperopt.tpe:TPE using 11/11 trials with best loss -0.570000\n",
      "INFO:hyperopt.tpe:build_posterior_wrapper took 0.000513 seconds\n",
      "INFO:hyperopt.tpe:TPE using 12/12 trials with best loss -0.570000\n",
      "INFO:hyperopt.tpe:build_posterior_wrapper took 0.000000 seconds\n",
      "INFO:hyperopt.tpe:TPE using 13/13 trials with best loss -0.570000\n",
      "INFO:hyperopt.tpe:build_posterior_wrapper took 0.000000 seconds\n",
      "INFO:hyperopt.tpe:TPE using 14/14 trials with best loss -0.570000\n",
      "INFO:hyperopt.tpe:build_posterior_wrapper took 0.001505 seconds\n",
      "INFO:hyperopt.tpe:TPE using 15/15 trials with best loss -0.570000\n",
      "INFO:hyperopt.tpe:build_posterior_wrapper took 0.001310 seconds\n",
      "INFO:hyperopt.tpe:TPE using 16/16 trials with best loss -0.570000\n",
      "INFO:hyperopt.tpe:build_posterior_wrapper took 0.001007 seconds\n",
      "INFO:hyperopt.tpe:TPE using 17/17 trials with best loss -0.570000\n"
     ]
    },
    {
     "name": "stdout",
     "output_type": "stream",
     "text": [
      " 36%|█████████████████████▉                                       | 18/50 [00:00<00:00, 79.49trial/s, best loss: -0.57]"
     ]
    },
    {
     "name": "stderr",
     "output_type": "stream",
     "text": [
      "INFO:hyperopt.tpe:build_posterior_wrapper took 0.000000 seconds\n",
      "INFO:hyperopt.tpe:TPE using 18/18 trials with best loss -0.570000\n",
      "INFO:hyperopt.tpe:build_posterior_wrapper took 0.000998 seconds\n",
      "INFO:hyperopt.tpe:TPE using 19/19 trials with best loss -0.570000\n",
      "INFO:hyperopt.tpe:build_posterior_wrapper took 0.000000 seconds\n",
      "INFO:hyperopt.tpe:TPE using 20/20 trials with best loss -0.570000\n",
      "INFO:hyperopt.tpe:build_posterior_wrapper took 0.001010 seconds\n",
      "INFO:hyperopt.tpe:TPE using 21/21 trials with best loss -0.570000\n",
      "INFO:hyperopt.tpe:build_posterior_wrapper took 0.001373 seconds\n",
      "INFO:hyperopt.tpe:TPE using 22/22 trials with best loss -0.570000\n",
      "INFO:hyperopt.tpe:build_posterior_wrapper took 0.000000 seconds\n",
      "INFO:hyperopt.tpe:TPE using 23/23 trials with best loss -0.570000\n",
      "INFO:hyperopt.tpe:build_posterior_wrapper took 0.000000 seconds\n",
      "INFO:hyperopt.tpe:TPE using 24/24 trials with best loss -0.570000\n",
      "INFO:hyperopt.tpe:build_posterior_wrapper took 0.000000 seconds\n",
      "INFO:hyperopt.tpe:TPE using 25/25 trials with best loss -0.570000\n"
     ]
    },
    {
     "name": "stdout",
     "output_type": "stream",
     "text": [
      " 52%|███████████████████████████████▋                             | 26/50 [00:00<00:00, 71.36trial/s, best loss: -0.57]"
     ]
    },
    {
     "name": "stderr",
     "output_type": "stream",
     "text": [
      "INFO:hyperopt.tpe:build_posterior_wrapper took 0.000000 seconds\n",
      "INFO:hyperopt.tpe:TPE using 26/26 trials with best loss -0.570000\n",
      "INFO:hyperopt.tpe:build_posterior_wrapper took 0.000000 seconds\n",
      "INFO:hyperopt.tpe:TPE using 27/27 trials with best loss -0.570000\n",
      "INFO:hyperopt.tpe:build_posterior_wrapper took 0.000000 seconds\n",
      "INFO:hyperopt.tpe:TPE using 28/28 trials with best loss -0.570000\n",
      "INFO:hyperopt.tpe:build_posterior_wrapper took 0.000000 seconds\n",
      "INFO:hyperopt.tpe:TPE using 29/29 trials with best loss -0.570000\n",
      "INFO:hyperopt.tpe:build_posterior_wrapper took 0.001000 seconds\n",
      "INFO:hyperopt.tpe:TPE using 30/30 trials with best loss -0.570000\n",
      "INFO:hyperopt.tpe:build_posterior_wrapper took 0.000000 seconds\n",
      "INFO:hyperopt.tpe:TPE using 31/31 trials with best loss -0.570000\n",
      "INFO:hyperopt.tpe:build_posterior_wrapper took 0.000759 seconds\n",
      "INFO:hyperopt.tpe:TPE using 32/32 trials with best loss -0.570000\n",
      "INFO:hyperopt.tpe:build_posterior_wrapper took 0.000000 seconds\n",
      "INFO:hyperopt.tpe:TPE using 33/33 trials with best loss -0.570000\n"
     ]
    },
    {
     "name": "stdout",
     "output_type": "stream",
     "text": [
      " 68%|█████████████████████████████████████████▍                   | 34/50 [00:00<00:00, 67.32trial/s, best loss: -0.57]"
     ]
    },
    {
     "name": "stderr",
     "output_type": "stream",
     "text": [
      "INFO:hyperopt.tpe:build_posterior_wrapper took 0.001000 seconds\n",
      "INFO:hyperopt.tpe:TPE using 34/34 trials with best loss -0.570000\n",
      "INFO:hyperopt.tpe:build_posterior_wrapper took 0.000000 seconds\n",
      "INFO:hyperopt.tpe:TPE using 35/35 trials with best loss -0.570000\n",
      "INFO:hyperopt.tpe:build_posterior_wrapper took 0.000000 seconds\n",
      "INFO:hyperopt.tpe:TPE using 36/36 trials with best loss -0.570000\n",
      "INFO:hyperopt.tpe:build_posterior_wrapper took 0.001003 seconds\n",
      "INFO:hyperopt.tpe:TPE using 37/37 trials with best loss -0.570000\n",
      "INFO:hyperopt.tpe:build_posterior_wrapper took 0.001000 seconds\n",
      "INFO:hyperopt.tpe:TPE using 38/38 trials with best loss -0.570000\n",
      "INFO:hyperopt.tpe:build_posterior_wrapper took 0.000000 seconds\n",
      "INFO:hyperopt.tpe:TPE using 39/39 trials with best loss -0.570000\n",
      "INFO:hyperopt.tpe:build_posterior_wrapper took 0.001162 seconds\n",
      "INFO:hyperopt.tpe:TPE using 40/40 trials with best loss -0.570000\n"
     ]
    },
    {
     "name": "stdout",
     "output_type": "stream",
     "text": [
      " 82%|██████████████████████████████████████████████████           | 41/50 [00:00<00:00, 67.46trial/s, best loss: -0.57]"
     ]
    },
    {
     "name": "stderr",
     "output_type": "stream",
     "text": [
      "INFO:hyperopt.tpe:build_posterior_wrapper took 0.000999 seconds\n",
      "INFO:hyperopt.tpe:TPE using 41/41 trials with best loss -0.570000\n",
      "INFO:hyperopt.tpe:build_posterior_wrapper took 0.000000 seconds\n",
      "INFO:hyperopt.tpe:TPE using 42/42 trials with best loss -0.570000\n",
      "INFO:hyperopt.tpe:build_posterior_wrapper took 0.001211 seconds\n",
      "INFO:hyperopt.tpe:TPE using 43/43 trials with best loss -0.570000\n",
      "INFO:hyperopt.tpe:build_posterior_wrapper took 0.000000 seconds\n",
      "INFO:hyperopt.tpe:TPE using 44/44 trials with best loss -0.570000\n",
      "INFO:hyperopt.tpe:build_posterior_wrapper took 0.000000 seconds\n",
      "INFO:hyperopt.tpe:TPE using 45/45 trials with best loss -0.570000\n",
      "INFO:hyperopt.tpe:build_posterior_wrapper took 0.004095 seconds\n",
      "INFO:hyperopt.tpe:TPE using 46/46 trials with best loss -0.570000\n",
      "INFO:hyperopt.tpe:build_posterior_wrapper took 0.000000 seconds\n",
      "INFO:hyperopt.tpe:TPE using 47/47 trials with best loss -0.570000\n",
      "INFO:hyperopt.tpe:build_posterior_wrapper took 0.001272 seconds\n",
      "INFO:hyperopt.tpe:TPE using 48/48 trials with best loss -0.570000\n"
     ]
    },
    {
     "name": "stdout",
     "output_type": "stream",
     "text": [
      " 98%|███████████████████████████████████████████████████████████▊ | 49/50 [00:00<00:00, 69.30trial/s, best loss: -0.57]"
     ]
    },
    {
     "name": "stderr",
     "output_type": "stream",
     "text": [
      "INFO:hyperopt.tpe:build_posterior_wrapper took 0.001024 seconds\n",
      "INFO:hyperopt.tpe:TPE using 49/49 trials with best loss -0.570000\n"
     ]
    },
    {
     "name": "stdout",
     "output_type": "stream",
     "text": [
      "100%|█████████████████████████████████████████████████████████████| 50/50 [00:00<00:00, 69.97trial/s, best loss: -0.57]\n",
      "  0%|                                                                           | 0/50 [00:00<?, ?trial/s, best loss=?]"
     ]
    },
    {
     "name": "stderr",
     "output_type": "stream",
     "text": [
      "INFO:hyperopt.tpe:build_posterior_wrapper took 0.002006 seconds\n",
      "INFO:hyperopt.tpe:TPE using 0 trials\n",
      "INFO:hyperopt.tpe:build_posterior_wrapper took 0.000000 seconds\n",
      "INFO:hyperopt.tpe:TPE using 1/1 trials with best loss -0.530000\n",
      "INFO:hyperopt.tpe:build_posterior_wrapper took 0.000000 seconds\n",
      "INFO:hyperopt.tpe:TPE using 2/2 trials with best loss -0.530000\n",
      "INFO:hyperopt.tpe:build_posterior_wrapper took 0.000000 seconds\n",
      "INFO:hyperopt.tpe:TPE using 3/3 trials with best loss -0.530000\n",
      "INFO:hyperopt.tpe:build_posterior_wrapper took 0.000000 seconds\n",
      "INFO:hyperopt.tpe:TPE using 4/4 trials with best loss -0.530000\n",
      "INFO:hyperopt.tpe:build_posterior_wrapper took 0.000000 seconds\n",
      "INFO:hyperopt.tpe:TPE using 5/5 trials with best loss -0.530000\n",
      "INFO:hyperopt.tpe:build_posterior_wrapper took 0.000505 seconds\n",
      "INFO:hyperopt.tpe:TPE using 6/6 trials with best loss -0.530000\n",
      "INFO:hyperopt.tpe:build_posterior_wrapper took 0.000808 seconds\n",
      "INFO:hyperopt.tpe:TPE using 7/7 trials with best loss -0.580000\n"
     ]
    },
    {
     "name": "stdout",
     "output_type": "stream",
     "text": [
      " 16%|█████████▉                                                    | 8/50 [00:00<00:00, 77.24trial/s, best loss: -0.58]"
     ]
    },
    {
     "name": "stderr",
     "output_type": "stream",
     "text": [
      "INFO:hyperopt.tpe:build_posterior_wrapper took 0.000000 seconds\n",
      "INFO:hyperopt.tpe:TPE using 8/8 trials with best loss -0.580000\n",
      "INFO:hyperopt.tpe:build_posterior_wrapper took 0.000000 seconds\n",
      "INFO:hyperopt.tpe:TPE using 9/9 trials with best loss -0.580000\n",
      "INFO:hyperopt.tpe:build_posterior_wrapper took 0.000000 seconds\n",
      "INFO:hyperopt.tpe:TPE using 10/10 trials with best loss -0.580000\n",
      "INFO:hyperopt.tpe:build_posterior_wrapper took 0.000000 seconds\n",
      "INFO:hyperopt.tpe:TPE using 11/11 trials with best loss -0.580000\n",
      "INFO:hyperopt.tpe:build_posterior_wrapper took 0.000000 seconds\n",
      "INFO:hyperopt.tpe:TPE using 12/12 trials with best loss -0.580000\n",
      "INFO:hyperopt.tpe:build_posterior_wrapper took 0.000000 seconds\n",
      "INFO:hyperopt.tpe:TPE using 13/13 trials with best loss -0.600000\n",
      "INFO:hyperopt.tpe:build_posterior_wrapper took 0.000000 seconds\n",
      "INFO:hyperopt.tpe:TPE using 14/14 trials with best loss -0.600000\n",
      "INFO:hyperopt.tpe:build_posterior_wrapper took 0.001226 seconds\n",
      "INFO:hyperopt.tpe:TPE using 15/15 trials with best loss -0.600000\n"
     ]
    },
    {
     "name": "stdout",
     "output_type": "stream",
     "text": [
      " 32%|███████████████████▊                                          | 16/50 [00:00<00:00, 77.26trial/s, best loss: -0.6]"
     ]
    },
    {
     "name": "stderr",
     "output_type": "stream",
     "text": [
      "INFO:hyperopt.tpe:build_posterior_wrapper took 0.000310 seconds\n",
      "INFO:hyperopt.tpe:TPE using 16/16 trials with best loss -0.600000\n",
      "INFO:hyperopt.tpe:build_posterior_wrapper took 0.000000 seconds\n",
      "INFO:hyperopt.tpe:TPE using 17/17 trials with best loss -0.600000\n",
      "INFO:hyperopt.tpe:build_posterior_wrapper took 0.000998 seconds\n",
      "INFO:hyperopt.tpe:TPE using 18/18 trials with best loss -0.600000\n",
      "INFO:hyperopt.tpe:build_posterior_wrapper took 0.001000 seconds\n",
      "INFO:hyperopt.tpe:TPE using 19/19 trials with best loss -0.600000\n",
      "INFO:hyperopt.tpe:build_posterior_wrapper took 0.000000 seconds\n",
      "INFO:hyperopt.tpe:TPE using 20/20 trials with best loss -0.600000\n",
      "INFO:hyperopt.tpe:build_posterior_wrapper took 0.001002 seconds\n",
      "INFO:hyperopt.tpe:TPE using 21/21 trials with best loss -0.600000\n",
      "INFO:hyperopt.tpe:build_posterior_wrapper took 0.000000 seconds\n",
      "INFO:hyperopt.tpe:TPE using 22/22 trials with best loss -0.600000\n",
      "INFO:hyperopt.tpe:build_posterior_wrapper took 0.000994 seconds\n",
      "INFO:hyperopt.tpe:TPE using 23/23 trials with best loss -0.600000\n"
     ]
    },
    {
     "name": "stdout",
     "output_type": "stream",
     "text": [
      " 48%|█████████████████████████████▊                                | 24/50 [00:00<00:00, 74.92trial/s, best loss: -0.6]"
     ]
    },
    {
     "name": "stderr",
     "output_type": "stream",
     "text": [
      "INFO:hyperopt.tpe:build_posterior_wrapper took 0.001082 seconds\n",
      "INFO:hyperopt.tpe:TPE using 24/24 trials with best loss -0.600000\n",
      "INFO:hyperopt.tpe:build_posterior_wrapper took 0.001008 seconds\n",
      "INFO:hyperopt.tpe:TPE using 25/25 trials with best loss -0.600000\n",
      "INFO:hyperopt.tpe:build_posterior_wrapper took 0.000997 seconds\n",
      "INFO:hyperopt.tpe:TPE using 26/26 trials with best loss -0.600000\n",
      "INFO:hyperopt.tpe:build_posterior_wrapper took 0.001000 seconds\n",
      "INFO:hyperopt.tpe:TPE using 27/27 trials with best loss -0.600000\n",
      "INFO:hyperopt.tpe:build_posterior_wrapper took 0.001001 seconds\n",
      "INFO:hyperopt.tpe:TPE using 28/28 trials with best loss -0.600000\n",
      "INFO:hyperopt.tpe:build_posterior_wrapper took 0.000000 seconds\n",
      "INFO:hyperopt.tpe:TPE using 29/29 trials with best loss -0.600000\n",
      "INFO:hyperopt.tpe:build_posterior_wrapper took 0.000640 seconds\n",
      "INFO:hyperopt.tpe:TPE using 30/30 trials with best loss -0.600000\n",
      "INFO:hyperopt.tpe:build_posterior_wrapper took 0.001001 seconds\n",
      "INFO:hyperopt.tpe:TPE using 31/31 trials with best loss -0.600000\n"
     ]
    },
    {
     "name": "stdout",
     "output_type": "stream",
     "text": [
      " 64%|███████████████████████████████████████▋                      | 32/50 [00:00<00:00, 75.64trial/s, best loss: -0.6]"
     ]
    },
    {
     "name": "stderr",
     "output_type": "stream",
     "text": [
      "INFO:hyperopt.tpe:build_posterior_wrapper took 0.001011 seconds\n",
      "INFO:hyperopt.tpe:TPE using 32/32 trials with best loss -0.600000\n",
      "INFO:hyperopt.tpe:build_posterior_wrapper took 0.000000 seconds\n",
      "INFO:hyperopt.tpe:TPE using 33/33 trials with best loss -0.600000\n",
      "INFO:hyperopt.tpe:build_posterior_wrapper took 0.000999 seconds\n",
      "INFO:hyperopt.tpe:TPE using 34/34 trials with best loss -0.600000\n",
      "INFO:hyperopt.tpe:build_posterior_wrapper took 0.000998 seconds\n",
      "INFO:hyperopt.tpe:TPE using 35/35 trials with best loss -0.600000\n",
      "INFO:hyperopt.tpe:build_posterior_wrapper took 0.001000 seconds\n",
      "INFO:hyperopt.tpe:TPE using 36/36 trials with best loss -0.600000\n",
      "INFO:hyperopt.tpe:build_posterior_wrapper took 0.000000 seconds\n",
      "INFO:hyperopt.tpe:TPE using 37/37 trials with best loss -0.600000\n",
      "INFO:hyperopt.tpe:build_posterior_wrapper took 0.000663 seconds\n",
      "INFO:hyperopt.tpe:TPE using 38/38 trials with best loss -0.600000\n",
      "INFO:hyperopt.tpe:build_posterior_wrapper took 0.000508 seconds\n",
      "INFO:hyperopt.tpe:TPE using 39/39 trials with best loss -0.600000\n"
     ]
    },
    {
     "name": "stdout",
     "output_type": "stream",
     "text": [
      " 80%|█████████████████████████████████████████████████▌            | 40/50 [00:00<00:00, 73.71trial/s, best loss: -0.6]"
     ]
    },
    {
     "name": "stderr",
     "output_type": "stream",
     "text": [
      "INFO:hyperopt.tpe:build_posterior_wrapper took 0.000000 seconds\n",
      "INFO:hyperopt.tpe:TPE using 40/40 trials with best loss -0.600000\n",
      "INFO:hyperopt.tpe:build_posterior_wrapper took 0.000188 seconds\n",
      "INFO:hyperopt.tpe:TPE using 41/41 trials with best loss -0.600000\n",
      "INFO:hyperopt.tpe:build_posterior_wrapper took 0.001218 seconds\n",
      "INFO:hyperopt.tpe:TPE using 42/42 trials with best loss -0.600000\n",
      "INFO:hyperopt.tpe:build_posterior_wrapper took 0.000000 seconds\n",
      "INFO:hyperopt.tpe:TPE using 43/43 trials with best loss -0.600000\n",
      "INFO:hyperopt.tpe:build_posterior_wrapper took 0.000000 seconds\n",
      "INFO:hyperopt.tpe:TPE using 44/44 trials with best loss -0.600000\n",
      "INFO:hyperopt.tpe:build_posterior_wrapper took 0.000744 seconds\n",
      "INFO:hyperopt.tpe:TPE using 45/45 trials with best loss -0.600000\n",
      "INFO:hyperopt.tpe:build_posterior_wrapper took 0.000000 seconds\n",
      "INFO:hyperopt.tpe:TPE using 46/46 trials with best loss -0.600000\n",
      "INFO:hyperopt.tpe:build_posterior_wrapper took 0.003995 seconds\n",
      "INFO:hyperopt.tpe:TPE using 47/47 trials with best loss -0.600000\n"
     ]
    },
    {
     "name": "stdout",
     "output_type": "stream",
     "text": [
      " 96%|███████████████████████████████████████████████████████████▌  | 48/50 [00:00<00:00, 69.13trial/s, best loss: -0.6]"
     ]
    },
    {
     "name": "stderr",
     "output_type": "stream",
     "text": [
      "INFO:hyperopt.tpe:build_posterior_wrapper took 0.000000 seconds\n",
      "INFO:hyperopt.tpe:TPE using 48/48 trials with best loss -0.600000\n",
      "INFO:hyperopt.tpe:build_posterior_wrapper took 0.000000 seconds\n",
      "INFO:hyperopt.tpe:TPE using 49/49 trials with best loss -0.600000\n"
     ]
    },
    {
     "name": "stdout",
     "output_type": "stream",
     "text": [
      "100%|██████████████████████████████████████████████████████████████| 50/50 [00:00<00:00, 71.98trial/s, best loss: -0.6]\n",
      "  0%|                                                                           | 0/50 [00:00<?, ?trial/s, best loss=?]"
     ]
    },
    {
     "name": "stderr",
     "output_type": "stream",
     "text": [
      "INFO:hyperopt.tpe:build_posterior_wrapper took 0.001059 seconds\n",
      "INFO:hyperopt.tpe:TPE using 0 trials\n",
      "INFO:hyperopt.tpe:build_posterior_wrapper took 0.001055 seconds\n",
      "INFO:hyperopt.tpe:TPE using 1/1 trials with best loss -0.510000\n",
      "INFO:hyperopt.tpe:build_posterior_wrapper took 0.000000 seconds\n",
      "INFO:hyperopt.tpe:TPE using 2/2 trials with best loss -0.520000\n",
      "INFO:hyperopt.tpe:build_posterior_wrapper took 0.000000 seconds\n",
      "INFO:hyperopt.tpe:TPE using 3/3 trials with best loss -0.520000\n",
      "INFO:hyperopt.tpe:build_posterior_wrapper took 0.000000 seconds\n",
      "INFO:hyperopt.tpe:TPE using 4/4 trials with best loss -0.610000\n",
      "INFO:hyperopt.tpe:build_posterior_wrapper took 0.000000 seconds\n",
      "INFO:hyperopt.tpe:TPE using 5/5 trials with best loss -0.610000\n",
      "INFO:hyperopt.tpe:build_posterior_wrapper took 0.001066 seconds\n",
      "INFO:hyperopt.tpe:TPE using 6/6 trials with best loss -0.610000\n",
      "INFO:hyperopt.tpe:build_posterior_wrapper took 0.001009 seconds\n",
      "INFO:hyperopt.tpe:TPE using 7/7 trials with best loss -0.610000\n"
     ]
    },
    {
     "name": "stdout",
     "output_type": "stream",
     "text": [
      " 16%|█████████▉                                                    | 8/50 [00:00<00:00, 71.39trial/s, best loss: -0.61]"
     ]
    },
    {
     "name": "stderr",
     "output_type": "stream",
     "text": [
      "INFO:hyperopt.tpe:build_posterior_wrapper took 0.000000 seconds\n",
      "INFO:hyperopt.tpe:TPE using 8/8 trials with best loss -0.610000\n",
      "INFO:hyperopt.tpe:build_posterior_wrapper took 0.000000 seconds\n",
      "INFO:hyperopt.tpe:TPE using 9/9 trials with best loss -0.610000\n",
      "INFO:hyperopt.tpe:build_posterior_wrapper took 0.001106 seconds\n",
      "INFO:hyperopt.tpe:TPE using 10/10 trials with best loss -0.610000\n",
      "INFO:hyperopt.tpe:build_posterior_wrapper took 0.000000 seconds\n",
      "INFO:hyperopt.tpe:TPE using 11/11 trials with best loss -0.610000\n",
      "INFO:hyperopt.tpe:build_posterior_wrapper took 0.000000 seconds\n",
      "INFO:hyperopt.tpe:TPE using 12/12 trials with best loss -0.610000\n",
      "INFO:hyperopt.tpe:build_posterior_wrapper took 0.000000 seconds\n",
      "INFO:hyperopt.tpe:TPE using 13/13 trials with best loss -0.610000\n",
      "INFO:hyperopt.tpe:build_posterior_wrapper took 0.000992 seconds\n",
      "INFO:hyperopt.tpe:TPE using 14/14 trials with best loss -0.610000\n",
      "INFO:hyperopt.tpe:build_posterior_wrapper took 0.001000 seconds\n",
      "INFO:hyperopt.tpe:TPE using 15/15 trials with best loss -0.610000\n"
     ]
    },
    {
     "name": "stdout",
     "output_type": "stream",
     "text": [
      " 32%|███████████████████▌                                         | 16/50 [00:00<00:00, 73.27trial/s, best loss: -0.61]"
     ]
    },
    {
     "name": "stderr",
     "output_type": "stream",
     "text": [
      "INFO:hyperopt.tpe:build_posterior_wrapper took 0.001001 seconds\n",
      "INFO:hyperopt.tpe:TPE using 16/16 trials with best loss -0.610000\n",
      "INFO:hyperopt.tpe:build_posterior_wrapper took 0.000999 seconds\n",
      "INFO:hyperopt.tpe:TPE using 17/17 trials with best loss -0.610000\n",
      "INFO:hyperopt.tpe:build_posterior_wrapper took 0.000000 seconds\n",
      "INFO:hyperopt.tpe:TPE using 18/18 trials with best loss -0.610000\n",
      "INFO:hyperopt.tpe:build_posterior_wrapper took 0.000000 seconds\n",
      "INFO:hyperopt.tpe:TPE using 19/19 trials with best loss -0.610000\n",
      "INFO:hyperopt.tpe:build_posterior_wrapper took 0.000000 seconds\n",
      "INFO:hyperopt.tpe:TPE using 20/20 trials with best loss -0.610000\n",
      "INFO:hyperopt.tpe:build_posterior_wrapper took 0.001009 seconds\n",
      "INFO:hyperopt.tpe:TPE using 21/21 trials with best loss -0.610000\n",
      "INFO:hyperopt.tpe:build_posterior_wrapper took 0.000000 seconds\n",
      "INFO:hyperopt.tpe:TPE using 22/22 trials with best loss -0.610000\n",
      "INFO:hyperopt.tpe:build_posterior_wrapper took 0.000000 seconds\n",
      "INFO:hyperopt.tpe:TPE using 23/23 trials with best loss -0.610000\n"
     ]
    },
    {
     "name": "stdout",
     "output_type": "stream",
     "text": [
      " 48%|█████████████████████████████▎                               | 24/50 [00:00<00:00, 74.26trial/s, best loss: -0.61]"
     ]
    },
    {
     "name": "stderr",
     "output_type": "stream",
     "text": [
      "INFO:hyperopt.tpe:build_posterior_wrapper took 0.000997 seconds\n",
      "INFO:hyperopt.tpe:TPE using 24/24 trials with best loss -0.610000\n",
      "INFO:hyperopt.tpe:build_posterior_wrapper took 0.000343 seconds\n",
      "INFO:hyperopt.tpe:TPE using 25/25 trials with best loss -0.610000\n",
      "INFO:hyperopt.tpe:build_posterior_wrapper took 0.000000 seconds\n",
      "INFO:hyperopt.tpe:TPE using 26/26 trials with best loss -0.610000\n",
      "INFO:hyperopt.tpe:build_posterior_wrapper took 0.000000 seconds\n",
      "INFO:hyperopt.tpe:TPE using 27/27 trials with best loss -0.610000\n",
      "INFO:hyperopt.tpe:build_posterior_wrapper took 0.001006 seconds\n",
      "INFO:hyperopt.tpe:TPE using 28/28 trials with best loss -0.610000\n",
      "INFO:hyperopt.tpe:build_posterior_wrapper took 0.000000 seconds\n",
      "INFO:hyperopt.tpe:TPE using 29/29 trials with best loss -0.610000\n",
      "INFO:hyperopt.tpe:build_posterior_wrapper took 0.000086 seconds\n",
      "INFO:hyperopt.tpe:TPE using 30/30 trials with best loss -0.610000\n",
      "INFO:hyperopt.tpe:build_posterior_wrapper took 0.000242 seconds\n",
      "INFO:hyperopt.tpe:TPE using 31/31 trials with best loss -0.610000\n"
     ]
    },
    {
     "name": "stdout",
     "output_type": "stream",
     "text": [
      " 64%|███████████████████████████████████████                      | 32/50 [00:00<00:00, 74.51trial/s, best loss: -0.61]"
     ]
    },
    {
     "name": "stderr",
     "output_type": "stream",
     "text": [
      "INFO:hyperopt.tpe:build_posterior_wrapper took 0.000000 seconds\n",
      "INFO:hyperopt.tpe:TPE using 32/32 trials with best loss -0.610000\n",
      "INFO:hyperopt.tpe:build_posterior_wrapper took 0.000000 seconds\n",
      "INFO:hyperopt.tpe:TPE using 33/33 trials with best loss -0.610000\n",
      "INFO:hyperopt.tpe:build_posterior_wrapper took 0.000000 seconds\n",
      "INFO:hyperopt.tpe:TPE using 34/34 trials with best loss -0.610000\n",
      "INFO:hyperopt.tpe:build_posterior_wrapper took 0.000000 seconds\n",
      "INFO:hyperopt.tpe:TPE using 35/35 trials with best loss -0.610000\n",
      "INFO:hyperopt.tpe:build_posterior_wrapper took 0.001005 seconds\n",
      "INFO:hyperopt.tpe:TPE using 36/36 trials with best loss -0.610000\n",
      "INFO:hyperopt.tpe:build_posterior_wrapper took 0.001007 seconds\n",
      "INFO:hyperopt.tpe:TPE using 37/37 trials with best loss -0.610000\n",
      "INFO:hyperopt.tpe:build_posterior_wrapper took 0.001007 seconds\n",
      "INFO:hyperopt.tpe:TPE using 38/38 trials with best loss -0.610000\n",
      "INFO:hyperopt.tpe:build_posterior_wrapper took 0.001000 seconds\n",
      "INFO:hyperopt.tpe:TPE using 39/39 trials with best loss -0.610000\n"
     ]
    },
    {
     "name": "stdout",
     "output_type": "stream",
     "text": [
      " 80%|████████████████████████████████████████████████▊            | 40/50 [00:00<00:00, 72.96trial/s, best loss: -0.61]"
     ]
    },
    {
     "name": "stderr",
     "output_type": "stream",
     "text": [
      "INFO:hyperopt.tpe:build_posterior_wrapper took 0.001003 seconds\n",
      "INFO:hyperopt.tpe:TPE using 40/40 trials with best loss -0.610000\n",
      "INFO:hyperopt.tpe:build_posterior_wrapper took 0.000000 seconds\n",
      "INFO:hyperopt.tpe:TPE using 41/41 trials with best loss -0.610000\n",
      "INFO:hyperopt.tpe:build_posterior_wrapper took 0.000000 seconds\n",
      "INFO:hyperopt.tpe:TPE using 42/42 trials with best loss -0.610000\n",
      "INFO:hyperopt.tpe:build_posterior_wrapper took 0.001009 seconds\n",
      "INFO:hyperopt.tpe:TPE using 43/43 trials with best loss -0.610000\n",
      "INFO:hyperopt.tpe:build_posterior_wrapper took 0.000000 seconds\n",
      "INFO:hyperopt.tpe:TPE using 44/44 trials with best loss -0.610000\n",
      "INFO:hyperopt.tpe:build_posterior_wrapper took 0.000000 seconds\n",
      "INFO:hyperopt.tpe:TPE using 45/45 trials with best loss -0.610000\n",
      "INFO:hyperopt.tpe:build_posterior_wrapper took 0.001006 seconds\n",
      "INFO:hyperopt.tpe:TPE using 46/46 trials with best loss -0.610000\n",
      "INFO:hyperopt.tpe:build_posterior_wrapper took 0.001010 seconds\n",
      "INFO:hyperopt.tpe:TPE using 47/47 trials with best loss -0.610000\n"
     ]
    },
    {
     "name": "stdout",
     "output_type": "stream",
     "text": [
      " 96%|██████████████████████████████████████████████████████████▌  | 48/50 [00:00<00:00, 73.14trial/s, best loss: -0.61]"
     ]
    },
    {
     "name": "stderr",
     "output_type": "stream",
     "text": [
      "INFO:hyperopt.tpe:build_posterior_wrapper took 0.001003 seconds\n",
      "INFO:hyperopt.tpe:TPE using 48/48 trials with best loss -0.610000\n",
      "INFO:hyperopt.tpe:build_posterior_wrapper took 0.000000 seconds\n",
      "INFO:hyperopt.tpe:TPE using 49/49 trials with best loss -0.610000\n"
     ]
    },
    {
     "name": "stdout",
     "output_type": "stream",
     "text": [
      "100%|█████████████████████████████████████████████████████████████| 50/50 [00:00<00:00, 73.40trial/s, best loss: -0.61]\n",
      "  0%|                                                                           | 0/50 [00:00<?, ?trial/s, best loss=?]"
     ]
    },
    {
     "name": "stderr",
     "output_type": "stream",
     "text": [
      "INFO:hyperopt.tpe:build_posterior_wrapper took 0.000336 seconds\n",
      "INFO:hyperopt.tpe:TPE using 0 trials\n",
      "INFO:hyperopt.tpe:build_posterior_wrapper took 0.000000 seconds\n",
      "INFO:hyperopt.tpe:TPE using 1/1 trials with best loss -0.570000\n",
      "INFO:hyperopt.tpe:build_posterior_wrapper took 0.000504 seconds\n",
      "INFO:hyperopt.tpe:TPE using 2/2 trials with best loss -0.580000\n",
      "INFO:hyperopt.tpe:build_posterior_wrapper took 0.001000 seconds\n",
      "INFO:hyperopt.tpe:TPE using 3/3 trials with best loss -0.580000\n",
      "INFO:hyperopt.tpe:build_posterior_wrapper took 0.000000 seconds\n",
      "INFO:hyperopt.tpe:TPE using 4/4 trials with best loss -0.580000\n",
      "INFO:hyperopt.tpe:build_posterior_wrapper took 0.001001 seconds\n",
      "INFO:hyperopt.tpe:TPE using 5/5 trials with best loss -0.580000\n",
      "INFO:hyperopt.tpe:build_posterior_wrapper took 0.000000 seconds\n",
      "INFO:hyperopt.tpe:TPE using 6/6 trials with best loss -0.580000\n",
      "INFO:hyperopt.tpe:build_posterior_wrapper took 0.001037 seconds\n",
      "INFO:hyperopt.tpe:TPE using 7/7 trials with best loss -0.580000\n",
      "INFO:hyperopt.tpe:build_posterior_wrapper took 0.000000 seconds\n",
      "INFO:hyperopt.tpe:TPE using 8/8 trials with best loss -0.580000\n"
     ]
    },
    {
     "name": "stdout",
     "output_type": "stream",
     "text": [
      " 18%|████████▋                                       | 9/50 [00:00<00:00, 88.11trial/s, best loss: -0.5800000000000001]"
     ]
    },
    {
     "name": "stderr",
     "output_type": "stream",
     "text": [
      "INFO:hyperopt.tpe:build_posterior_wrapper took 0.001027 seconds\n",
      "INFO:hyperopt.tpe:TPE using 9/9 trials with best loss -0.580000\n",
      "INFO:hyperopt.tpe:build_posterior_wrapper took 0.001001 seconds\n",
      "INFO:hyperopt.tpe:TPE using 10/10 trials with best loss -0.580000\n",
      "INFO:hyperopt.tpe:build_posterior_wrapper took 0.000267 seconds\n",
      "INFO:hyperopt.tpe:TPE using 11/11 trials with best loss -0.580000\n",
      "INFO:hyperopt.tpe:build_posterior_wrapper took 0.001000 seconds\n",
      "INFO:hyperopt.tpe:TPE using 12/12 trials with best loss -0.580000\n",
      "INFO:hyperopt.tpe:build_posterior_wrapper took 0.000342 seconds\n",
      "INFO:hyperopt.tpe:TPE using 13/13 trials with best loss -0.580000\n",
      "INFO:hyperopt.tpe:build_posterior_wrapper took 0.000000 seconds\n",
      "INFO:hyperopt.tpe:TPE using 14/14 trials with best loss -0.580000\n",
      "INFO:hyperopt.tpe:build_posterior_wrapper took 0.000000 seconds\n",
      "INFO:hyperopt.tpe:TPE using 15/15 trials with best loss -0.580000\n",
      "INFO:hyperopt.tpe:build_posterior_wrapper took 0.000000 seconds\n",
      "INFO:hyperopt.tpe:TPE using 16/16 trials with best loss -0.580000\n",
      "INFO:hyperopt.tpe:build_posterior_wrapper took 0.001002 seconds\n",
      "INFO:hyperopt.tpe:TPE using 17/17 trials with best loss -0.580000\n"
     ]
    },
    {
     "name": "stdout",
     "output_type": "stream",
     "text": [
      " 36%|████████████████▉                              | 18/50 [00:00<00:00, 88.06trial/s, best loss: -0.5800000000000001]"
     ]
    },
    {
     "name": "stderr",
     "output_type": "stream",
     "text": [
      "INFO:hyperopt.tpe:build_posterior_wrapper took 0.001001 seconds\n",
      "INFO:hyperopt.tpe:TPE using 18/18 trials with best loss -0.580000\n",
      "INFO:hyperopt.tpe:build_posterior_wrapper took 0.000998 seconds\n",
      "INFO:hyperopt.tpe:TPE using 19/19 trials with best loss -0.580000\n",
      "INFO:hyperopt.tpe:build_posterior_wrapper took 0.001318 seconds\n",
      "INFO:hyperopt.tpe:TPE using 20/20 trials with best loss -0.580000\n",
      "INFO:hyperopt.tpe:build_posterior_wrapper took 0.001019 seconds\n",
      "INFO:hyperopt.tpe:TPE using 21/21 trials with best loss -0.580000\n",
      "INFO:hyperopt.tpe:build_posterior_wrapper took 0.000000 seconds\n",
      "INFO:hyperopt.tpe:TPE using 22/22 trials with best loss -0.580000\n",
      "INFO:hyperopt.tpe:build_posterior_wrapper took 0.001011 seconds\n",
      "INFO:hyperopt.tpe:TPE using 23/23 trials with best loss -0.580000\n",
      "INFO:hyperopt.tpe:build_posterior_wrapper took 0.000000 seconds\n",
      "INFO:hyperopt.tpe:TPE using 24/24 trials with best loss -0.580000\n",
      "INFO:hyperopt.tpe:build_posterior_wrapper took 0.000000 seconds\n",
      "INFO:hyperopt.tpe:TPE using 25/25 trials with best loss -0.580000\n",
      "INFO:hyperopt.tpe:build_posterior_wrapper took 0.001007 seconds\n",
      "INFO:hyperopt.tpe:TPE using 26/26 trials with best loss -0.580000\n"
     ]
    },
    {
     "name": "stdout",
     "output_type": "stream",
     "text": [
      " 54%|█████████████████████████▍                     | 27/50 [00:00<00:00, 81.64trial/s, best loss: -0.5800000000000001]"
     ]
    },
    {
     "name": "stderr",
     "output_type": "stream",
     "text": [
      "INFO:hyperopt.tpe:build_posterior_wrapper took 0.001000 seconds\n",
      "INFO:hyperopt.tpe:TPE using 27/27 trials with best loss -0.580000\n",
      "INFO:hyperopt.tpe:build_posterior_wrapper took 0.001007 seconds\n",
      "INFO:hyperopt.tpe:TPE using 28/28 trials with best loss -0.580000\n",
      "INFO:hyperopt.tpe:build_posterior_wrapper took 0.001000 seconds\n",
      "INFO:hyperopt.tpe:TPE using 29/29 trials with best loss -0.580000\n",
      "INFO:hyperopt.tpe:build_posterior_wrapper took 0.000644 seconds\n",
      "INFO:hyperopt.tpe:TPE using 30/30 trials with best loss -0.580000\n",
      "INFO:hyperopt.tpe:build_posterior_wrapper took 0.000000 seconds\n",
      "INFO:hyperopt.tpe:TPE using 31/31 trials with best loss -0.580000\n",
      "INFO:hyperopt.tpe:build_posterior_wrapper took 0.000000 seconds\n",
      "INFO:hyperopt.tpe:TPE using 32/32 trials with best loss -0.580000\n",
      "INFO:hyperopt.tpe:build_posterior_wrapper took 0.000000 seconds\n",
      "INFO:hyperopt.tpe:TPE using 33/33 trials with best loss -0.580000\n",
      "INFO:hyperopt.tpe:build_posterior_wrapper took 0.000999 seconds\n",
      "INFO:hyperopt.tpe:TPE using 34/34 trials with best loss -0.580000\n",
      "INFO:hyperopt.tpe:build_posterior_wrapper took 0.000000 seconds\n",
      "INFO:hyperopt.tpe:TPE using 35/35 trials with best loss -0.580000\n"
     ]
    },
    {
     "name": "stdout",
     "output_type": "stream",
     "text": [
      " 72%|█████████████████████████████████▊             | 36/50 [00:00<00:00, 75.92trial/s, best loss: -0.5800000000000001]"
     ]
    },
    {
     "name": "stderr",
     "output_type": "stream",
     "text": [
      "INFO:hyperopt.tpe:build_posterior_wrapper took 0.000000 seconds\n",
      "INFO:hyperopt.tpe:TPE using 36/36 trials with best loss -0.580000\n",
      "INFO:hyperopt.tpe:build_posterior_wrapper took 0.001509 seconds\n",
      "INFO:hyperopt.tpe:TPE using 37/37 trials with best loss -0.580000\n",
      "INFO:hyperopt.tpe:build_posterior_wrapper took 0.001012 seconds\n",
      "INFO:hyperopt.tpe:TPE using 38/38 trials with best loss -0.580000\n",
      "INFO:hyperopt.tpe:build_posterior_wrapper took 0.000995 seconds\n",
      "INFO:hyperopt.tpe:TPE using 39/39 trials with best loss -0.580000\n",
      "INFO:hyperopt.tpe:build_posterior_wrapper took 0.001000 seconds\n",
      "INFO:hyperopt.tpe:TPE using 40/40 trials with best loss -0.580000\n",
      "INFO:hyperopt.tpe:build_posterior_wrapper took 0.000504 seconds\n",
      "INFO:hyperopt.tpe:TPE using 41/41 trials with best loss -0.580000\n",
      "INFO:hyperopt.tpe:build_posterior_wrapper took 0.000000 seconds\n",
      "INFO:hyperopt.tpe:TPE using 42/42 trials with best loss -0.580000\n",
      "INFO:hyperopt.tpe:build_posterior_wrapper took 0.000626 seconds\n",
      "INFO:hyperopt.tpe:TPE using 43/43 trials with best loss -0.580000\n"
     ]
    },
    {
     "name": "stdout",
     "output_type": "stream",
     "text": [
      " 88%|█████████████████████████████████████████▎     | 44/50 [00:00<00:00, 75.72trial/s, best loss: -0.5800000000000001]"
     ]
    },
    {
     "name": "stderr",
     "output_type": "stream",
     "text": [
      "INFO:hyperopt.tpe:build_posterior_wrapper took 0.001060 seconds\n",
      "INFO:hyperopt.tpe:TPE using 44/44 trials with best loss -0.580000\n",
      "INFO:hyperopt.tpe:build_posterior_wrapper took 0.000000 seconds\n",
      "INFO:hyperopt.tpe:TPE using 45/45 trials with best loss -0.580000\n",
      "INFO:hyperopt.tpe:build_posterior_wrapper took 0.000000 seconds\n",
      "INFO:hyperopt.tpe:TPE using 46/46 trials with best loss -0.580000\n",
      "INFO:hyperopt.tpe:build_posterior_wrapper took 0.000000 seconds\n",
      "INFO:hyperopt.tpe:TPE using 47/47 trials with best loss -0.580000\n",
      "INFO:hyperopt.tpe:build_posterior_wrapper took 0.000535 seconds\n",
      "INFO:hyperopt.tpe:TPE using 48/48 trials with best loss -0.580000\n",
      "INFO:hyperopt.tpe:build_posterior_wrapper took 0.000999 seconds\n",
      "INFO:hyperopt.tpe:TPE using 49/49 trials with best loss -0.580000\n"
     ]
    },
    {
     "name": "stdout",
     "output_type": "stream",
     "text": [
      "100%|███████████████████████████████████████████████| 50/50 [00:00<00:00, 77.02trial/s, best loss: -0.5800000000000001]\n",
      "  0%|                                                                           | 0/50 [00:00<?, ?trial/s, best loss=?]"
     ]
    },
    {
     "name": "stderr",
     "output_type": "stream",
     "text": [
      "INFO:hyperopt.tpe:build_posterior_wrapper took 0.002260 seconds\n",
      "INFO:hyperopt.tpe:TPE using 0 trials\n",
      "INFO:hyperopt.tpe:build_posterior_wrapper took 0.001541 seconds\n",
      "INFO:hyperopt.tpe:TPE using 1/1 trials with best loss -0.620000\n",
      "INFO:hyperopt.tpe:build_posterior_wrapper took 0.001008 seconds\n",
      "INFO:hyperopt.tpe:TPE using 2/2 trials with best loss -0.620000\n",
      "INFO:hyperopt.tpe:build_posterior_wrapper took 0.001035 seconds\n",
      "INFO:hyperopt.tpe:TPE using 3/3 trials with best loss -0.620000\n",
      "INFO:hyperopt.tpe:build_posterior_wrapper took 0.000507 seconds\n",
      "INFO:hyperopt.tpe:TPE using 4/4 trials with best loss -0.620000\n",
      "INFO:hyperopt.tpe:build_posterior_wrapper took 0.000000 seconds\n",
      "INFO:hyperopt.tpe:TPE using 5/5 trials with best loss -0.620000\n",
      "INFO:hyperopt.tpe:build_posterior_wrapper took 0.001508 seconds\n",
      "INFO:hyperopt.tpe:TPE using 6/6 trials with best loss -0.620000\n",
      "INFO:hyperopt.tpe:build_posterior_wrapper took 0.000000 seconds\n",
      "INFO:hyperopt.tpe:TPE using 7/7 trials with best loss -0.620000\n",
      "INFO:hyperopt.tpe:build_posterior_wrapper took 0.000000 seconds\n",
      "INFO:hyperopt.tpe:TPE using 8/8 trials with best loss -0.620000\n"
     ]
    },
    {
     "name": "stdout",
     "output_type": "stream",
     "text": [
      " 18%|████████▋                                       | 9/50 [00:00<00:00, 80.25trial/s, best loss: -0.6199999999999999]"
     ]
    },
    {
     "name": "stderr",
     "output_type": "stream",
     "text": [
      "INFO:hyperopt.tpe:build_posterior_wrapper took 0.000000 seconds\n",
      "INFO:hyperopt.tpe:TPE using 9/9 trials with best loss -0.620000\n",
      "INFO:hyperopt.tpe:build_posterior_wrapper took 0.000865 seconds\n",
      "INFO:hyperopt.tpe:TPE using 10/10 trials with best loss -0.620000\n",
      "INFO:hyperopt.tpe:build_posterior_wrapper took 0.000000 seconds\n",
      "INFO:hyperopt.tpe:TPE using 11/11 trials with best loss -0.620000\n",
      "INFO:hyperopt.tpe:build_posterior_wrapper took 0.001007 seconds\n",
      "INFO:hyperopt.tpe:TPE using 12/12 trials with best loss -0.620000\n",
      "INFO:hyperopt.tpe:build_posterior_wrapper took 0.001010 seconds\n",
      "INFO:hyperopt.tpe:TPE using 13/13 trials with best loss -0.620000\n",
      "INFO:hyperopt.tpe:build_posterior_wrapper took 0.000705 seconds\n",
      "INFO:hyperopt.tpe:TPE using 14/14 trials with best loss -0.620000\n",
      "INFO:hyperopt.tpe:build_posterior_wrapper took 0.001009 seconds\n",
      "INFO:hyperopt.tpe:TPE using 15/15 trials with best loss -0.620000\n",
      "INFO:hyperopt.tpe:build_posterior_wrapper took 0.001008 seconds\n",
      "INFO:hyperopt.tpe:TPE using 16/16 trials with best loss -0.620000\n",
      "INFO:hyperopt.tpe:build_posterior_wrapper took 0.000616 seconds\n",
      "INFO:hyperopt.tpe:TPE using 17/17 trials with best loss -0.620000\n"
     ]
    },
    {
     "name": "stdout",
     "output_type": "stream",
     "text": [
      " 36%|████████████████▉                              | 18/50 [00:00<00:00, 83.17trial/s, best loss: -0.6199999999999999]"
     ]
    },
    {
     "name": "stderr",
     "output_type": "stream",
     "text": [
      "INFO:hyperopt.tpe:build_posterior_wrapper took 0.000000 seconds\n",
      "INFO:hyperopt.tpe:TPE using 18/18 trials with best loss -0.620000\n",
      "INFO:hyperopt.tpe:build_posterior_wrapper took 0.000000 seconds\n",
      "INFO:hyperopt.tpe:TPE using 19/19 trials with best loss -0.620000\n",
      "INFO:hyperopt.tpe:build_posterior_wrapper took 0.000577 seconds\n",
      "INFO:hyperopt.tpe:TPE using 20/20 trials with best loss -0.620000\n",
      "INFO:hyperopt.tpe:build_posterior_wrapper took 0.000000 seconds\n",
      "INFO:hyperopt.tpe:TPE using 21/21 trials with best loss -0.620000\n",
      "INFO:hyperopt.tpe:build_posterior_wrapper took 0.000562 seconds\n",
      "INFO:hyperopt.tpe:TPE using 22/22 trials with best loss -0.620000\n",
      "INFO:hyperopt.tpe:build_posterior_wrapper took 0.000685 seconds\n",
      "INFO:hyperopt.tpe:TPE using 23/23 trials with best loss -0.620000\n",
      "INFO:hyperopt.tpe:build_posterior_wrapper took 0.000000 seconds\n",
      "INFO:hyperopt.tpe:TPE using 24/24 trials with best loss -0.620000\n",
      "INFO:hyperopt.tpe:build_posterior_wrapper took 0.001008 seconds\n",
      "INFO:hyperopt.tpe:TPE using 25/25 trials with best loss -0.620000\n",
      "INFO:hyperopt.tpe:build_posterior_wrapper took 0.001001 seconds\n",
      "INFO:hyperopt.tpe:TPE using 26/26 trials with best loss -0.620000\n"
     ]
    },
    {
     "name": "stdout",
     "output_type": "stream",
     "text": [
      " 54%|█████████████████████████▍                     | 27/50 [00:00<00:00, 77.35trial/s, best loss: -0.6199999999999999]"
     ]
    },
    {
     "name": "stderr",
     "output_type": "stream",
     "text": [
      "INFO:hyperopt.tpe:build_posterior_wrapper took 0.000521 seconds\n",
      "INFO:hyperopt.tpe:TPE using 27/27 trials with best loss -0.620000\n",
      "INFO:hyperopt.tpe:build_posterior_wrapper took 0.001000 seconds\n",
      "INFO:hyperopt.tpe:TPE using 28/28 trials with best loss -0.620000\n",
      "INFO:hyperopt.tpe:build_posterior_wrapper took 0.000000 seconds\n",
      "INFO:hyperopt.tpe:TPE using 29/29 trials with best loss -0.620000\n",
      "INFO:hyperopt.tpe:build_posterior_wrapper took 0.000000 seconds\n",
      "INFO:hyperopt.tpe:TPE using 30/30 trials with best loss -0.620000\n",
      "INFO:hyperopt.tpe:build_posterior_wrapper took 0.000000 seconds\n",
      "INFO:hyperopt.tpe:TPE using 31/31 trials with best loss -0.620000\n",
      "INFO:hyperopt.tpe:build_posterior_wrapper took 0.000000 seconds\n",
      "INFO:hyperopt.tpe:TPE using 32/32 trials with best loss -0.620000\n",
      "INFO:hyperopt.tpe:build_posterior_wrapper took 0.001505 seconds\n",
      "INFO:hyperopt.tpe:TPE using 33/33 trials with best loss -0.620000\n",
      "INFO:hyperopt.tpe:build_posterior_wrapper took 0.001002 seconds\n",
      "INFO:hyperopt.tpe:TPE using 34/34 trials with best loss -0.620000\n"
     ]
    },
    {
     "name": "stdout",
     "output_type": "stream",
     "text": [
      " 70%|████████████████████████████████▉              | 35/50 [00:00<00:00, 75.87trial/s, best loss: -0.6199999999999999]"
     ]
    },
    {
     "name": "stderr",
     "output_type": "stream",
     "text": [
      "INFO:hyperopt.tpe:build_posterior_wrapper took 0.001003 seconds\n",
      "INFO:hyperopt.tpe:TPE using 35/35 trials with best loss -0.620000\n",
      "INFO:hyperopt.tpe:build_posterior_wrapper took 0.000000 seconds\n",
      "INFO:hyperopt.tpe:TPE using 36/36 trials with best loss -0.620000\n",
      "INFO:hyperopt.tpe:build_posterior_wrapper took 0.000000 seconds\n",
      "INFO:hyperopt.tpe:TPE using 37/37 trials with best loss -0.620000\n",
      "INFO:hyperopt.tpe:build_posterior_wrapper took 0.000000 seconds\n",
      "INFO:hyperopt.tpe:TPE using 38/38 trials with best loss -0.620000\n",
      "INFO:hyperopt.tpe:build_posterior_wrapper took 0.000000 seconds\n",
      "INFO:hyperopt.tpe:TPE using 39/39 trials with best loss -0.620000\n",
      "INFO:hyperopt.tpe:build_posterior_wrapper took 0.001000 seconds\n",
      "INFO:hyperopt.tpe:TPE using 40/40 trials with best loss -0.620000\n",
      "INFO:hyperopt.tpe:build_posterior_wrapper took 0.000998 seconds\n",
      "INFO:hyperopt.tpe:TPE using 41/41 trials with best loss -0.620000\n",
      "INFO:hyperopt.tpe:build_posterior_wrapper took 0.001000 seconds\n",
      "INFO:hyperopt.tpe:TPE using 42/42 trials with best loss -0.620000\n"
     ]
    },
    {
     "name": "stdout",
     "output_type": "stream",
     "text": [
      " 86%|████████████████████████████████████████▍      | 43/50 [00:00<00:00, 74.48trial/s, best loss: -0.6199999999999999]"
     ]
    },
    {
     "name": "stderr",
     "output_type": "stream",
     "text": [
      "INFO:hyperopt.tpe:build_posterior_wrapper took 0.001012 seconds\n",
      "INFO:hyperopt.tpe:TPE using 43/43 trials with best loss -0.620000\n",
      "INFO:hyperopt.tpe:build_posterior_wrapper took 0.001000 seconds\n",
      "INFO:hyperopt.tpe:TPE using 44/44 trials with best loss -0.620000\n",
      "INFO:hyperopt.tpe:build_posterior_wrapper took 0.001007 seconds\n",
      "INFO:hyperopt.tpe:TPE using 45/45 trials with best loss -0.620000\n",
      "INFO:hyperopt.tpe:build_posterior_wrapper took 0.001000 seconds\n",
      "INFO:hyperopt.tpe:TPE using 46/46 trials with best loss -0.620000\n",
      "INFO:hyperopt.tpe:build_posterior_wrapper took 0.000000 seconds\n",
      "INFO:hyperopt.tpe:TPE using 47/47 trials with best loss -0.620000\n",
      "INFO:hyperopt.tpe:build_posterior_wrapper took 0.000000 seconds\n",
      "INFO:hyperopt.tpe:TPE using 48/48 trials with best loss -0.620000\n",
      "INFO:hyperopt.tpe:build_posterior_wrapper took 0.000999 seconds\n",
      "INFO:hyperopt.tpe:TPE using 49/49 trials with best loss -0.620000\n"
     ]
    },
    {
     "name": "stdout",
     "output_type": "stream",
     "text": [
      "100%|███████████████████████████████████████████████| 50/50 [00:00<00:00, 75.05trial/s, best loss: -0.6199999999999999]\n",
      "Results DataFrame:\n",
      "  Random_State  Alpha  Binarize  Accuracy  F1_Score Num_Features  \\\n",
      "0          392   1.66      0.95      0.73      0.79            3   \n",
      "1          406   8.16      0.79      0.69      0.76            3   \n",
      "2          393   1.26      0.76      0.73      0.79            3   \n",
      "3          221   2.72      0.79      0.85      0.87            3   \n",
      "4          845   7.32      0.78      0.69      0.78            3   \n",
      "5          638   2.51      0.45      0.65      0.78            3   \n",
      "6          226   5.17      0.77      0.73      0.79            3   \n",
      "7          958   1.53      0.99      0.69      0.76            3   \n",
      "8          660   6.69      0.90      0.81      0.83            3   \n",
      "9          491   5.66      1.00      0.69      0.69            3   \n",
      "\n",
      "  Deleted_Features  \n",
      "0           [2, 4]  \n",
      "1           [2, 4]  \n",
      "2           [2, 4]  \n",
      "3           [2, 4]  \n",
      "4           [2, 4]  \n",
      "5           [2, 4]  \n",
      "6           [2, 4]  \n",
      "7           [2, 4]  \n",
      "8           [2, 4]  \n",
      "9           [2, 4]  \n",
      "\n",
      "Average Accuracy: 0.7269\n",
      "Average F1 Score: 0.7838\n",
      "\n",
      "Deleted Features: Index(['X4', 'X6'], dtype='object')\n"
     ]
    }
   ],
   "source": [
    "results_df = pd.DataFrame(columns=[\"Random_State\", \"Alpha\", \"Binarize\", \"Accuracy\", \"F1_Score\", \"Num_Features\", \"Deleted_Features\"])\n",
    "\n",
    "# Perform RFE once on the full dataset\n",
    "selector = RFE(LogisticRegression(max_iter=1000,verbose=0), n_features_to_select=3)  # Select top 10 features\n",
    "X_selected = selector.fit_transform(x, y)\n",
    "\n",
    "# Identify deleted features\n",
    "feature_names = list(range(x.shape[1]))  # Assuming features are numbered 0, 1, ..., n\n",
    "selected_features = np.array(feature_names)[selector.support_]\n",
    "deleted_features = np.array(feature_names)[~selector.support_]\n",
    "\n",
    "# Scale the selected features\n",
    "scaler = MinMaxScaler()\n",
    "X_scaled = scaler.fit_transform(X_selected)\n",
    "\n",
    "# Define the hyperparameter search space\n",
    "search_space = {\n",
    "    'alpha': hp.uniform('alpha', 0.01, 10),  # Smoothing parameter\n",
    "    'binarize': hp.uniform('binarize', 0.0, 1.0)  # Threshold for binarizing scaled features\n",
    "}\n",
    "\n",
    "\n",
    "for state in random_states:\n",
    "    # Split the data\n",
    "    X_train, X_test, y_train, y_test = train_test_split(\n",
    "        X_scaled, y, test_size=0.2, random_state=state\n",
    "    )\n",
    "    \n",
    "    # Objective function to minimize\n",
    "    def objective(params):\n",
    "        model = BernoulliNB(alpha=params['alpha'], binarize=params['binarize'])\n",
    "        score = cross_val_score(model, X_train, y_train, cv=5, scoring='accuracy').mean()\n",
    "        return {'loss': -score, 'status': STATUS_OK}\n",
    "\n",
    "    # Run Hyperopt optimization\n",
    "    trials = Trials()\n",
    "    best_params = fmin(\n",
    "        fn=objective,\n",
    "        space=search_space,\n",
    "        algo=tpe.suggest,\n",
    "        max_evals=50,  # Number of evaluations\n",
    "        trials=trials\n",
    "    )\n",
    "\n",
    "    # Extract optimized hyperparameters\n",
    "    alpha_opt = best_params['alpha']\n",
    "    binarize_opt = best_params['binarize']\n",
    "\n",
    "    # Train the best model with optimized hyperparameters\n",
    "    best_model = BernoulliNB(alpha=alpha_opt, binarize=binarize_opt)\n",
    "    best_model.fit(X_train, y_train)\n",
    "\n",
    "    # Make predictions and calculate metrics\n",
    "    y_pred = best_model.predict(X_test)\n",
    "    accuracy = accuracy_score(y_test, y_pred)\n",
    "    f1 = f1_score(y_test, y_pred)\n",
    "\n",
    "    # Append results to the DataFrame using pd.concat()\n",
    "    new_row = pd.DataFrame({\n",
    "        \"Random_State\": [state],\n",
    "        \"Alpha\": [alpha_opt],\n",
    "        \"Binarize\": [binarize_opt],\n",
    "        \"Accuracy\": [accuracy],\n",
    "        \"F1_Score\": [f1],\n",
    "        \"Num_Features\": [X_train.shape[1]],\n",
    "        \"Deleted_Features\": [list(deleted_features)]\n",
    "    })\n",
    "    results_df = pd.concat([results_df, new_row], ignore_index=True)\n",
    "\n",
    "# Display the results DataFrame\n",
    "print(\"Results DataFrame:\")\n",
    "print(results_df)\n",
    "\n",
    "# Calculate averages\n",
    "average_accuracy = results_df[\"Accuracy\"].mean()\n",
    "average_f1 = results_df[\"F1_Score\"].mean()\n",
    "\n",
    "print(f\"\\nAverage Accuracy: {average_accuracy:.4f}\")\n",
    "print(f\"Average F1 Score: {average_f1:.4f}\")\n",
    "print(f\"\\nDeleted Features: {new_dataset.iloc[:,1:].columns[deleted_features]}\")"
   ]
  },
  {
   "cell_type": "code",
   "execution_count": null,
   "id": "7a78c720-f0f7-4927-a603-89d88884b0d4",
   "metadata": {},
   "outputs": [],
   "source": []
  },
  {
   "cell_type": "markdown",
   "id": "2752b71c-5738-43a0-ab94-f3ece38242e2",
   "metadata": {},
   "source": [
    "### LGBM Classifier\n",
    "\n",
    "We train LGBM Classifier with entire dataset and achieve the best accuracy of 76.5%. Unfortunately, we could\n",
    "not increase the accuracy by using the recursive feature elimination."
   ]
  },
  {
   "cell_type": "code",
   "execution_count": 384,
   "id": "894eff3c-a91a-43ee-91ea-541a9c3e3034",
   "metadata": {},
   "outputs": [],
   "source": [
    "x= new_dataset.iloc[:,1:].values\n",
    "y=new_dataset.iloc[:,0].values"
   ]
  },
  {
   "cell_type": "code",
   "execution_count": 386,
   "id": "2d135b81-b552-41fb-85b5-9b08ea2c689b",
   "metadata": {},
   "outputs": [],
   "source": [
    "from lightgbm import LGBMClassifier"
   ]
  },
  {
   "cell_type": "code",
   "execution_count": 415,
   "id": "07242bfb-9c63-42c8-bddf-0465d5e1823b",
   "metadata": {},
   "outputs": [],
   "source": [
    "lgbm_all_random_seeds_accuracy=[]\n",
    "lgbm_all_random_seeds_f1=[]\n",
    "for state in random_states:\n",
    "    X_train,X_test,Y_train,Y_test=train_test_split(x,y,test_size=0.2,random_state=state)\n",
    "    lgbm_model = LGBMClassifier(verbose=-100,n_estimators=100,learning_rate=0.1,max_depth=-1,num_leaves=31,subsample=0.8,colsample_bytree=0.8,random_state=state)\n",
    "    lgbm_model.fit(X_train,Y_train)\n",
    "    lgbm_y_pred = lgbm_model.predict(X_test)\n",
    "    accuracy = accuracy_score(Y_test, lgbm_y_pred)\n",
    "    f1 = f1_score(Y_test, lgbm_y_pred)\n",
    "    lgbm_all_random_seeds_accuracy.append(accuracy)\n",
    "    lgbm_all_random_seeds_f1.append(f1)"
   ]
  },
  {
   "cell_type": "code",
   "execution_count": 390,
   "id": "00b5588a-ef63-4bc6-8b65-8705e1b3309d",
   "metadata": {},
   "outputs": [
    {
     "data": {
      "text/plain": [
       "0.7653846153846154"
      ]
     },
     "execution_count": 390,
     "metadata": {},
     "output_type": "execute_result"
    }
   ],
   "source": [
    "sum(lgbm_all_random_seeds_accuracy)/len(lgbm_all_random_seeds_accuracy)"
   ]
  },
  {
   "cell_type": "code",
   "execution_count": 392,
   "id": "88a191b2-e988-4610-9587-36700485b7e9",
   "metadata": {},
   "outputs": [
    {
     "data": {
      "text/plain": [
       "0.7990985345914188"
      ]
     },
     "execution_count": 392,
     "metadata": {},
     "output_type": "execute_result"
    }
   ],
   "source": [
    "sum(lgbm_all_random_seeds_f1)/len(lgbm_all_random_seeds_f1)"
   ]
  },
  {
   "cell_type": "markdown",
   "id": "e77bed40-e7dd-43eb-8ef9-08c864d8873b",
   "metadata": {},
   "source": [
    "#### from lightgbm import LGBMClassifier\n",
    "\n",
    "    "
   ]
  },
  {
   "cell_type": "code",
   "execution_count": 413,
   "id": "8a74c9fe-4b5d-46a7-b35c-0bf20ae58f89",
   "metadata": {},
   "outputs": [
    {
     "name": "stdout",
     "output_type": "stream",
     "text": [
      "Selected Features (True indicates selected): <class 'numpy.ndarray'>\n",
      "Feature Ranking (1 indicates selected): [1 2 1 1 1]\n",
      "Accuracy with selected features: 0.6153846153846154\n",
      "[{'Random Seed': 392, 'X1': True, 'X3': False, 'X4': True, 'X5': True, 'X6': True, 'Accuracy': 0.6153846153846154}]\n",
      "-----------------------------\n",
      "Selected Features (True indicates selected): <class 'numpy.ndarray'>\n",
      "Feature Ranking (1 indicates selected): [1 2 1 1 1]\n",
      "Accuracy with selected features: 0.6153846153846154\n",
      "[{'Random Seed': 406, 'X1': True, 'X3': False, 'X4': True, 'X5': True, 'X6': True, 'Accuracy': 0.6153846153846154}]\n",
      "-----------------------------\n",
      "Selected Features (True indicates selected): <class 'numpy.ndarray'>\n",
      "Feature Ranking (1 indicates selected): [1 2 1 1 1]\n",
      "Accuracy with selected features: 0.6153846153846154\n",
      "[{'Random Seed': 393, 'X1': True, 'X3': False, 'X4': True, 'X5': True, 'X6': True, 'Accuracy': 0.6153846153846154}]\n",
      "-----------------------------\n",
      "Selected Features (True indicates selected): <class 'numpy.ndarray'>\n",
      "Feature Ranking (1 indicates selected): [1 2 1 1 1]\n",
      "Accuracy with selected features: 0.6153846153846154\n",
      "[{'Random Seed': 221, 'X1': True, 'X3': False, 'X4': True, 'X5': True, 'X6': True, 'Accuracy': 0.6153846153846154}]\n",
      "-----------------------------\n",
      "Selected Features (True indicates selected): <class 'numpy.ndarray'>\n",
      "Feature Ranking (1 indicates selected): [1 2 1 1 1]\n",
      "Accuracy with selected features: 0.6153846153846154\n",
      "[{'Random Seed': 845, 'X1': True, 'X3': False, 'X4': True, 'X5': True, 'X6': True, 'Accuracy': 0.6153846153846154}]\n",
      "-----------------------------\n",
      "Selected Features (True indicates selected): <class 'numpy.ndarray'>\n",
      "Feature Ranking (1 indicates selected): [1 2 1 1 1]\n",
      "Accuracy with selected features: 0.6153846153846154\n",
      "[{'Random Seed': 638, 'X1': True, 'X3': False, 'X4': True, 'X5': True, 'X6': True, 'Accuracy': 0.6153846153846154}]\n",
      "-----------------------------\n",
      "Selected Features (True indicates selected): <class 'numpy.ndarray'>\n",
      "Feature Ranking (1 indicates selected): [1 2 1 1 1]\n",
      "Accuracy with selected features: 0.6153846153846154\n",
      "[{'Random Seed': 226, 'X1': True, 'X3': False, 'X4': True, 'X5': True, 'X6': True, 'Accuracy': 0.6153846153846154}]\n",
      "-----------------------------\n",
      "Selected Features (True indicates selected): <class 'numpy.ndarray'>\n",
      "Feature Ranking (1 indicates selected): [1 2 1 1 1]\n",
      "Accuracy with selected features: 0.6153846153846154\n",
      "[{'Random Seed': 958, 'X1': True, 'X3': False, 'X4': True, 'X5': True, 'X6': True, 'Accuracy': 0.6153846153846154}]\n",
      "-----------------------------\n",
      "Selected Features (True indicates selected): <class 'numpy.ndarray'>\n",
      "Feature Ranking (1 indicates selected): [1 2 1 1 1]\n",
      "Accuracy with selected features: 0.6153846153846154\n",
      "[{'Random Seed': 660, 'X1': True, 'X3': False, 'X4': True, 'X5': True, 'X6': True, 'Accuracy': 0.6153846153846154}]\n",
      "-----------------------------\n",
      "Selected Features (True indicates selected): <class 'numpy.ndarray'>\n",
      "Feature Ranking (1 indicates selected): [1 2 1 1 1]\n",
      "Accuracy with selected features: 0.6153846153846154\n",
      "[{'Random Seed': 491, 'X1': True, 'X3': False, 'X4': True, 'X5': True, 'X6': True, 'Accuracy': 0.6153846153846154}]\n",
      "-----------------------------\n"
     ]
    }
   ],
   "source": [
    "from sklearn.feature_selection import RFE\n",
    "all_seeds_features=pd.DataFrame(columns=[\"Random Seed\",\"X1\",\"X3\",\"X4\",\"X5\",\"X6\",\"Accuracy\"])\n",
    "for state in random_states:\n",
    "    X_train, X_test, y_train, y_test = train_test_split(x, y, test_size=0.2, random_state=42)\n",
    "    lgbm=LGBMClassifier(verbose=-100,random_state=state)\n",
    "    rfe=RFE(estimator=lgbm,n_features_to_select=4,step=4)\n",
    "    rfe.fit(X_train,y_train)\n",
    "    selected_features=rfe.support_\n",
    "    ranking=rfe.ranking_\n",
    "    x_train_rfe=rfe.transform(X_train)\n",
    "    x_test_rfe=rfe.transform(X_test)\n",
    "    lgbm.fit(x_train_rfe,y_train)\n",
    "    y_pred=lgbm.predict(x_test_rfe)\n",
    "    accuracy=accuracy_score(y_test,y_pred)\n",
    "    print(\"Selected Features (True indicates selected):\", type(selected_features))\n",
    "    print(\"Feature Ranking (1 indicates selected):\", ranking)\n",
    "    print(\"Accuracy with selected features:\", accuracy)\n",
    "    seeds_row=[{\"Random Seed\":state, \"X1\":selected_features[0],\"X3\":selected_features[1],\"X4\":selected_features[2],\"X5\":selected_features[3],\"X6\":selected_features[4],\n",
    "                \"Accuracy\":accuracy}]\n",
    "    print(seeds_row)\n",
    "    print(\"-----------------------------\")\n",
    "    all_seeds_features=pd.concat([all_seeds_features,pd.DataFrame(seeds_row)],ignore_index=True)"
   ]
  },
  {
   "cell_type": "code",
   "execution_count": 397,
   "id": "e6a9ceae-938c-4252-85e4-dfc8cc72d7c5",
   "metadata": {},
   "outputs": [
    {
     "data": {
      "text/html": [
       "<div>\n",
       "<style scoped>\n",
       "    .dataframe tbody tr th:only-of-type {\n",
       "        vertical-align: middle;\n",
       "    }\n",
       "\n",
       "    .dataframe tbody tr th {\n",
       "        vertical-align: top;\n",
       "    }\n",
       "\n",
       "    .dataframe thead th {\n",
       "        text-align: right;\n",
       "    }\n",
       "</style>\n",
       "<table border=\"1\" class=\"dataframe\">\n",
       "  <thead>\n",
       "    <tr style=\"text-align: right;\">\n",
       "      <th></th>\n",
       "      <th>Random Seed</th>\n",
       "      <th>X1</th>\n",
       "      <th>X3</th>\n",
       "      <th>X4</th>\n",
       "      <th>X5</th>\n",
       "      <th>X6</th>\n",
       "      <th>Accuracy</th>\n",
       "    </tr>\n",
       "  </thead>\n",
       "  <tbody>\n",
       "    <tr>\n",
       "      <th>0</th>\n",
       "      <td>392</td>\n",
       "      <td>True</td>\n",
       "      <td>False</td>\n",
       "      <td>True</td>\n",
       "      <td>True</td>\n",
       "      <td>True</td>\n",
       "      <td>0.62</td>\n",
       "    </tr>\n",
       "    <tr>\n",
       "      <th>1</th>\n",
       "      <td>406</td>\n",
       "      <td>True</td>\n",
       "      <td>False</td>\n",
       "      <td>True</td>\n",
       "      <td>True</td>\n",
       "      <td>True</td>\n",
       "      <td>0.62</td>\n",
       "    </tr>\n",
       "    <tr>\n",
       "      <th>2</th>\n",
       "      <td>393</td>\n",
       "      <td>True</td>\n",
       "      <td>False</td>\n",
       "      <td>True</td>\n",
       "      <td>True</td>\n",
       "      <td>True</td>\n",
       "      <td>0.62</td>\n",
       "    </tr>\n",
       "    <tr>\n",
       "      <th>3</th>\n",
       "      <td>221</td>\n",
       "      <td>True</td>\n",
       "      <td>False</td>\n",
       "      <td>True</td>\n",
       "      <td>True</td>\n",
       "      <td>True</td>\n",
       "      <td>0.62</td>\n",
       "    </tr>\n",
       "    <tr>\n",
       "      <th>4</th>\n",
       "      <td>845</td>\n",
       "      <td>True</td>\n",
       "      <td>False</td>\n",
       "      <td>True</td>\n",
       "      <td>True</td>\n",
       "      <td>True</td>\n",
       "      <td>0.62</td>\n",
       "    </tr>\n",
       "    <tr>\n",
       "      <th>5</th>\n",
       "      <td>638</td>\n",
       "      <td>True</td>\n",
       "      <td>False</td>\n",
       "      <td>True</td>\n",
       "      <td>True</td>\n",
       "      <td>True</td>\n",
       "      <td>0.62</td>\n",
       "    </tr>\n",
       "    <tr>\n",
       "      <th>6</th>\n",
       "      <td>226</td>\n",
       "      <td>True</td>\n",
       "      <td>False</td>\n",
       "      <td>True</td>\n",
       "      <td>True</td>\n",
       "      <td>True</td>\n",
       "      <td>0.62</td>\n",
       "    </tr>\n",
       "    <tr>\n",
       "      <th>7</th>\n",
       "      <td>958</td>\n",
       "      <td>True</td>\n",
       "      <td>False</td>\n",
       "      <td>True</td>\n",
       "      <td>True</td>\n",
       "      <td>True</td>\n",
       "      <td>0.62</td>\n",
       "    </tr>\n",
       "    <tr>\n",
       "      <th>8</th>\n",
       "      <td>660</td>\n",
       "      <td>True</td>\n",
       "      <td>False</td>\n",
       "      <td>True</td>\n",
       "      <td>True</td>\n",
       "      <td>True</td>\n",
       "      <td>0.62</td>\n",
       "    </tr>\n",
       "    <tr>\n",
       "      <th>9</th>\n",
       "      <td>491</td>\n",
       "      <td>True</td>\n",
       "      <td>False</td>\n",
       "      <td>True</td>\n",
       "      <td>True</td>\n",
       "      <td>True</td>\n",
       "      <td>0.62</td>\n",
       "    </tr>\n",
       "  </tbody>\n",
       "</table>\n",
       "</div>"
      ],
      "text/plain": [
       "  Random Seed    X1     X3    X4    X5    X6  Accuracy\n",
       "0         392  True  False  True  True  True      0.62\n",
       "1         406  True  False  True  True  True      0.62\n",
       "2         393  True  False  True  True  True      0.62\n",
       "3         221  True  False  True  True  True      0.62\n",
       "4         845  True  False  True  True  True      0.62\n",
       "5         638  True  False  True  True  True      0.62\n",
       "6         226  True  False  True  True  True      0.62\n",
       "7         958  True  False  True  True  True      0.62\n",
       "8         660  True  False  True  True  True      0.62\n",
       "9         491  True  False  True  True  True      0.62"
      ]
     },
     "execution_count": 397,
     "metadata": {},
     "output_type": "execute_result"
    }
   ],
   "source": [
    "all_seeds_features"
   ]
  },
  {
   "cell_type": "markdown",
   "id": "4bed55f1-6260-4322-970a-af2edc144f16",
   "metadata": {},
   "source": [
    "Recursive Feature Elimination (RFE) using LGBMClassifier has demonstrated that all the remaining features are essential. Therefore, we will retain all five remaining features."
   ]
  },
  {
   "cell_type": "code",
   "execution_count": 400,
   "id": "2f25f435-edbc-45bc-a2ed-e71952cef5d7",
   "metadata": {},
   "outputs": [
    {
     "name": "stdout",
     "output_type": "stream",
     "text": [
      "Defaulting to user installation because normal site-packages is not writeable\n",
      "Requirement already satisfied: hyperopt in c:\\users\\ali zoljodi\\appdata\\roaming\\python\\python312\\site-packages (0.2.7)\n",
      "Requirement already satisfied: numpy in c:\\programdata\\anaconda3\\lib\\site-packages (from hyperopt) (1.26.4)\n",
      "Requirement already satisfied: scipy in c:\\programdata\\anaconda3\\lib\\site-packages (from hyperopt) (1.13.1)\n",
      "Requirement already satisfied: six in c:\\programdata\\anaconda3\\lib\\site-packages (from hyperopt) (1.16.0)\n",
      "Requirement already satisfied: networkx>=2.2 in c:\\programdata\\anaconda3\\lib\\site-packages (from hyperopt) (3.3)\n",
      "Requirement already satisfied: future in c:\\users\\ali zoljodi\\appdata\\roaming\\python\\python312\\site-packages (from hyperopt) (1.0.0)\n",
      "Requirement already satisfied: tqdm in c:\\programdata\\anaconda3\\lib\\site-packages (from hyperopt) (4.66.5)\n",
      "Requirement already satisfied: cloudpickle in c:\\programdata\\anaconda3\\lib\\site-packages (from hyperopt) (3.0.0)\n",
      "Requirement already satisfied: py4j in c:\\users\\ali zoljodi\\appdata\\roaming\\python\\python312\\site-packages (from hyperopt) (0.10.9.7)\n",
      "Requirement already satisfied: colorama in c:\\programdata\\anaconda3\\lib\\site-packages (from tqdm->hyperopt) (0.4.6)\n"
     ]
    }
   ],
   "source": [
    "!pip install hyperopt"
   ]
  },
  {
   "cell_type": "code",
   "execution_count": 401,
   "id": "f97766ac-2bdd-44a9-84ec-e14867a58d0c",
   "metadata": {},
   "outputs": [],
   "source": [
    "### Hyperparameter tuning using HyperOpt\n",
    "from hyperopt import fmin, tpe, hp, Trials, STATUS_OK\n",
    "from sklearn.model_selection import cross_val_score\n"
   ]
  },
  {
   "cell_type": "markdown",
   "id": "b3c519be-25ee-4c02-a71d-cae101269320",
   "metadata": {},
   "source": [
    "### Support Vector Machine\n",
    "We train, SVC on the entire dataset, Then, because of low accuracy, we decide to investigate more on input\n",
    "features. By incorporating the recursive feature elimination technique, we found that the model can perform better\n",
    "with three features X1,X3 and, X5. The best accuracy we achieve after hyperparameters optimization is 72.7%."
   ]
  },
  {
   "cell_type": "code",
   "execution_count": 405,
   "id": "26699290-ad1b-4795-ba4a-2ba11867c1af",
   "metadata": {},
   "outputs": [],
   "source": [
    "from sklearn.svm import SVC\n",
    "from sklearn.model_selection import GridSearchCV\n"
   ]
  },
  {
   "cell_type": "code",
   "execution_count": 407,
   "id": "24a8d43b-db01-4a26-aa58-6064c5de02c7",
   "metadata": {},
   "outputs": [
    {
     "name": "stdout",
     "output_type": "stream",
     "text": [
      "Results DataFrame:\n",
      "  Random_State  Accuracy  F1_Score\n",
      "0          392      0.73      0.77\n",
      "1          406      0.73      0.77\n",
      "2          393      0.73      0.77\n",
      "3          221      0.69      0.76\n",
      "4          845      0.65      0.73\n",
      "5          638      0.73      0.79\n",
      "6          226      0.62      0.69\n",
      "7          958      0.65      0.73\n",
      "8          660      0.69      0.75\n",
      "9          491      0.69      0.67\n",
      "\n",
      "Average Accuracy: 0.6923\n",
      "Average F1 Score: 0.7434\n"
     ]
    }
   ],
   "source": [
    "results_df = pd.DataFrame(columns=[\"Random_State\", \"Accuracy\", \"F1_Score\"])\n",
    "\n",
    "# Loop over different random states\n",
    "for state in random_states:\n",
    "    # Split the data\n",
    "    X_train, X_test, y_train, y_test = train_test_split(\n",
    "        x, y, test_size=0.2, random_state=state\n",
    "    )\n",
    "    \n",
    "    # Scale the features using MinMaxScaler\n",
    "    scaler = MinMaxScaler()\n",
    "    X_train_scaled = scaler.fit_transform(X_train)\n",
    "    X_test_scaled = scaler.transform(X_test)\n",
    "    \n",
    "    # Train an SVC model\n",
    "    svc = SVC(kernel='rbf', C=1.0, gamma='scale', random_state=state)\n",
    "    svc.fit(X_train_scaled, y_train)\n",
    "    \n",
    "    # Make predictions\n",
    "    y_pred = svc.predict(X_test_scaled)\n",
    "    \n",
    "    # Calculate metrics\n",
    "    accuracy = accuracy_score(y_test, y_pred)\n",
    "    f1 = f1_score(y_test, y_pred)\n",
    "\n",
    "    # Append results to the DataFrame\n",
    "    results_df = pd.concat([results_df, pd.DataFrame({\n",
    "        \"Random_State\": [state],\n",
    "        \"Accuracy\": [accuracy],\n",
    "        \"F1_Score\": [f1]\n",
    "    })], ignore_index=True)\n",
    "\n",
    "# Display the results DataFrame\n",
    "print(\"Results DataFrame:\")\n",
    "print(results_df)\n",
    "\n",
    "# Calculate and print averages\n",
    "average_accuracy = results_df[\"Accuracy\"].mean()\n",
    "average_f1 = results_df[\"F1_Score\"].mean()\n",
    "\n",
    "print(f\"\\nAverage Accuracy: {average_accuracy:.4f}\")\n",
    "print(f\"Average F1 Score: {average_f1:.4f}\")"
   ]
  },
  {
   "cell_type": "code",
   "execution_count": 409,
   "id": "0dc99440-d7f1-4f6c-b2b2-1dd5f1205f80",
   "metadata": {},
   "outputs": [
    {
     "name": "stdout",
     "output_type": "stream",
     "text": [
      "Results DataFrame:\n",
      "  Random_State Best_C Best_Gamma  Accuracy  F1_Score Deleted_Features\n",
      "0          392      1      scale      0.77      0.80           [2, 4]\n",
      "1          406     10         10      0.73      0.79           [2, 4]\n",
      "2          393     10         10      0.77      0.83           [2, 4]\n",
      "3          221     10         10      0.65      0.73           [2, 4]\n",
      "4          845      1         10      0.77      0.81           [2, 4]\n",
      "5          638      1       0.10      0.73      0.84           [2, 4]\n",
      "6          226      1      scale      0.73      0.76           [2, 4]\n",
      "7          958      1          1      0.73      0.79           [2, 4]\n",
      "8          660      1         10      0.65      0.71           [2, 4]\n",
      "9          491     10       0.10      0.73      0.72           [2, 4]\n",
      "\n",
      "Average Accuracy: 0.7269\n",
      "Average F1 Score: 0.7774\n",
      "\n",
      "Deleted Features: Index(['X4', 'X6'], dtype='object')\n"
     ]
    }
   ],
   "source": [
    "results_df = pd.DataFrame(columns=[\"Random_State\", \"Best_C\", \"Best_Gamma\", \"Accuracy\", \"F1_Score\", \"Deleted_Features\"])\n",
    "\n",
    "# Perform RFE for feature selection on the entire dataset\n",
    "selector = RFE(LogisticRegression(max_iter=1000), n_features_to_select=3)  # Select top 10 features\n",
    "X_selected = selector.fit_transform(x, y)\n",
    "\n",
    "# Identify deleted features\n",
    "feature_names = list(range(x.shape[1]))  # Assuming features are numbered 0, 1, ..., n\n",
    "selected_features = list(np.array(feature_names)[selector.support_])\n",
    "deleted_features = list(np.array(feature_names)[~selector.support_])\n",
    "\n",
    "# Loop over different random states\n",
    "for state in random_states:\n",
    "    # Split the data\n",
    "    X_train, X_test, y_train, y_test = train_test_split(\n",
    "        X_selected, y, test_size=0.2, random_state=state\n",
    "    )\n",
    "    \n",
    "    # Scale the features using MinMaxScaler\n",
    "    scaler = MinMaxScaler()\n",
    "    X_train_scaled = scaler.fit_transform(X_train)\n",
    "    X_test_scaled = scaler.transform(X_test)\n",
    "\n",
    "    # Define the hyperparameter grid for SVC\n",
    "    param_grid = {\n",
    "        \"C\": [0.1, 1, 10],  # Regularization parameter\n",
    "        \"gamma\": [\"scale\", 0.1, 1, 10],  # Kernel coefficient\n",
    "        \"kernel\": [\"rbf\"]  # Use RBF kernel\n",
    "    }\n",
    "\n",
    "    # Perform GridSearchCV to find the best hyperparameters\n",
    "    grid_search = GridSearchCV(\n",
    "        SVC(random_state=state),\n",
    "        param_grid,\n",
    "        scoring=\"accuracy\",\n",
    "        cv=5,  # 5-fold cross-validation\n",
    "        n_jobs=-1\n",
    "    )\n",
    "    grid_search.fit(X_train_scaled, y_train)\n",
    "\n",
    "    # Get the best parameters and train the final model\n",
    "    best_params = grid_search.best_params_\n",
    "    best_svc = grid_search.best_estimator_\n",
    "\n",
    "    # Make predictions\n",
    "    y_pred = best_svc.predict(X_test_scaled)\n",
    "\n",
    "    # Calculate metrics\n",
    "    accuracy = accuracy_score(y_test, y_pred)\n",
    "    f1 = f1_score(y_test, y_pred)\n",
    "\n",
    "    # Append results to the DataFrame\n",
    "    new_row = pd.DataFrame({\n",
    "        \"Random_State\": [state],\n",
    "        \"Best_C\": [best_params[\"C\"]],\n",
    "        \"Best_Gamma\": [best_params[\"gamma\"]],\n",
    "        \"Accuracy\": [accuracy],\n",
    "        \"F1_Score\": [f1],\n",
    "        \"Deleted_Features\": [deleted_features]\n",
    "    })\n",
    "    results_df = pd.concat([results_df, new_row], ignore_index=True)\n",
    "\n",
    "# Display the results DataFrame\n",
    "print(\"Results DataFrame:\")\n",
    "print(results_df)\n",
    "\n",
    "# Calculate and print averages\n",
    "average_accuracy = results_df[\"Accuracy\"].mean()\n",
    "average_f1 = results_df[\"F1_Score\"].mean()\n",
    "\n",
    "print(f\"\\nAverage Accuracy: {average_accuracy:.4f}\")\n",
    "print(f\"Average F1 Score: {average_f1:.4f}\")\n",
    "print(f\"\\nDeleted Features: {new_dataset.iloc[:,1:].columns[deleted_features]}\")"
   ]
  },
  {
   "cell_type": "code",
   "execution_count": null,
   "id": "e0a87d43-3af8-42ea-844b-f53b4cae6934",
   "metadata": {},
   "outputs": [],
   "source": []
  }
 ],
 "metadata": {
  "kernelspec": {
   "display_name": "Python 3 (ipykernel)",
   "language": "python",
   "name": "python3"
  },
  "language_info": {
   "codemirror_mode": {
    "name": "ipython",
    "version": 3
   },
   "file_extension": ".py",
   "mimetype": "text/x-python",
   "name": "python",
   "nbconvert_exporter": "python",
   "pygments_lexer": "ipython3",
   "version": "3.12.7"
  }
 },
 "nbformat": 4,
 "nbformat_minor": 5
}
